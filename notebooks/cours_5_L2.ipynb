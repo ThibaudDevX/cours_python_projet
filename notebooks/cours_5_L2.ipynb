{
 "cells": [
  {
   "cell_type": "markdown",
   "metadata": {},
   "source": [
    "# 🐍 Cours 5 : Constructeurs, Modules et Encapsulation en Python\n",
    "\n",
    "---\n",
    "## 📌1. Le constructeur __init__\n",
    "\n",
    "En Python, **\\_\\_init\\_\\_** est une méthode spéciale appelée constructeur. Elle est automatiquement appelée lors de la création d'une nouvelle instance d'une classe. Cette méthode est utilisée pour initialiser les attributs de l'objet."
   ]
  },
  {
   "cell_type": "code",
   "execution_count": 2,
   "metadata": {},
   "outputs": [
    {
     "name": "stdout",
     "output_type": "stream",
     "text": [
      "État initial : endommagé\n",
      "Le système a été réparé avec succès !\n",
      "État final : réparé\n"
     ]
    }
   ],
   "source": [
    "#Exemple de __init__\n",
    "\n",
    "class SystemeDiagnostic:\n",
    "    def __init__(self):\n",
    "        self.etat = \"endommagé\"  \n",
    "        \n",
    "    def reparer(self):\n",
    "        self.etat = \"réparé\"\n",
    "        print(\"Le système a été réparé avec succès !\")\n",
    "\n",
    "diagnostic = SystemeDiagnostic()\n",
    "print(f\"État initial : {diagnostic.etat}\")\n",
    "diagnostic.reparer() \n",
    "print(f\"État final : {diagnostic.etat}\")"
   ]
  },
  {
   "cell_type": "code",
   "execution_count": 4,
   "metadata": {},
   "outputs": [
    {
     "name": "stdout",
     "output_type": "stream",
     "text": [
      "Réparation avec nanobots : en cours\n"
     ]
    }
   ],
   "source": [
    "class ReparationVaisseau:\n",
    "    def __init__(self, composant, etat):\n",
    "        self.composant = composant \n",
    "        self.etat = etat            \n",
    "\n",
    "    def afficher_info(self):\n",
    "        print(f\"Réparation avec {self.composant} : {self.etat}\")\n",
    "\n",
    "reparation1 = ReparationVaisseau(\"nanobots\", \"en cours\")\n",
    "reparation1.afficher_info()  "
   ]
  },
  {
   "cell_type": "markdown",
   "metadata": {},
   "source": [
    "\n",
    "--- \n",
    "\n",
    "## 📌2. Surchage des méthodes \n",
    "\n",
    "Contrairement à Java où on peut avoir plusieurs constructeurs (Cercle(), Cercle(rayon)), Python utilise un seul constructeur flexible avec des paramètres optionnels :"
   ]
  },
  {
   "cell_type": "code",
   "execution_count": 12,
   "metadata": {},
   "outputs": [
    {
     "name": "stdout",
     "output_type": "stream",
     "text": [
      "Outils: ['soudeur laser'], État: en cours\n"
     ]
    }
   ],
   "source": [
    "#Exemple de surchage \n",
    "\n",
    "class Reparation:\n",
    "    def __init__(self, composant=\"nanobots\", etat=\"en cours\"):  \n",
    "        self.outils = [composant] \n",
    "        self.etat = etat\n",
    "\n",
    "\n",
    "r1 = Reparation()                \n",
    "r2 = Reparation(\"soudeur laser\") \n",
    "r3 = Reparation(etat=\"terminée\")\n",
    "\n",
    "\n",
    "print(f\"Outils: {r2.outils}, État: {r2.etat}\")"
   ]
  },
  {
   "cell_type": "markdown",
   "metadata": {},
   "source": [
    "En utilisant **None**, le paramètres devient **optionnel**"
   ]
  },
  {
   "cell_type": "code",
   "execution_count": 13,
   "metadata": {},
   "outputs": [
    {
     "name": "stdout",
     "output_type": "stream",
     "text": [
      "Astronaute: Javier, Mission: inconnue\n"
     ]
    }
   ],
   "source": [
    "class Javier:\n",
    "    def __init__(self, nom, mission=None):  \n",
    "        self.nom = nom\n",
    "        self.mission = mission if mission else \"inconnue\"  \n",
    "\n",
    "j1 = Javier(\"Javier\", \"Réparation du moteur\")  \n",
    "j2 = Javier(\"Javier\")                          \n",
    "\n",
    "print(f\"Astronaute: {j1.nom}, Mission: {j2.mission}\")\n"
   ]
  },
  {
   "cell_type": "markdown",
   "metadata": {},
   "source": [
    "\n",
    "--- \n",
    "\n",
    "## 📌3. Le mot clé self\n",
    "\n",
    "En Java, **this** fait référence à l'instance courante de la classe, tandis qu'en Python c'est **self** qui joue ce rôle, et il doit être explicitement déclaré comme **premier paramètre de chaque méthode d'instance**."
   ]
  },
  {
   "cell_type": "code",
   "execution_count": 14,
   "metadata": {},
   "outputs": [
    {
     "name": "stdout",
     "output_type": "stream",
     "text": [
      "Coordonnées : (100, 200)\n",
      "Coordonnées : (300, 400)\n"
     ]
    }
   ],
   "source": [
    "#Exemple de self\n",
    "\n",
    "class Coordonnee:\n",
    "    def __init__(self, x, y):\n",
    "        self.x = x  # self.x = attribut, x = paramètre\n",
    "        self.y = y\n",
    "\n",
    "    def afficher(self):\n",
    "        print(f\"Coordonnées : ({self.x}, {self.y})\")\n",
    "\n",
    "# Javier doit naviguer vers certaines coordonnées pour réparer le vaisseau\n",
    "c1 = Coordonnee(100, 200)\n",
    "c2 = Coordonnee(300, 400)\n",
    "\n",
    "# Afficher les coordonnées\n",
    "c1.afficher()\n",
    "c2.afficher()\n"
   ]
  },
  {
   "cell_type": "markdown",
   "metadata": {},
   "source": [
    "\n",
    "--- \n",
    "\n",
    "## 📌4. Encapsulation\n",
    "\n",
    "Python utilise des conventions (pas de modificateurs comme private) :\n",
    "* **\\_attribut** &nbsp; &nbsp; : Protégé (accessible mais à éviter)\n",
    "* **\\_\\_attribut** &nbsp; : Privé (renommé par Python via name mangling)\n",
    "* **Pas de _**  &nbsp;  &nbsp; : Public\n"
   ]
  },
  {
   "cell_type": "code",
   "execution_count": 17,
   "metadata": {},
   "outputs": [
    {
     "name": "stdout",
     "output_type": "stream",
     "text": [
      "diagnostic initial\n",
      "procédures de réparation\n"
     ]
    }
   ],
   "source": [
    "# Exemple d'encapsulation\n",
    "\n",
    "class PlanReparation:\n",
    "    def __init__(self):\n",
    "        self.publique = \"diagnostic initial\"\n",
    "        self._secrete = \"procédures de réparation\"\n",
    "        self.__top_secret = \"codes d'accès au système\"\n",
    "\n",
    "# Test :\n",
    "plan = PlanReparation()\n",
    "print(plan.publique)   # OK : Affiche le diagnostic initial\n",
    "print(plan._secrete)   # Possible mais pas recommandé : Affiche les procédures de réparation\n",
    "\n"
   ]
  },
  {
   "cell_type": "code",
   "execution_count": 18,
   "metadata": {},
   "outputs": [
    {
     "ename": "AttributeError",
     "evalue": "'PlanReparation' object has no attribute '__top_secret'",
     "output_type": "error",
     "traceback": [
      "\u001b[0;31m---------------------------------------------------------------------------\u001b[0m",
      "\u001b[0;31mAttributeError\u001b[0m                            Traceback (most recent call last)",
      "Cell \u001b[0;32mIn[18], line 1\u001b[0m\n\u001b[0;32m----> 1\u001b[0m \u001b[38;5;28mprint\u001b[39m(\u001b[43mplan\u001b[49m\u001b[38;5;241;43m.\u001b[39;49m\u001b[43m__top_secret\u001b[49m)  \u001b[38;5;66;03m# Erreur ! Les codes d'accès sont top secret\u001b[39;00m\n",
      "\u001b[0;31mAttributeError\u001b[0m: 'PlanReparation' object has no attribute '__top_secret'"
     ]
    }
   ],
   "source": [
    "print(plan.__top_secret)  # Erreur ! Les codes d'accès sont top secret"
   ]
  }
 ],
 "metadata": {
  "kernelspec": {
   "display_name": "Python 3",
   "language": "python",
   "name": "python3"
  },
  "language_info": {
   "codemirror_mode": {
    "name": "ipython",
    "version": 3
   },
   "file_extension": ".py",
   "mimetype": "text/x-python",
   "name": "python",
   "nbconvert_exporter": "python",
   "pygments_lexer": "ipython3",
   "version": "3.10.2"
  }
 },
 "nbformat": 4,
 "nbformat_minor": 2
}
