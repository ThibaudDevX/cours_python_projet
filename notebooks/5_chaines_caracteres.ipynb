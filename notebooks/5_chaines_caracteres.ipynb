{
 "cells": [
  {
   "cell_type": "markdown",
   "id": "863de688-40b5-4647-8090-dd45f50ee41f",
   "metadata": {},
   "source": [
    "# 🐍 Les Chaînes de Caractères"
   ]
  },
  {
   "cell_type": "markdown",
   "id": "6e84fe31",
   "metadata": {},
   "source": [
    "## 📌 1. Qu’est-ce qu’une chaîne de caractères ?\n",
    "\n",
    "Une chaîne de caractères (ou string) est une suite de lettres, chiffres, symboles, encadrée par des guillemets (\" ou ')."
   ]
  },
  {
   "cell_type": "code",
   "execution_count": 1,
   "id": "c24c6294-1a71-4657-b904-5962ea4c3459",
   "metadata": {},
   "outputs": [],
   "source": [
    "message = \"Bonjour\"\n",
    "nom = 'Javier'"
   ]
  },
  {
   "cell_type": "markdown",
   "id": "5922f8e4-ef1e-42b0-b843-b07b323f7deb",
   "metadata": {},
   "source": [
    "---\n",
    "\n",
    "## 📌 2. Concaténation (assembler des chaînes)\n",
    "\n",
    "On peut coller deux chaînes ensemble avec l’opérateur + :"
   ]
  },
  {
   "cell_type": "code",
   "execution_count": 2,
   "id": "a69ce5be-01bb-4d77-917d-89735d812330",
   "metadata": {},
   "outputs": [
    {
     "name": "stdout",
     "output_type": "stream",
     "text": [
      "Bonjour Javier\n"
     ]
    }
   ],
   "source": [
    "prenom = \"Javier\"\n",
    "message = \"Bonjour \" + prenom\n",
    "print(message)"
   ]
  },
  {
   "cell_type": "markdown",
   "id": "1fa6208e",
   "metadata": {},
   "source": [
    "Peu après votre départ du vaisseau marchand vous croisez un navire de la police vous demandant votre identité et votre destination. Trouvez un moyen de compléter le formulaire qu'ils vous ont envoyé."
   ]
  },
  {
   "cell_type": "code",
   "execution_count": null,
   "id": "1a720aa5",
   "metadata": {},
   "outputs": [
    {
     "name": "stdout",
     "output_type": "stream",
     "text": [
      "Ici le vaisseau UGA-25, en route vers Mars.\n"
     ]
    }
   ],
   "source": [
    "# À compléter :\n",
    "immatriculation = \"UGA-25\"\n",
    "destination = \"Mars\"\n",
    "\n",
    "formulaire = \"Ici le vaisseau \" ... ... ... \", en route vers \" ... ... ... \".\"\n",
    "print(formulaire)"
   ]
  },
  {
   "cell_type": "markdown",
   "id": "9ff09505-e8d1-440c-9b2d-89e6c1ab7358",
   "metadata": {},
   "source": [
    "---\n",
    "\n",
    "## 📌 3. Ajouter des caractères spéciaux\n",
    "•\t\\n pour aller à la ligne\n",
    "\n",
    "•\t\\t pour une tabulation\n",
    "\n",
    "•\t\\\\ pour afficher un antislash"
   ]
  },
  {
   "cell_type": "code",
   "execution_count": 5,
   "id": "8e2a5a9c-9ec5-4523-912e-fb6c84b1b99f",
   "metadata": {},
   "outputs": [
    {
     "name": "stdout",
     "output_type": "stream",
     "text": [
      "Ci-dessous le nom du vaisseau\n",
      "UGA-25\n"
     ]
    }
   ],
   "source": [
    "print(\"Ci-dessous le nom du vaisseau\\nUGA-25\")"
   ]
  },
  {
   "cell_type": "markdown",
   "id": "cedb61aa",
   "metadata": {},
   "source": [
    "Aussi pour afficher des variables plus facilement tu peux utiliser f\"\" et mettre tes variables entre {} :"
   ]
  },
  {
   "cell_type": "code",
   "execution_count": 3,
   "id": "b6764141",
   "metadata": {},
   "outputs": [
    {
     "name": "stdout",
     "output_type": "stream",
     "text": [
      "Bienvenue à bord de l'UGA-25 !\n"
     ]
    }
   ],
   "source": [
    "nom_vaisseau = \"UGA-25\"\n",
    "\n",
    "print(f\"Bienvenue à bord de l'{nom_vaisseau} !\")"
   ]
  },
  {
   "cell_type": "markdown",
   "id": "c049bca5-7030-409c-a0e5-a07c243e208b",
   "metadata": {},
   "source": [
    "---\n",
    "\n",
    "## 📌 4. Accéder à une caractere ou a un ensemble de caracteres\n",
    "\n",
    "Chaque caractère a une position (indice) à partir de 0 :"
   ]
  },
  {
   "cell_type": "code",
   "execution_count": null,
   "id": "e05209ff-2f7c-4bc2-ab1c-fac125290cca",
   "metadata": {},
   "outputs": [
    {
     "name": "stdout",
     "output_type": "stream",
     "text": [
      "M\n",
      "s\n",
      "Mar\n",
      "rs\n",
      "Mars\n"
     ]
    }
   ],
   "source": [
    "texte = \"Mars\"\n",
    "\n",
    "print(texte[0]) # caractère à l'indice 0\n",
    "print(texte[-1]) # caractère à l'indice -1 en partant de la fin\n",
    "\n",
    "print(texte[0:3]) # caractères de l'indice 0 à 3 \n",
    "print(texte[2:]) # caractères de l'indice 2 à la fin\n",
    "print(texte[:4]) # caractères du début à l'indice 4"
   ]
  },
  {
   "cell_type": "code",
   "execution_count": null,
   "id": "fed59bbc",
   "metadata": {},
   "outputs": [
    {
     "name": "stdout",
     "output_type": "stream",
     "text": [
      "Le vaisseau UGA-25 est de type VRS et se dirige vers MARS\n"
     ]
    }
   ],
   "source": [
    "code = \"VRS-UGA-25-MARS\"\n",
    "\n",
    "type = code[0:3]\n",
    "immatriculation = code[...]\n",
    "destination = code[...]\n",
    "\n",
    "print(\"Le vaisseau\", immatriculation, \"est de type\", type, \"et se dirige vers\", destination)"
   ]
  },
  {
   "cell_type": "markdown",
   "id": "6a594e53-cd6b-42d1-ac1d-a4b2aaf11517",
   "metadata": {},
   "source": [
    "## 📌 5. Quelques fonctions utiles\n",
    "\n",
    "On considère les fonctions suivantes appliquées sur la variable [texte]\n",
    "\n",
    "|    Fonctions     |   Description  |\n",
    "|------------------|------------------|\n",
    "| texte[i] | Donne la lettre à l'indice |\n",
    "| texte[i:j] | Donne les lettres d'un indice à l'autre |\n",
    "| len(texte) | Donne la longueur |\n",
    "| texte.upper() | Tout en majuscule |\n",
    "| texte.lower() | Tout en minuscule |\n",
    "| texte.replace(\"a\", \"b\") | Remplace un caractère par un autre|\n",
    "| text.find(\"a\") | Donne l'indice du caractère | \n",
    "| \"...\" in texte | Vérifie la présence d'une chaîne dans une autre |\n",
    "| texte.replace(\"a\", \"b\") | Remplace un caractère par un autre |\n",
    "\n",
    "Il existe d'autres évidemment d'autres fonctions qui peuvent se réveler utile à certains moments. C'est dans ces situations que consulter des sites comme : https://stackoverflow.com/questions... \n",
    "\n",
    "La système vous transmet un message mais il y a un petit problème d'affichage, on dirait que les 'a' on été remplacés par des '@' et les 'e' par des '3'. Essaye de résoudre ce problème à l'aide de la fonction [texte].replace('x', 'y')."
   ]
  },
  {
   "cell_type": "code",
   "execution_count": null,
   "id": "1456b432",
   "metadata": {},
   "outputs": [
    {
     "name": "stdout",
     "output_type": "stream",
     "text": [
      "Lancement de l'autopilote\n"
     ]
    }
   ],
   "source": [
    "message_bug = \"L@nc3m3nt d3 l'@utopilot3\"\n",
    "\n",
    "filtre_@ = ...\n",
    "filtre_3 = ...\n",
    "\n",
    "print(...)"
   ]
  }
 ],
 "metadata": {
  "kernelspec": {
   "display_name": "Python 3",
   "language": "python",
   "name": "python3"
  },
  "language_info": {
   "codemirror_mode": {
    "name": "ipython",
    "version": 3
   },
   "file_extension": ".py",
   "mimetype": "text/x-python",
   "name": "python",
   "nbconvert_exporter": "python",
   "pygments_lexer": "ipython3",
   "version": "3.10.7"
  }
 },
 "nbformat": 4,
 "nbformat_minor": 5
}
