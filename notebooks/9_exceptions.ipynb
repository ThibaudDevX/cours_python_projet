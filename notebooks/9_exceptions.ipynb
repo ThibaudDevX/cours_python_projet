{
 "cells": [
  {
   "cell_type": "markdown",
   "metadata": {},
   "source": [
    "# 4️⃣ Gestion des Exceptions\n",
    "\n",
    "## Pourquoi gérer les exceptions ?\n",
    "Les erreurs sont inévitables en programmation. Une exception est un signal indiquant qu'une erreur s'est produite.\n",
    "\n",
    "## Utilisation de `try-except`\n",
    "```python\n",
    "try:\n",
    "    x = int(input(\"Entrez un nombre: \"))\n",
    "    print(10 / x)\n",
    "except ZeroDivisionError:\n",
    "    print(\"Erreur : division par zéro !\")\n",
    "except ValueError:\n",
    "    print(\"Erreur : veuillez entrer un nombre valide !\")\n",
    "```\n",
    "\n",
    "## Exercice\n",
    "Créez un programme qui demande à l'utilisateur d'entrer un nombre entier. Gérez les erreurs si l'utilisateur entre autre chose qu'un nombre."
   ]
  }
 ],
 "metadata": {
  "language_info": {
   "name": "python"
  }
 },
 "nbformat": 4,
 "nbformat_minor": 2
}
