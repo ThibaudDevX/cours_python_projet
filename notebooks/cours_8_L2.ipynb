{
 "cells": [
  {
   "cell_type": "markdown",
   "metadata": {},
   "source": [
    "# 🐍 Cours 8 : Gestion des erreurs et exceptions \n",
    "---\n",
    "\n",
    "En Python comme dans l'espace, une bonne gestion des erreurs peut sauver votre mission ! 🚀   \n",
    "Python propose un système d'exceptions pour :\n",
    "\n",
    "* Prévoir les erreurs possibles\n",
    "\n",
    "* Intercepter les problèmes\n",
    "\n",
    "* Corriger ou propager les erreurs  \n",
    "   \n",
    "   \n",
    "\n",
    "Différence Java/Python :\n",
    "\n",
    "Java a des exceptions vérifiées (obligatoires) et non-vérifiées\n",
    "\n",
    "Python n'a que des exceptions non-vérifiées (tout est Runtime)\n",
    "  \n",
    "  \n",
    "**Pourquoi c'est important  ?** :\n",
    "\n",
    "* Permet de séparer la logique métier de la gestion des erreurs\n",
    "\n",
    "* Offre un mécanisme standardisé pour signaler les problèmes\n",
    "\n",
    "* Facilite le débogage avec des messages d'erreur clairs\n",
    "\n",
    "---\n",
    "## 📌1. Syntaxe de base des exceptions\n",
    "\n",
    "\n",
    "Le bloc **try/except** est utilisé pour gérer les exceptions qui peuvent survenir lors de l'exécution du code.   \n",
    "Le bloc **try** contient le code qui peut générer une exception, tandis que le bloc **except** contient le code pour gérer cette exception.\n",
    "\n"
   ]
  },
  {
   "cell_type": "code",
   "execution_count": 1,
   "metadata": {},
   "outputs": [
    {
     "name": "stdout",
     "output_type": "stream",
     "text": [
      "Oops! Division par zéro impossible.\n"
     ]
    }
   ],
   "source": [
    "try:\n",
    "    # Code risqué\n",
    "    resultat = 10 / 0\n",
    "except ZeroDivisionError:\n",
    "    print(\"Oops! Division par zéro impossible.\")"
   ]
  },
  {
   "cell_type": "markdown",
   "metadata": {},
   "source": [
    "\n",
    "---\n",
    "## 📌2. Hiérarchie des exceptions \n",
    "\n",
    "En Python, les exceptions sont organisées dans une hiérarchie de classes. La classe de base pour toutes les exceptions intégrées est **BaseException**. La plupart des exceptions que vous allez utiliser ou rencontrer dérivent de la classe **Exception**, qui est elle-même une sous-classe de **BaseException**.\n"
   ]
  },
  {
   "cell_type": "code",
   "execution_count": null,
   "metadata": {
    "vscode": {
     "languageId": "html"
    }
   },
   "outputs": [],
   "source": [
    "BaseException\n",
    " ├── KeyboardInterrupt (Ctrl+C)\n",
    " ├── SystemExit (sys.exit())\n",
    " └── Exception\n",
    "      ├── ValueError (mauvais type de valeur)\n",
    "      ├── TypeError (opération sur mauvais type)\n",
    "      ├── IndexError (hors limites liste)\n",
    "      └── ..."
   ]
  },
  {
   "cell_type": "code",
   "execution_count": 3,
   "metadata": {},
   "outputs": [],
   "source": [
    "def verifier_gravite(gravite):\n",
    "    if not isinstance(gravite, (int, float)):\n",
    "        raise TypeError(\"La gravité doit être numérique\")\n",
    "    if gravite <= 0:\n",
    "        raise ValueError(\"La gravité doit être positive\")"
   ]
  },
  {
   "cell_type": "markdown",
   "metadata": {},
   "source": [
    "* **TypeError** :    \n",
    "        Cette exception est levée lorsque le type de la variable gravite n'est ni int ni float. Cela signifie que la valeur fournie n'est pas numérique, ce qui est inapproprié pour représenter la gravité.\n",
    "\n",
    "* **ValueError** :  \n",
    "        Cette exception est levée lorsque la valeur de gravite est inférieure ou égale à zéro. Cela signifie que, même si le type est correct (numérique), la valeur elle-même n'est pas valide dans le contexte de l'application (la gravité doit être positive).\n",
    "\n",
    "\n",
    "\n",
    "---\n",
    "## 📌3. Exceptions personnalisées \n",
    "\n",
    "Les exceptions personnalisées permettent de créer des **types d'erreurs spécifiques à votre application**, ce qui peut rendre le code plus lisible et faciliter la gestion des erreurs."
   ]
  },
  {
   "cell_type": "code",
   "execution_count": 5,
   "metadata": {},
   "outputs": [],
   "source": [
    "class ErreurNavigation(Exception): # ErreurNavigation hérite de Exception\n",
    "    \"\"\"Base pour les erreurs de navigation\"\"\"\n",
    "\n",
    "    def __init__(self, message, coordonnees=None):\n",
    "        super().__init__(message) # appelle le constructeur de la classe parente Exception pour initialiser le message d'erreur.\n",
    "        self.coordonnees = coordonnees\n",
    "\n",
    "\n",
    "class ErreurCarburant(ErreurNavigation): # héritte de ErreurNavigation\n",
    "    \"\"\"Erreur spécifique au carburant\"\"\"\n",
    "\n",
    "    def __init__(self, restant, necessaire):\n",
    "        message = f\"Carburant insuffisant: {restant}/{necessaire}\"\n",
    "        super().__init__(message) # appelle le constructeur de ErreurNavigation, initialisant ainsi le message d'erreur.\n"
   ]
  },
  {
   "cell_type": "markdown",
   "metadata": {},
   "source": [
    "\n",
    "---\n",
    "\n",
    "## 📌4. Comparaison Java/Python\n",
    "\n",
    "| Concept                | Java                                  | Python                                |\n",
    "|------------------------|---------------------------------------|---------------------------------------|\n",
    "| **Syntaxe**            | `try/catch/finally`                   | `try/except/finally`                  |\n",
    "| **Exceptions vérifiées** | Oui (obligatoires avec `throws`)     | Non (toutes unchecked)                |\n",
    "| **Hiérarchie**         | `Throwable` > `Exception` > `RuntimeException` | `BaseException` > `Exception`      |\n",
    "| **Propagation**        | Déclarée avec `throws`                | Implicite (pas de déclaration)        |\n",
    "\n",
    "\n",
    "\n",
    "- ✅ **Avantage Java** : Plus rigoureux, détection précoce  \n",
    "- ✅ **Avantage Python** : Plus flexible, moins verbeux  \n",
    "- 🔄 **Différence syntaxique** : Approche différente pour un même concept"
   ]
  },
  {
   "cell_type": "markdown",
   "metadata": {},
   "source": [
    "\n",
    "---\n",
    "\n",
    "## 5. Exercice : Module de réparation\n",
    "\n",
    " J-4V1-3R doit gérer le module de réparation du vaisseau , qui utilise une énergie limitée pour réparer les systèmes endommagés.\n",
    "\n",
    "**Mission :**\n",
    "Complétez la classe **ModuleReparation** pour contrôler l'énergie disponible ! "
   ]
  },
  {
   "cell_type": "code",
   "execution_count": null,
   "metadata": {},
   "outputs": [],
   "source": [
    "class ModuleReparation:\n",
    "    def __init__(self, energie_max=100):\n",
    "        self.energie = energie_max\n",
    "    \n",
    "    def utiliser(self, quantite):\n",
    "        \"\"\"À compléter:\n",
    "        1. Lève ValueError si quantite <= 0\n",
    "        2. Lève Exception si pas assez d'énergie\n",
    "        3. Sinon déduit l'énergie et retourne True\n",
    "        \"\"\"\n",
    "        pass\n",
    "\n",
    "# Tests\n",
    "try:\n",
    "    module = ModuleReparation(50)\n",
    "    module.utiliser(-10)  # Doit lever ValueError\n",
    "except ValueError:\n",
    "    print(\"Quantité négative détectée!\")"
   ]
  },
  {
   "cell_type": "code",
   "execution_count": 6,
   "metadata": {},
   "outputs": [
    {
     "name": "stdout",
     "output_type": "stream",
     "text": [
      "Quantité négative détectée!\n"
     ]
    }
   ],
   "source": [
    "# Solution \n",
    "\n",
    "class ErreurEnergie(Exception):\n",
    "    \"\"\"Exception pour les problèmes d'énergie\"\"\"\n",
    "    pass\n",
    "\n",
    "class ModuleReparation:\n",
    "    def __init__(self, energie_max=100):\n",
    "        self.energie_max = energie_max\n",
    "        self.energie = energie_max\n",
    "    \n",
    "    def utiliser(self, quantite):\n",
    "        if quantite <= 0:\n",
    "            raise ValueError(\"La quantité doit être positive\")\n",
    "        if quantite > self.energie:\n",
    "            raise ErreurEnergie(f\"Énergie insuffisante: {self.energie}/{quantite}\")\n",
    "        self.energie -= quantite\n",
    "        return self.energie\n",
    "    \n",
    "# Tests\n",
    "try:\n",
    "    module = ModuleReparation(50)\n",
    "    module.utiliser(-10)  # Doit lever ValueError\n",
    "except ValueError:\n",
    "    print(\"Quantité négative détectée!\")"
   ]
  },
  {
   "cell_type": "markdown",
   "metadata": {},
   "source": [
    "[Cours précédent](https://thibauddevx.github.io/cours_python_projet/notebooks/cours_7_L2.ipynb) | [Décripter l'enregistrement](https://thibauddevx.github.io/cours_python_projet/autoscripts/script_L2_8_fin.html)"
   ]
  }
 ],
 "metadata": {
  "kernelspec": {
   "display_name": "Python 3",
   "language": "python",
   "name": "python3"
  },
  "language_info": {
   "codemirror_mode": {
    "name": "ipython",
    "version": 3
   },
   "file_extension": ".py",
   "mimetype": "text/x-python",
   "name": "python",
   "nbconvert_exporter": "python",
   "pygments_lexer": "ipython3",
   "version": "3.10.2"
  }
 },
 "nbformat": 4,
 "nbformat_minor": 2
}
