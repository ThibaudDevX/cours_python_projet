{
 "cells": [
  {
   "cell_type": "markdown",
   "metadata": {},
   "source": [
    "# 🐍 Cours 6 : Réutilisation des classes\n",
    "\n",
    "---\n",
    "Dans ce cours, nous allons explorer comment réutiliser le code des classes existantes pour construire des programmes plus modulaires et maintenables. En Python, comme en Java, deux mécanismes principaux permettent cette réutilisation : la **composition** et **l'héritage**. Nous verrons également des concepts avancés comme la **surcharge**, la **redéfinition**, et le **transtypage ascendant**.\n",
    "\n",
    "---\n",
    "\n",
    "## 📌 1. La composition\n",
    "\n",
    "La composition consiste à intégrer une instance d'une classe dans une autre classe. Cela permet de réutiliser des fonctionnalités sans hériter de la classe.\n"
   ]
  },
  {
   "cell_type": "code",
   "execution_count": 3,
   "metadata": {},
   "outputs": [
    {
     "name": "stdout",
     "output_type": "stream",
     "text": [
      "Astronaute : Unit J-4V1-3R Javier\n",
      "True\n"
     ]
    }
   ],
   "source": [
    "class Astronaute:\n",
    "    def __init__(self, nom, prenom):\n",
    "        self.nom = nom\n",
    "        self.prenom = prenom\n",
    "\n",
    "    def __str__(self):\n",
    "        return f\"Astronaute : {self.prenom} {self.nom}\"\n",
    "\n",
    "# Utilisation de la composition\n",
    "class Mission:\n",
    "    def __init__(self, nom, prenom, priorite):\n",
    "        self.astronaute = Astronaute(nom, prenom)  # Composition\n",
    "        self.priorite = priorite\n",
    "\n",
    "    def est_urgent(self):\n",
    "        return self.priorite > 0.5\n",
    "\n",
    "# Test\n",
    "mission = Mission(\"Javier\", \"Unit J-4V1-3R\", 0.6)\n",
    "print(mission.astronaute)  # Utilisation de la méthode de Astronaute\n",
    "print(mission.est_urgent())  # Renvoie True si la mission est urgente\n"
   ]
  },
  {
   "cell_type": "markdown",
   "metadata": {},
   "source": [
    "\n",
    "---\n",
    "\n",
    "## 📌 2. L'héritage\n",
    "\n",
    "L'héritage permet de créer **une nouvelle classe** qui reprend les attributs et méthodes d'une classe existante, tout en ajoutant ou modifiant des fonctionnalités."
   ]
  },
  {
   "cell_type": "code",
   "execution_count": null,
   "metadata": {},
   "outputs": [
    {
     "name": "stdout",
     "output_type": "stream",
     "text": [
      "Secteur 1542-876--25\n"
     ]
    }
   ],
   "source": [
    "class Navigation:  # Class mère\n",
    "    def __init__(self, x, y):\n",
    "        self.x = x  \n",
    "        self.y = y  \n",
    "\n",
    "class NavigationHyperspace(Navigation):  # Héritage \n",
    "    def __init__(self, x, y, z):\n",
    "        super().__init__(x, y)\n",
    "        self.z = z  # Coordonnée hyperspatiale de la sous-classe\n",
    "\n",
    "nav = NavigationHyperspace(1542, 876, -25)\n",
    "print(f\"Secteur {nav.x}-{nav.y}-{nav.z}\")  "
   ]
  },
  {
   "cell_type": "markdown",
   "metadata": {},
   "source": [
    "\n",
    "---\n",
    "\n",
    "## 📌 3. Surchage et redéfinition\n",
    "\n",
    "* **Surchage** &nbsp; &nbsp; &nbsp; : Ajouter une méthode avec le même nom mais des paramètres différents.\n",
    "* **Redéfinition** &nbsp;: Modifier une méthode héritée pour changer son comportement"
   ]
  },
  {
   "cell_type": "code",
   "execution_count": 12,
   "metadata": {},
   "outputs": [
    {
     "name": "stdout",
     "output_type": "stream",
     "text": [
      "Danger spatial détecté!\n",
      "ALERTE NIVEAU 3!\n"
     ]
    }
   ],
   "source": [
    "class SystemeIA:\n",
    "    def alerter(self):\n",
    "        return \"Alerte générique\"  # Méthode de base\n",
    "\n",
    "class IA_Vaisseau(SystemeIA):\n",
    "    def alerter(self, niveau=1):  # Redéfinition + paramètre optionnel (équivalent Python à la surcharge)\n",
    "        if niveau == 1:\n",
    "            return \"Danger spatial détecté!\"  # Comportement redéfini\n",
    "        return f\"ALERTE NIVEAU {niveau}!\" # \"Surcharge\" simulée\n",
    "\n",
    "# Test\n",
    "ia = IA_Vaisseau()\n",
    "print(ia.alerter())    # Danger spatial détecté!  (redéfinition)\n",
    "print(ia.alerter(3))   # ALERTE NIVEAU 3!ALERTE NIVEAU 3!ALERTE NIVEAU 3!  (\"surcharge\")"
   ]
  },
  {
   "cell_type": "markdown",
   "metadata": {},
   "source": [
    "\n",
    "---\n",
    "\n",
    "## 📌 4. Transtypage ascendant\n",
    "\n",
    "Le **transtypage ascendant** consiste à utiliser un objet d'une classe fille (spécialisée) comme s'il était une instance de sa classe mère (générale).\n",
    "\n",
    "**J-4V1-3R** est-un **Robot** : cette relation d'héritage permet au vaisseau de le contrôler via les méthodes de base de la classe **Robot**.\n"
   ]
  },
  {
   "cell_type": "code",
   "execution_count": 16,
   "metadata": {},
   "outputs": [
    {
     "name": "stdout",
     "output_type": "stream",
     "text": [
      "Exécution avec souvenirs humains...\n"
     ]
    }
   ],
   "source": [
    "class Robot:\n",
    "    def execute(self):\n",
    "        return \"Commande standard\"\n",
    "\n",
    "class J4V1ER(Robot):\n",
    "    def execute(self):\n",
    "        return \"Exécution avec souvenirs humains...\"\n",
    "\n",
    "def controle_vaisseau(robot):\n",
    "    print(robot.execute())\n",
    "\n",
    "droide = J4V1ER()\n",
    "controle_vaisseau(droide)  # Transtypage: J4V1ER → Robot"
   ]
  },
  {
   "cell_type": "markdown",
   "metadata": {},
   "source": [
    "\n",
    "---\n",
    "\n",
    "## 📌 5. Composition vs Héritage\n",
    "\n",
    "* **Héritage** &nbsp; &nbsp; &nbsp;&nbsp;&nbsp;&nbsp; : Une classe est une version spécialisée d’une autre.  \n",
    "&nbsp;&nbsp;\"Un VaisseauCargo est un Vaisseau avec une capacité de stockage en plus.\" \n",
    "* **Composition** &nbsp;&nbsp;: Une classe contient une autre classe comme composant.  \n",
    "&nbsp;&nbsp;\"Un Moteur est un composant du Vaisseau, mais n’est pas un Vaisseau lui-même.\"\n",
    "\n"
   ]
  },
  {
   "cell_type": "code",
   "execution_count": null,
   "metadata": {},
   "outputs": [],
   "source": [
    "# Héritage \n",
    "class Vaisseau:\n",
    "    def __init__(self, nom):\n",
    "        self.nom = nom\n",
    "\n",
    "class Chasseur(Vaisseau):  # Héritage\n",
    "    def __init__(self, nom, vitesse_max):\n",
    "        super().__init__(nom)\n",
    "        self.vitesse_max = vitesse_max\n",
    "\n",
    "# Composition \n",
    "class Reacteur:\n",
    "    def __init__(self, energie):\n",
    "        self.energie = energie\n",
    "\n",
    "class VaisseauCombat:\n",
    "    def __init__(self, nom, energie_reacteur):\n",
    "        self.nom = nom\n",
    "        self.reacteur = Reacteur(energie_reacteur)  # Composition\n",
    "\n",
    "# Utilisation\n",
    "x_wing = Chasseur(\"X-Wing\", 1000)  # Héritage\n",
    "destroyer = VaisseauCombat(\"Destroyer\", 5000)  # Composition"
   ]
  },
  {
   "cell_type": "markdown",
   "metadata": {},
   "source": [
    "\n",
    "--- \n",
    "\n",
    "## 5. Exercice\n",
    "\n",
    "J-4V1-3R doit programmer les systèmes de navigation de son vaisseau pour explorer de nouvelles coordonnées galactiques. Il découvre que pour atteindre certaines zones reculées, il doit utiliser la navigation hyperspatiale, une technologie qui permet de voyager à travers des dimensions supplémentaires.\n",
    "\n",
    "Analysez ce programme et répondez au qestions suivantes : \n",
    "\n",
    "**Que se passe-t-il si on appelle afficher_position() sur un objet NavigationHyperspace ?**\n",
    "\n",
    "**Pourquoi Vaisseau utilise-t-il Navigation et Reacteur plutôt qu’un héritage ?**\n",
    "\n"
   ]
  },
  {
   "cell_type": "code",
   "execution_count": 1,
   "metadata": {},
   "outputs": [
    {
     "name": "stdout",
     "output_type": "stream",
     "text": [
      "Position hyperspatiale : (1542, 876, -25)\n",
      "Étoile Noire | Position : (100, 200) | Puissance : 5000 GW\n"
     ]
    }
   ],
   "source": [
    "class Navigation:  \n",
    "    def __init__(self, x, y):  \n",
    "        self.x = x  # Coordonnée galactique X  \n",
    "        self.y = y  # Coordonnée galactique Y  \n",
    "\n",
    "    def afficher_position(self):  \n",
    "        return f\"Position : ({self.x}, {self.y})\"  \n",
    "    \n",
    "    \n",
    "class NavigationHyperspace(Navigation):  \n",
    "    def __init__(self, x, y, z):  \n",
    "        super().__init__(x, y)  \n",
    "        self.z = z  # Coordonnée hyperspatiale  \n",
    "\n",
    "    def afficher_position(self):  # Redéfinition  \n",
    "        return f\"Position hyperspatiale : ({self.x}, {self.y}, {self.z})\"  \n",
    "    \n",
    "\n",
    "class Reacteur:  \n",
    "    def __init__(self, puissance):  \n",
    "        self.puissance = puissance  \n",
    "\n",
    "class Vaisseau:  \n",
    "    def __init__(self, nom, x, y, puissance_reacteur):  \n",
    "        self.nom = nom  \n",
    "        self.navigation = Navigation(x, y)  # Composition  \n",
    "        self.reacteur = Reacteur(puissance_reacteur)  # Composition  \n",
    "\n",
    "    def decrire(self):  \n",
    "        return f\"{self.nom} | {self.navigation.afficher_position()} | Puissance : {self.reacteur.puissance} GW\"  \n",
    "    \n",
    "\n",
    "# Utilisation de l'héritage  \n",
    "nav_hyperspace = NavigationHyperspace(1542, 876, -25)  \n",
    "print(nav_hyperspace.afficher_position())   \n",
    "\n",
    "# Utilisation de la composition  \n",
    "vaisseau = Vaisseau(\"Étoile Noire\", 100, 200, 5000)  \n",
    "print(vaisseau.decrire())  "
   ]
  },
  {
   "cell_type": "markdown",
   "metadata": {},
   "source": [
    "Réponses : \n",
    "\n",
    "\n",
    "**Héritage : Que se passe-t-il si on appelle afficher_position() sur un objet NavigationHyperspace ?**\n",
    "\n",
    "→ La méthode redéfinie dans la classe enfant est utilisée.\n",
    "\n",
    "**Composition : Pourquoi Vaisseau utilise-t-il Navigation et Reacteur plutôt qu’un héritage ?**\n",
    "\n",
    "→ Un vaisseau a un système de navigation et un réacteur, mais n’est pas un système de navigation."
   ]
  },
  {
   "cell_type": "markdown",
   "metadata": {},
   "source": [
    "[Cours précédent](https://thibauddevx.github.io/cours_python_projet/notebooks/cours_5_L2.ipynb) | [Cours suivant](https://thibauddevx.github.io/cours_python_projet/autoscripts/script_L2_6_7.html) "
   ]
  }
 ],
 "metadata": {
  "kernelspec": {
   "display_name": "Python 3",
   "language": "python",
   "name": "python3"
  },
  "language_info": {
   "codemirror_mode": {
    "name": "ipython",
    "version": 3
   },
   "file_extension": ".py",
   "mimetype": "text/x-python",
   "name": "python",
   "nbconvert_exporter": "python",
   "pygments_lexer": "ipython3",
   "version": "3.10.2"
  }
 },
 "nbformat": 4,
 "nbformat_minor": 2
}
