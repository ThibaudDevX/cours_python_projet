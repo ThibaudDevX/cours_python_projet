{
 "cells": [
  {
   "cell_type": "markdown",
   "metadata": {},
   "source": [
    "# 🐍 Les Fonctions en Python\n",
    "\n",
    "---\n",
    "\n",
    "## 📌 1. Introduction\n",
    "Les fonctions sont un élément fondamental de la programmation en Python. Elles permettent de structurer le code en blocs réutilisables, réduisant ainsi la redondance et améliorant la maintenabilité."
   ]
  },
  {
   "cell_type": "markdown",
   "metadata": {},
   "source": [
    "## 📌 2. Définition d'une fonction\n",
    "Une fonction est définie avec le mot-clé `def`, suivi du nom de la fonction et de parenthèses contenant éventuellement des paramètres."
   ]
  },
  {
   "cell_type": "code",
   "execution_count": 25,
   "metadata": {},
   "outputs": [
    {
     "name": "stdout",
     "output_type": "stream",
     "text": [
      "Bonjour, Alice!\n"
     ]
    }
   ],
   "source": [
    "# Déclaration d'une fonction\n",
    "def saluer(nom):\n",
    "    print(f\"Bonjour, {nom}!\") # On utilise f pour concaténer le String avec la variable 'nom'\n",
    "\n",
    "# Appel de la fonction\n",
    "saluer(\"Alice\") # Ici 'nom' prend la valeur 'Alice'"
   ]
  },
  {
   "cell_type": "markdown",
   "metadata": {},
   "source": [
    "\n",
    "## 📌 3. Paramètres et Arguments\n",
    "Les paramètres sont des variables définies dans la signature de la fonction. Lorsqu'on appelle une fonction, les valeurs passées sont appelées arguments."
   ]
  },
  {
   "cell_type": "code",
   "execution_count": 22,
   "metadata": {},
   "outputs": [
    {
     "name": "stdout",
     "output_type": "stream",
     "text": [
      "8\n"
     ]
    }
   ],
   "source": [
    "def addition(a, b):\n",
    "    return a + b # Retourne la somme de 'a' et 'b'\n",
    "\n",
    "somme = addition(5, 3)\n",
    "print(somme)  # Affiche 8"
   ]
  },
  {
   "cell_type": "markdown",
   "metadata": {},
   "source": [
    "## 📌 4. Paramètres par défaut\n",
    "Python permet de définir des valeurs par défaut pour les paramètres.\n"
   ]
  },
  {
   "cell_type": "code",
   "execution_count": 23,
   "metadata": {},
   "outputs": [
    {
     "name": "stdout",
     "output_type": "stream",
     "text": [
      "Bonjour, Utilisateur!\n",
      "Bonjour, Alice!\n"
     ]
    }
   ],
   "source": [
    "def saluer(nom=\"Utilisateur\"):\n",
    "    print(f\"Bonjour, {nom}!\")\n",
    "\n",
    "saluer()  # Bonjour, Utilisateur!\n",
    "saluer(\"Alice\")  # Bonjour, Alice!"
   ]
  },
  {
   "cell_type": "markdown",
   "metadata": {},
   "source": [
    "## 📌 5. Portée des variables\n",
    "Les variables définies à l'intérieur d'une fonction sont locales et ne peuvent être utilisées en dehors de celle-ci.\n"
   ]
  },
  {
   "cell_type": "code",
   "execution_count": 26,
   "metadata": {},
   "outputs": [
    {
     "name": "stdout",
     "output_type": "stream",
     "text": [
      "10\n"
     ]
    },
    {
     "ename": "NameError",
     "evalue": "name 'local_var' is not defined",
     "output_type": "error",
     "traceback": [
      "\u001b[0;31m---------------------------------------------------------------------------\u001b[0m",
      "\u001b[0;31mNameError\u001b[0m                                 Traceback (most recent call last)",
      "Cell \u001b[0;32mIn[26], line 6\u001b[0m\n\u001b[1;32m      3\u001b[0m     \u001b[38;5;28mprint\u001b[39m(local_var)\n\u001b[1;32m      5\u001b[0m exemple()\n\u001b[0;32m----> 6\u001b[0m \u001b[38;5;28mprint\u001b[39m(\u001b[43mlocal_var\u001b[49m)\n",
      "\u001b[0;31mNameError\u001b[0m: name 'local_var' is not defined"
     ]
    }
   ],
   "source": [
    "def exemple():\n",
    "    local_var = 10\n",
    "    print(local_var)\n",
    "\n",
    "exemple()\n",
    "print(local_var)\n"
   ]
  },
  {
   "cell_type": "markdown",
   "metadata": {},
   "source": [
    "## 📌 6. Exercice\n",
    "Créez une fonction qui prend en paramètre un prénom et un âge, puis affiche une phrase comme : \"Alice a 25 ans\"."
   ]
  }
 ],
 "metadata": {
  "kernelspec": {
   "display_name": "Python 3",
   "language": "python",
   "name": "python3"
  },
  "language_info": {
   "codemirror_mode": {
    "name": "ipython",
    "version": 3
   },
   "file_extension": ".py",
   "mimetype": "text/x-python",
   "name": "python",
   "nbconvert_exporter": "python",
   "pygments_lexer": "ipython3",
   "version": "3.9.6"
  }
 },
 "nbformat": 4,
 "nbformat_minor": 2
}
