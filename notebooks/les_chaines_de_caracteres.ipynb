{
 "cells": [
  {
   "cell_type": "markdown",
   "id": "863de688-40b5-4647-8090-dd45f50ee41f",
   "metadata": {},
   "source": [
    "# 🐍 Cours 1 : Les Chaînes de Caractères (`strings`) en Python\n",
    "\n",
    "---\n",
    "\n",
    "## 📌 1. Introduction aux chaînes de caractères\n",
    "\n",
    "En Python, une **chaîne de caractères** (*string*) est simplement **une suite de lettres, chiffres ou symboles**, entourée par :\n",
    "- Des **guillemets simples** `'...'`\n",
    "- Des **guillemets doubles** `\"...\"`\n",
    "\n",
    "```python\n",
    "# Déclaration de chaînes de caractères\n",
    "texte1 = 'Bonjour'\n",
    "texte2 = \"Python\"\n",
    "\n",
    "# Affichage\n",
    "print(texte1)\n",
    "print(texte2)\n",
    "\n",
    "> Bonjour\n",
    "> Python\n",
    "```\n",
    "👉 Ici, texte1 et texte2 sont des variables qui stockent du texte.\n",
    "\n",
    "## 📌 2. Afficher du texte avec print()\n",
    "\n",
    "Python possède une fonction print() qui permet d’afficher du texte à l’écran.\n",
    "\n",
    "# Affichage d'un message\n",
    "```python\n",
    "print(\"Bienvenue dans le cours de Python !\")\n",
    "\n",
    "> Bienvenue dans le cours de Python !\n",
    "```"
   ]
  },
  {
   "cell_type": "code",
   "execution_count": null,
   "id": "c24c6294-1a71-4657-b904-5962ea4c3459",
   "metadata": {},
   "outputs": [],
   "source": []
  },
  {
   "cell_type": "markdown",
   "id": "5922f8e4-ef1e-42b0-b843-b07b323f7deb",
   "metadata": {},
   "source": [
    "## 📌 3. Concaténer des chaînes (assembler du texte)\n",
    "On peut assembler (concaténer) des morceaux de texte avec +.\n",
    "\n",
    "```python\n",
    "# Concaténation de chaînes\n",
    "prenom = \"Alice\"\n",
    "nom = \"Dupont\"\n",
    "nom_complet = prenom + \" \" + nom\n",
    "print(nom_complet)\n",
    "\n",
    "> Alice Dupont\n",
    "```"
   ]
  },
  {
   "cell_type": "code",
   "execution_count": null,
   "id": "a69ce5be-01bb-4d77-917d-89735d812330",
   "metadata": {},
   "outputs": [],
   "source": []
  },
  {
   "cell_type": "markdown",
   "id": "9ff09505-e8d1-440c-9b2d-89e6c1ab7358",
   "metadata": {},
   "source": [
    "## 📌 4. Les variables : Qu’est-ce que c’est ? 🎭\n",
    "Une variable est comme une boîte dans laquelle on stocke des informations.\n",
    "```python\n",
    "# Stocker une valeur dans une variable\n",
    "message = \"Salut !\"\n",
    "print(message)\n",
    "\n",
    "> Salut !\n",
    "```\n",
    "✅ Ici, message est une variable qui contient \"Salut !\".\n",
    "\n",
    "👉 Quand on exécute print(message), Python affiche ce qu’il y a dans la variable.\n",
    "\n",
    "⚠️ Attention ! Si on change la valeur d’une variable :\n",
    "```python\n",
    "message = \"Bonjour !\"\n",
    "print(message)\n",
    "\n",
    "> Bonjour !\n",
    "```"
   ]
  },
  {
   "cell_type": "code",
   "execution_count": null,
   "id": "8e2a5a9c-9ec5-4523-912e-fb6c84b1b99f",
   "metadata": {},
   "outputs": [],
   "source": []
  },
  {
   "cell_type": "markdown",
   "id": "c049bca5-7030-409c-a0e5-a07c243e208b",
   "metadata": {},
   "source": [
    "## 📌 5. Les nombres dans une chaîne\n",
    "\n",
    "On ne peut pas directement mélanger une chaîne et un nombre.\n",
    "\n",
    "Essaye de lancer le code ci-dessous :"
   ]
  },
  {
   "cell_type": "code",
   "execution_count": 1,
   "id": "e05209ff-2f7c-4bc2-ab1c-fac125290cca",
   "metadata": {},
   "outputs": [
    {
     "ename": "TypeError",
     "evalue": "can only concatenate str (not \"int\") to str",
     "output_type": "error",
     "traceback": [
      "\u001b[0;31m---------------------------------------------------------------------------\u001b[0m",
      "\u001b[0;31mTypeError\u001b[0m                                 Traceback (most recent call last)",
      "Cell \u001b[0;32mIn[1], line 2\u001b[0m\n\u001b[1;32m      1\u001b[0m age \u001b[38;5;241m=\u001b[39m \u001b[38;5;241m25\u001b[39m\n\u001b[0;32m----> 2\u001b[0m \u001b[38;5;28mprint\u001b[39m(\u001b[38;5;124;43m\"\u001b[39;49m\u001b[38;5;124;43mJ\u001b[39;49m\u001b[38;5;124;43m'\u001b[39;49m\u001b[38;5;124;43mai \u001b[39;49m\u001b[38;5;124;43m\"\u001b[39;49m\u001b[43m \u001b[49m\u001b[38;5;241;43m+\u001b[39;49m\u001b[43m \u001b[49m\u001b[43mage\u001b[49m \u001b[38;5;241m+\u001b[39m \u001b[38;5;124m\"\u001b[39m\u001b[38;5;124m ans.\u001b[39m\u001b[38;5;124m\"\u001b[39m)  \u001b[38;5;66;03m# ❌ Erreur !\u001b[39;00m\n",
      "\u001b[0;31mTypeError\u001b[0m: can only concatenate str (not \"int\") to str"
     ]
    }
   ],
   "source": [
    "age = 25\n",
    "print(\"J'ai \" + age + \" ans.\")  # ❌ Erreur !"
   ]
  },
  {
   "cell_type": "markdown",
   "id": "711f9603-a1c5-48bd-8a0c-128aaf6ed5e0",
   "metadata": {},
   "source": [
    "✅ Solution : Convertir le nombre en texte avec str() :"
   ]
  },
  {
   "cell_type": "code",
   "execution_count": null,
   "id": "a290f8a0-83d1-4dc1-9313-4289952b0699",
   "metadata": {},
   "outputs": [
    {
     "name": "stdout",
     "output_type": "stream",
     "text": [
      "J'ai 25 ans.\n"
     ]
    }
   ],
   "source": [
    "# Utilisation de str() pour convertir un nombre en texte\n",
    "print(\"J'ai \" + str(age) + \" ans.\")"
   ]
  },
  {
   "cell_type": "markdown",
   "id": "6a594e53-cd6b-42d1-ac1d-a4b2aaf11517",
   "metadata": {},
   "source": [
    "## 📌 6. Accéder aux caractères d’une chaîne (indexing)\n",
    "\n",
    "Chaque caractère d’une chaîne a un indice qui commence à 0"
   ]
  },
  {
   "cell_type": "code",
   "execution_count": null,
   "id": "13699f7a-c41c-404b-9671-f5e5dfc52d6a",
   "metadata": {},
   "outputs": [],
   "source": [
    "# Indexation d'une chaîne\n",
    "texte = \"Python\"\n",
    "print(texte[0])  # 'P'\n",
    "print(texte[3])  # 'h'"
   ]
  },
  {
   "cell_type": "markdown",
   "id": "fe69285d-5994-4798-b84f-d6229df8df59",
   "metadata": {},
   "source": [
    "📝 Index négatif\n",
    "\n",
    "Les indices négatifs commencent depuis la fin :"
   ]
  },
  {
   "cell_type": "code",
   "execution_count": null,
   "id": "b8dabfcf-0703-4379-964d-4516b47ff479",
   "metadata": {},
   "outputs": [],
   "source": [
    "print(texte[-1])  # 'n' (dernier caractère)\n",
    "print(texte[-3])  # 'h'"
   ]
  },
  {
   "cell_type": "markdown",
   "id": "fd2d08b1-1175-4329-bef4-d23f30ae8a26",
   "metadata": {},
   "source": [
    "## 📌 7. Découper une chaîne (slicing)\n",
    "\n",
    "On peut extraire une partie d’une chaîne avec [start:end]."
   ]
  },
  {
   "cell_type": "code",
   "execution_count": null,
   "id": "63b956a6-118e-4ef3-afa0-380e9859f9f4",
   "metadata": {},
   "outputs": [],
   "source": [
    "# Découpage d'une chaîne\n",
    "texte = \"Python\"\n",
    "print(texte[0:4])  # 'Pyth'\n",
    "print(texte[:3])   # 'Pyt'\n",
    "print(texte[2:])   # 'thon'\n",
    "print(texte[-3:])  # 'hon'"
   ]
  },
  {
   "cell_type": "markdown",
   "id": "70115cee-eab1-41e3-bbb5-fc3f6cb50039",
   "metadata": {},
   "source": [
    "## 📌 8. Longueur d’une chaîne (len())\n",
    "\n",
    "La fonction len() retourne le nombre de caractères."
   ]
  },
  {
   "cell_type": "code",
   "execution_count": null,
   "id": "01dd51ac-b7c6-498b-93ff-c90b54690efe",
   "metadata": {},
   "outputs": [],
   "source": [
    "# Compter le nombre de caractères\n",
    "phrase = \"Bonjour\"\n",
    "print(len(phrase))"
   ]
  },
  {
   "cell_type": "markdown",
   "id": "596551de",
   "metadata": {},
   "source": [
    "## 💪 Exercice\n",
    "\n",
    "A l'aide de **ce que tu as vu précédemment** résoud **l'erreur** ci-dessous :"
   ]
  },
  {
   "cell_type": "code",
   "execution_count": null,
   "id": "d2f3e538",
   "metadata": {},
   "outputs": [
    {
     "ename": "TypeError",
     "evalue": "object of type 'int' has no len()",
     "output_type": "error",
     "traceback": [
      "\u001b[0;31m---------------------------------------------------------------------------\u001b[0m",
      "\u001b[0;31mTypeError\u001b[0m                                 Traceback (most recent call last)",
      "Cell \u001b[0;32mIn[1], line 2\u001b[0m\n\u001b[1;32m      1\u001b[0m nombre \u001b[38;5;241m=\u001b[39m \u001b[38;5;241m43985\u001b[39m\n\u001b[0;32m----> 2\u001b[0m \u001b[38;5;28mprint\u001b[39m(\u001b[38;5;28;43mlen\u001b[39;49m\u001b[43m(\u001b[49m\u001b[43mnombre\u001b[49m\u001b[43m)\u001b[49m)\n",
      "\u001b[0;31mTypeError\u001b[0m: object of type 'int' has no len()"
     ]
    }
   ],
   "source": [
    "nombre = 43985\n",
    "print(len(nombre))"
   ]
  },
  {
   "cell_type": "markdown",
   "id": "45836911",
   "metadata": {},
   "source": [
    "💡 **L'erreur** nous indique que **l'objet de type 'int'** 43985 **n'a pas de longueur !** (Aide : Point 5)"
   ]
  },
  {
   "cell_type": "markdown",
   "id": "e2e991d6-9a4e-4c1d-ae02-466132af5042",
   "metadata": {},
   "source": [
    "## 📌 9. Modifier une chaîne (⚠️ immutable)\n",
    "\n",
    "Les chaînes sont immuables en Python, donc on ne peut pas modifier un caractère directement."
   ]
  },
  {
   "cell_type": "code",
   "execution_count": null,
   "id": "a4402c23-ee71-4716-9c88-00e165130771",
   "metadata": {},
   "outputs": [],
   "source": [
    "# ❌ Ceci donnera une erreur :\n",
    "texte = \"Python\"\n",
    "texte[0] = \"J\"  # Erreur !"
   ]
  },
  {
   "cell_type": "markdown",
   "id": "0f49c106-9525-4cd7-97e2-6996dbfa87a6",
   "metadata": {},
   "source": [
    "✅ Solution : Créer une nouvelle chaîne :"
   ]
  },
  {
   "cell_type": "code",
   "execution_count": null,
   "id": "48ea49de-5f66-4f15-b30b-11452f4a5986",
   "metadata": {},
   "outputs": [],
   "source": [
    "# Nouvelle chaîne avec remplacement de caractère\n",
    "texte = \"Jython\"  # Remplace 'P' par 'J'\n",
    "print(texte)"
   ]
  },
  {
   "cell_type": "markdown",
   "id": "4c2e2e6f-65dd-4a8e-a6ac-65254bb0a95d",
   "metadata": {},
   "source": [
    "## 📌 10. Méthodes utiles pour les chaînes\n",
    "\n",
    "Python fournit plusieurs méthodes pour manipuler les chaînes."
   ]
  },
  {
   "cell_type": "code",
   "execution_count": null,
   "id": "f5dd0f57-8eff-47da-8b1d-157448d62f03",
   "metadata": {},
   "outputs": [],
   "source": [
    "# Quelques méthodes utiles\n",
    "texte = \" Python est génial! \"\n",
    "\n",
    "print(texte.upper())       # ' PYTHON EST GÉNIAL! '\n",
    "print(texte.lower())       # ' python est génial! '\n",
    "print(texte.strip())       # 'Python est génial!' (enlève les espaces)\n",
    "print(texte.replace(\"Python\", \"Java\"))  # ' Java est génial! '\n",
    "print(texte.split())       # ['Python', 'est', 'génial!']\n",
    "print(\" | \".join([\"Python\", \"Java\", \"C++\"]))  # 'Python | Java | C++'"
   ]
  },
  {
   "cell_type": "markdown",
   "id": "a523f2ca-ed73-4295-95e5-5574cb62cc1f",
   "metadata": {},
   "source": [
    "## 📌 11. Vérifier la présence d’un mot (in)\n",
    "\n",
    "On peut tester si une chaîne contient un mot."
   ]
  },
  {
   "cell_type": "code",
   "execution_count": null,
   "id": "54f8a79b-2507-4fa7-a02f-c5af015ab271",
   "metadata": {},
   "outputs": [],
   "source": [
    "phrase = \"Python est génial\"\n",
    "print(\"Python\" in phrase)   # True\n",
    "print(\"Java\" in phrase)     # False"
   ]
  },
  {
   "cell_type": "markdown",
   "id": "90f12000-ce2d-4246-9d17-6398de3d989f",
   "metadata": {},
   "source": [
    "## 📌 12. Interagir avec l'utilisateur\n",
    "\n",
    "Avec Python tu peux demander une valeur à l'utilisateur en utilisant la fonction input().\n",
    "\n",
    "On peut notamment la stocker dans une variable pour l'utiliser plus tard :"
   ]
  },
  {
   "cell_type": "code",
   "execution_count": 2,
   "id": "fe396458-36e1-44b1-84f5-bb6a1e8eab2e",
   "metadata": {},
   "outputs": [
    {
     "name": "stdout",
     "output_type": "stream",
     "text": [
      "Tu t'appelles amé\n"
     ]
    }
   ],
   "source": [
    "prenom = input(\"Quel est ton prénom ?\")\n",
    "print(\"Tu t'appelles \" + prenom)"
   ]
  }
 ],
 "metadata": {
  "kernelspec": {
   "display_name": "Python 3",
   "language": "python",
   "name": "python3"
  },
  "language_info": {
   "codemirror_mode": {
    "name": "ipython",
    "version": 3
   },
   "file_extension": ".py",
   "mimetype": "text/x-python",
   "name": "python",
   "nbconvert_exporter": "python",
   "pygments_lexer": "ipython3",
   "version": "3.12.3"
  }
 },
 "nbformat": 4,
 "nbformat_minor": 5
}
