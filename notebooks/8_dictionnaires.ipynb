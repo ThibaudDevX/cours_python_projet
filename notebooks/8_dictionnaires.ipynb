{
 "cells": [
  {
   "cell_type": "markdown",
   "metadata": {},
   "source": [
    "# 🐍 Les Dictionnaires\n",
    "\n",
    "---"
   ]
  },
  {
   "cell_type": "markdown",
   "metadata": {},
   "source": [
    "📌 1. Qu’est-ce qu’un dictionnaire ?\n",
    "\n",
    "Un dictionnaire (dict) est une structure de données qui associe une clé à une valeur.\n",
    "\n",
    "    Contrairement aux listes où chaque valeur est repérée par sa position, ici on utilise des clés personnalisées."
   ]
  },
  {
   "cell_type": "code",
   "execution_count": 4,
   "metadata": {},
   "outputs": [],
   "source": [
    "membre_equipage_3 = { # nom du dictionnaire\n",
    "    \"nom\": \"Javier\", # une donnée du dictionnaire\n",
    "    \"role\": \"Commandant\", # une autre donnée du dictionnaire\n",
    "    \"niveau\": 5 # une autre donnée du dictionnaire\n",
    "}"
   ]
  },
  {
   "cell_type": "markdown",
   "metadata": {},
   "source": [
    "---\n",
    "\n",
    "## 📌 2. Accéder à une valeur\n",
    "\n",
    "On utilise la clé pour accéder à la valeur :"
   ]
  },
  {
   "cell_type": "code",
   "execution_count": 5,
   "metadata": {},
   "outputs": [
    {
     "name": "stdout",
     "output_type": "stream",
     "text": [
      "Commandant\n"
     ]
    }
   ],
   "source": [
    "membre_equipage_3 = { # nom du dictionnaire\n",
    "    \"nom\": \"Javier\", # une donnée du dictionnaire\n",
    "    \"role\": \"Commandant\", # une autre donnée du dictionnaire\n",
    "    \"niveau\": 5 # une autre donnée du dictionnaire\n",
    "}\n",
    "\n",
    "print(membre_equipage_3[\"role\"])  # Affiche \"Pilote\""
   ]
  },
  {
   "cell_type": "markdown",
   "metadata": {},
   "source": [
    "---\n",
    "\n",
    "## 📌 3. Ajouter ou modifier une valeur"
   ]
  },
  {
   "cell_type": "code",
   "execution_count": 7,
   "metadata": {},
   "outputs": [
    {
     "name": "stdout",
     "output_type": "stream",
     "text": [
      "{'nom': 'Javier', 'role': 'Commandant', 'niveau': 6, 'mission': 'Mars Express'}\n"
     ]
    }
   ],
   "source": [
    "membre_equipage_3 = { # nom du dictionnaire\n",
    "    \"nom\": \"Javier\", # une donnée du dictionnaire\n",
    "    \"role\": \"Commandant\", # une autre donnée du dictionnaire\n",
    "    \"niveau\": 5 # une autre donnée du dictionnaire\n",
    "}\n",
    "\n",
    "membre_equipage_3[\"mission\"] = \"Mars Express\"\n",
    "membre_equipage_3[\"niveau\"] = 6  # Modification\n",
    "\n",
    "print(membre_equipage_3)"
   ]
  },
  {
   "cell_type": "markdown",
   "metadata": {},
   "source": [
    "---\n",
    "\n",
    "## 📌 4. Vérifier si une clé existe"
   ]
  },
  {
   "cell_type": "code",
   "execution_count": null,
   "metadata": {},
   "outputs": [
    {
     "name": "stdout",
     "output_type": "stream",
     "text": [
      "Niveau trouvé !\n"
     ]
    }
   ],
   "source": [
    "membre_equipage_3 = { # nom du dictionnaire\n",
    "    \"nom\": \"Javier\", # une donnée du dictionnaire\n",
    "    \"role\": \"Commandant\", # une autre donnée du dictionnaire\n",
    "    \"niveau\": 5 # une autre donnée du dictionnaire\n",
    "}\n",
    "\n",
    "if \"niveau\" in membre_equipage_3:\n",
    "    print(\"Niveau trouvé !\")\n",
    "else:\n",
    "    print(\"Niveau non renseigné !\")"
   ]
  },
  {
   "cell_type": "markdown",
   "metadata": {},
   "source": [
    "---\n",
    "\n",
    "## 📌 5. Parcourir un dictionnaire"
   ]
  },
  {
   "cell_type": "code",
   "execution_count": null,
   "metadata": {},
   "outputs": [
    {
     "name": "stdout",
     "output_type": "stream",
     "text": [
      "nom : Javier\n",
      "role : Commandant\n",
      "niveau : 5\n"
     ]
    }
   ],
   "source": [
    "membre_equipage_3 = { # nom du dictionnaire\n",
    "    \"nom\": \"Javier\", # une donnée du dictionnaire\n",
    "    \"role\": \"Commandant\", # une autre donnée du dictionnaire\n",
    "    \"niveau\": 5 # une autre donnée du dictionnaire\n",
    "}\n",
    "\n",
    "for stockage_cle, stockage_valeur in membre_equipage_3.items(): # chaque cle sera dans stockage_cle et chaque valeur dans stockage_valeur\n",
    "    print(stockage_cle, \":\", stockage_valeur)"
   ]
  },
  {
   "cell_type": "markdown",
   "metadata": {},
   "source": [
    "Tu reçois un rapport de scan contenant plusieurs vaisseaux croisés sur la trajectoire. Ton travail est d’identifier les pirates pour éviter ces zones.\n",
    "\n",
    "Voici les données scannées :"
   ]
  },
  {
   "cell_type": "markdown",
   "metadata": {},
   "source": [
    "## 📌 Dictionnaires imbriqués en Python\n",
    "\n",
    "Un dictionnaire peut contenir d'autres dictionnaires à l'intérieur de ses valeurs.\n",
    "🔍 Exemple :"
   ]
  },
  {
   "cell_type": "code",
   "execution_count": null,
   "metadata": {},
   "outputs": [],
   "source": [
    "vaisseaux = {\n",
    "    \"Aurelia-X1\": {\"type\": \"cargo\", \"pirate\": False},\n",
    "    \"Nebula-V3\": {\"type\": \"inconnu\", \"pirate\": True},\n",
    "    \"Orion-Z9\": {\"type\": \"patrouilleur\", \"pirate\": False}\n",
    "}"
   ]
  },
  {
   "cell_type": "markdown",
   "metadata": {},
   "source": [
    "Ici :\n",
    "\n",
    "- La clé principale est le nom du vaisseau (\"Aurelia-X1\", \"Nebula-V3\", \"Orion-Z9\").\n",
    "\n",
    "- La valeur associée est un dictionnaire contenant deux infos : \"type\" et \"pirate\".\n",
    "\n",
    "Pour accéder à une info précise :"
   ]
  },
  {
   "cell_type": "code",
   "execution_count": 25,
   "metadata": {},
   "outputs": [
    {
     "name": "stdout",
     "output_type": "stream",
     "text": [
      "cargo\n"
     ]
    }
   ],
   "source": [
    "print(vaisseaux[\"Aurelia-X1\"][\"type\"])"
   ]
  },
  {
   "cell_type": "markdown",
   "metadata": {},
   "source": [
    "Pour parcourir tous les vaisseaux :"
   ]
  },
  {
   "cell_type": "code",
   "execution_count": 26,
   "metadata": {},
   "outputs": [
    {
     "name": "stdout",
     "output_type": "stream",
     "text": [
      "Aurelia-X1 - Type : cargo - Pirate ? False\n",
      "Nebula-V3 - Type : inconnu - Pirate ? True\n",
      "Orion-Z9 - Type : patrouilleur - Pirate ? False\n",
      "Krag-22 - Type : pirate - Pirate ? True\n",
      "Vega-F8 - Type : explorateur - Pirate ? False\n"
     ]
    }
   ],
   "source": [
    "for nom, infos in vaisseaux.items():\n",
    "    print(f\"{nom} - Type : {infos['type']} - Pirate ? {infos['pirate']}\")"
   ]
  },
  {
   "cell_type": "code",
   "execution_count": 21,
   "metadata": {},
   "outputs": [
    {
     "name": "stdout",
     "output_type": "stream",
     "text": [
      "⚠️ Zone à éviter : Nebula-V3 - Type : inconnu\n",
      "⚠️ Zone à éviter : Krag-22 - Type : pirate\n"
     ]
    }
   ],
   "source": [
    "scan_vaisseaux = {\n",
    "    \"Aurelia-X1\": {\"type\": \"cargo\", \"pirate\": False},\n",
    "    \"Nebula-V3\": {\"type\": \"inconnu\", \"pirate\": True},\n",
    "    \"Orion-Z9\": {\"type\": \"patrouilleur\", \"pirate\": False},\n",
    "    \"Krag-22\": {\"type\": \"pirate\", \"pirate\": True},\n",
    "    \"Vega-F8\": {\"type\": \"explorateur\", \"pirate\": False}\n",
    "}\n",
    "\n",
    "for nom, infos in scan_vaisseaux.items():\n",
    "    if infos[\"pirate\"]:\n",
    "        print(f\"⚠️ Zone à éviter : {nom} - Type : {infos['type']}\")"
   ]
  },
  {
   "cell_type": "markdown",
   "metadata": {},
   "source": [
    "---\n",
    "\n",
    "## 📌 6. Supprimer une paire clé-valeur"
   ]
  },
  {
   "cell_type": "code",
   "execution_count": 17,
   "metadata": {},
   "outputs": [
    {
     "name": "stdout",
     "output_type": "stream",
     "text": [
      "{'nom': 'Javier', 'role': 'Commandant'}\n"
     ]
    }
   ],
   "source": [
    "membre_equipage_3 = { # nom du dictionnaire\n",
    "    \"nom\": \"Javier\", # une donnée du dictionnaire\n",
    "    \"role\": \"Commandant\", # une autre donnée du dictionnaire\n",
    "    \"niveau\": 5 # une autre donnée du dictionnaire\n",
    "}\n",
    "\n",
    "del membre_equipage_3[\"niveau\"]\n",
    "\n",
    "print(membre_equipage_3)"
   ]
  },
  {
   "cell_type": "markdown",
   "metadata": {},
   "source": [
    "---\n",
    "\n",
    "## 📌 7. Appliquer ça à notre mission de carburant\n",
    "\n",
    "Tu te souviens de l'exercice précédent ? Avec toutes les conditions du style if \"Deuterium\" in carburant_sX...\n",
    "\n",
    "On peut tout améliorer grâce aux dictionnaires :"
   ]
  },
  {
   "cell_type": "code",
   "execution_count": 19,
   "metadata": {},
   "outputs": [
    {
     "name": "stdout",
     "output_type": "stream",
     "text": [
      "Station 1 propose du Deuterium.\n",
      "Station 3 propose du Deuterium.\n"
     ]
    }
   ],
   "source": [
    "carburant_s1 = [\"Malastrine\", \"Nergunite\", \"Nitrate\", \"Deuterium\", \"Ipsium\", \"Baradium\"]\n",
    "carburant_s2 = [\"Rhydonium\", \"Rippinium\", \"Nitrate\", \"Ipsium\", \"Nergunite\", \"Kessoline\", \"Tibannite\"]\n",
    "carburant_s3 = [\"Megonite\", \"Ipsium\", \"Nitrate\", \"Deuterium\", \"Tibannite\", \"Rippinium\", \"Zylium\"]\n",
    "carburant_s4 = [\"Ipsium\", \"Kessoline\", \"Malastrine\", \"Nergunite\", \"Rippinium\", \"Zylium\", \"Tibannite\"]\n",
    "\n",
    "# Dictionnaire associant stations et leurs carburants\n",
    "stations = {\n",
    "    \"Station 1\": carburant_s1,\n",
    "    \"Station 2\": carburant_s2,\n",
    "    \"Station 3\": carburant_s3,\n",
    "    \"Station 4\": carburant_s4\n",
    "}\n",
    "\n",
    "# Recherche de stations avec du Deuterium\n",
    "for nom, carburants in stations.items():\n",
    "    if \"Deuterium\" in carburants:\n",
    "        print(f\"{nom} propose du Deuterium.\")\n"
   ]
  }
 ],
 "metadata": {
  "kernelspec": {
   "display_name": "Python 3",
   "language": "python",
   "name": "python3"
  },
  "language_info": {
   "codemirror_mode": {
    "name": "ipython",
    "version": 3
   },
   "file_extension": ".py",
   "mimetype": "text/x-python",
   "name": "python",
   "nbconvert_exporter": "python",
   "pygments_lexer": "ipython3",
   "version": "3.10.7"
  }
 },
 "nbformat": 4,
 "nbformat_minor": 2
}
