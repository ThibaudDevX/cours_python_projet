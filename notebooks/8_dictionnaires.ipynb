{
 "cells": [
  {
   "cell_type": "markdown",
   "metadata": {},
   "source": [
    "# 3️⃣ Les Dictionnaires\n",
    "\n",
    "## Définition\n",
    "Un dictionnaire est une structure de données permettant d'associer des clés à des valeurs.\n",
    "\n",
    "```python\n",
    "personne = {\"nom\": \"Alice\", \"âge\": 25}\n",
    "print(personne[\"nom\"])  # Alice\n",
    "```\n",
    "\n",
    "## Manipulation des dictionnaires\n",
    "```python\n",
    "personne[\"âge\"] = 26  # Modifier une valeur\n",
    "personne[\"ville\"] = \"Paris\"  # Ajouter une nouvelle clé\n",
    "print(personne)\n",
    "```\n",
    "\n",
    "## Itération sur un dictionnaire\n",
    "```python\n",
    "for cle, valeur in personne.items():\n",
    "    print(f\"{cle}: {valeur}\")\n",
    "```\n",
    "\n",
    "## Exercice\n",
    "Créez un dictionnaire représentant un étudiant avec son prénom, nom et une liste de ses notes. Ajoutez une nouvelle note et affichez la moyenne des notes."
   ]
  }
 ],
 "metadata": {
  "language_info": {
   "name": "python"
  }
 },
 "nbformat": 4,
 "nbformat_minor": 2
}
