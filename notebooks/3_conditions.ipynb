{
 "cells": [
  {
   "cell_type": "markdown",
   "metadata": {},
   "source": [
    "# 🐍 Conditions\n",
    "\n",
    "---\n",
    "\n",
    "## 📌 1. Introduction aux conditions\n",
    "\n",
    "Les conditions permettent d'exécuter différentes parties d'un programme en fonction d'une situation donnée. Par exemple, si un étudiant a une note supérieure ou égale à 10, il est admis, sinon il est recalé.\n",
    "\n",
    "### Exemple simple :"
   ]
  },
  {
   "cell_type": "code",
   "execution_count": 1,
   "metadata": {},
   "outputs": [
    {
     "name": "stdout",
     "output_type": "stream",
     "text": [
      "Admis\n"
     ]
    }
   ],
   "source": [
    "note = 12\n",
    "if note >= 10:\n",
    "    print(\"Admis\")\n",
    "else:\n",
    "    print(\"Recalé\")"
   ]
  },
  {
   "cell_type": "markdown",
   "metadata": {},
   "source": [
    "Ici, si la note est supérieure ou égale à 10, alors on affiche \"Admis\", sinon on affiche \"Recalé\".\n",
    "\n",
    "---\n",
    "\n",
    "## 📌 2. Les différentes formes de conditions\n",
    "\n",
    "### 2.1 La structure if...else\n",
    "C'est la structure conditionnelle de base :\n",
    "```python\n",
    "if condition:\n",
    "    # Bloc exécuté si la condition est vraie\n",
    "else:\n",
    "    # Bloc exécuté si la condition est fausse\n",
    "```\n",
    "\n",
    "🚀 Tu viens de recevoir un rapport sur les niveaux d’oxygène. Il faut déterminer si le système est sûr pour l’équipage. Pour cela demande le niveau d'oxygène au système et affiche l'indice de sureté (niveau d'oxygène > 80 => Acceptable)"
   ]
  },
  {
   "cell_type": "code",
   "execution_count": null,
   "metadata": {},
   "outputs": [],
   "source": [
    "niveau_oxygene = ...\n",
    "\n",
    "if ...:\n",
    "    print(\"🟢 Niveau acceptable. Aucun risque.\")\n",
    "else:\n",
    "    print(\"🔴 ALERTE : Réserve d’oxygène insuffisante !\")\n"
   ]
  },
  {
   "cell_type": "markdown",
   "metadata": {},
   "source": [
    "### 2.2 La structure if...elif...else\n",
    "Permet de tester plusieurs cas :\n"
   ]
  },
  {
   "cell_type": "code",
   "execution_count": 2,
   "metadata": {},
   "outputs": [
    {
     "name": "stdout",
     "output_type": "stream",
     "text": [
      "Majeur\n"
     ]
    }
   ],
   "source": [
    "age = 20\n",
    "if age < 18:\n",
    "    print(\"Mineur\")\n",
    "elif age == 18:\n",
    "    print(\"Tout juste majeur\")\n",
    "else:\n",
    "    print(\"Majeur\")"
   ]
  },
  {
   "cell_type": "markdown",
   "metadata": {},
   "source": [
    "Si l'âge est inférieur à 18, on affiche \"Mineur\".\n",
    "Si l'âge est égal à 18, on affiche \"Tout juste majeur\".\n",
    "Sinon, on affiche \"Majeur\".\n",
    "\n",
    "🚀 Des radiations cosmiques anormales ont été détectées. L’ordinateur de bord doit évaluer le danger. On sait que la charte des raditions est la suivante : 0-20 normal, 21-50 combinaison nécessaire, +51 confinement nécessaire."
   ]
  },
  {
   "cell_type": "code",
   "execution_count": null,
   "metadata": {},
   "outputs": [
    {
     "name": "stdout",
     "output_type": "stream",
     "text": [
      "⚠️ Radiation élevée. Équipe-toi d’une combinaison.\n"
     ]
    }
   ],
   "source": [
    "niveau_radiation = int(input(\"Quel est le niveau de radiation ? \"))\n",
    "\n",
    "if ...:\n",
    "    print(\"🔴 Danger extrême. Rentre dans un abri !\")\n",
    "elif ...:\n",
    "    print(\"⚠️ Radiation élevée. Équipe-toi d’une combinaison.\")\n",
    "else:\n",
    "    print(\"🟢 Niveau normal.\")"
   ]
  },
  {
   "cell_type": "markdown",
   "metadata": {},
   "source": [
    "---\n",
    "\n",
    "## 📌 3. Les opérateurs de comparaison\n",
    "\n",
    "| Opérateur | Description | Exemple | Résultat |\n",
    "|-----------|-------------|---------|----------|\n",
    "| `==`  | Égal à | `5 == 5` | `True` |\n",
    "| `!=`  | Différent de | `5 != 3` | `True` |\n",
    "| `>`  | Supérieur à | `5 > 3` | `True` |\n",
    "| `<`  | Inférieur à | `5 < 3` | `False` |\n",
    "| `>=` | Supérieur ou égal à | `5 >= 5` | `True` |\n",
    "| `<=` | Inférieur ou égal à | `5 <= 3` | `False` |\n",
    "\n",
    "Ces opérateurs sont très utiles dans les conditions !\n",
    "\n",
    "---\n",
    "\n",
    "## 📌 4. Les opérateurs logiques\n",
    "\n",
    "| Opérateur | Description | Exemple | Résultat |\n",
    "|-----------|-------------|---------|----------|\n",
    "| `and`  | Vrai si les deux conditions sont vraies | `(5 > 3) and (10 > 5)` | `True` |\n",
    "| `or`   | Vrai si au moins une condition est vraie | `(5 > 3) or (10 < 5)` | `True` |\n",
    "| `not`  | Inverse la valeur d'une condition | `not(5 > 3)` | `False` |\n",
    "\n",
    "Exemple :\n",
    "```python\n",
    "age = 20\n",
    "carte_identite = True\n",
    "if age >= 18 and carte_identite:\n",
    "    print(\"Accès autorisé\")\n",
    "else:\n",
    "    print(\"Accès refusé\")\n",
    "```\n",
    "Si l'âge est supérieur ou égal à 18 et que la personne a une carte d'identité, l'accès est autorisé.\n",
    "\n",
    "🚀 L'UGA-25 s'est arrêté en chemin pour récupérer des caisses à livrer qui sont stockées dans un vaisseau marchand. La transaction est terminée et lecapitaine souhaite initier une procédure de décollage. Vérifiez que le sas est bien fermé et que demandez la charge du vaisseau au système pour vous assurez qu'elle ne dépasse pas le maximum (2000 tonnes)."
   ]
  },
  {
   "cell_type": "code",
   "execution_count": null,
   "metadata": {},
   "outputs": [
    {
     "name": "stdout",
     "output_type": "stream",
     "text": [
      "🟢 Décollage autorisé.\n"
     ]
    }
   ],
   "source": [
    "charge_max = input(\"Poids de la cargaison ? \")\n",
    "sas_ferme = True\n",
    "\n",
    "if ...:\n",
    "    print(\"🟢 Décollage autorisé.\")\n",
    "else:\n",
    "    print(\"🔴 Conditions non remplies. Attente d’un nouveau rapport.\")\n"
   ]
  },
  {
   "cell_type": "markdown",
   "metadata": {},
   "source": [
    "---\n",
    "\n",
    "## 📌 5. Conditions imbriquées\n",
    "\n",
    "On peut aussi imbriquer des conditions à l'intérieur d'autres conditions :\n",
    "```python\n",
    "score = 85\n",
    "if score >= 50:\n",
    "    print(\"Réussi\")\n",
    "    if score >= 80:\n",
    "        print(\"Avec mention !\")\n",
    "```\n",
    "Ici, si le score est supérieur ou égal à 50, on affiche \"Réussi\".\n",
    "Si en plus le score est supérieur ou égal à 80, on affiche \"Avec mention !\".\n",
    "\n",
    "🚀 Avant de repartir vérifions si nous avant assez de carburant en demandant au système et assurons nous que le moteur est stable."
   ]
  },
  {
   "cell_type": "code",
   "execution_count": null,
   "metadata": {},
   "outputs": [
    {
     "name": "stdout",
     "output_type": "stream",
     "text": [
      "🟢 Carburant suffisant.\n",
      "🟢 Système stable.\n"
     ]
    }
   ],
   "source": [
    "carburant = int(input(\"Carburant restant (en %) ? \"))\n",
    "moteur_stable = True\n",
    "\n",
    "if ...:\n",
    "    print(\"🟢 Carburant suffisant.\")\n",
    "    ... ...:\n",
    "        print(\"🟢 Moteur stable.\")\n",
    "    ...:\n",
    "        print(\"🔴 Moteur instable.\")\n",
    "else:\n",
    "    print(\"🔴 Carburant insuffisant !\")\n"
   ]
  }
 ],
 "metadata": {
  "kernelspec": {
   "display_name": "base",
   "language": "python",
   "name": "python3"
  },
  "language_info": {
   "codemirror_mode": {
    "name": "ipython",
    "version": 3
   },
   "file_extension": ".py",
   "mimetype": "text/x-python",
   "name": "python",
   "nbconvert_exporter": "python",
   "pygments_lexer": "ipython3",
   "version": "3.12.7"
  }
 },
 "nbformat": 4,
 "nbformat_minor": 2
}
