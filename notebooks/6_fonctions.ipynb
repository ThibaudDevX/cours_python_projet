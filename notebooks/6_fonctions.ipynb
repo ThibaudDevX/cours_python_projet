{
 "cells": [
  {
   "cell_type": "markdown",
   "metadata": {},
   "source": [
    "# 🐍 Les Fonctions\n",
    "\n",
    "---\n",
    "\n",
    "## 📌 1. Pourquoi utiliser des fonctions ?\n",
    "\n",
    "Les fonctions permettent de réutiliser du code et de le structurer. Plutôt que de copier-coller les mêmes instructions plusieurs fois, on les regroupe dans une fonction que l'on appelle au besoin."
   ]
  },
  {
   "cell_type": "markdown",
   "metadata": {},
   "source": [
    "---\n",
    "\n",
    "## 📌 2. Définition d'une fonction\n",
    "Une fonction est définie avec le mot-clé `def`, suivi du nom de la fonction et de parenthèses contenant éventuellement des paramètres."
   ]
  },
  {
   "cell_type": "code",
   "execution_count": 46,
   "metadata": {},
   "outputs": [
    {
     "name": "stdout",
     "output_type": "stream",
     "text": [
      "Bonjour, bienvenue à bord !\n"
     ]
    }
   ],
   "source": [
    "def saluer():\n",
    "    print(\"Bonjour, bienvenue à bord !\")\n",
    "\n",
    "# saluer ne prend pas de parametres donc on peut l'appeler avec saluer()\n",
    "saluer()"
   ]
  },
  {
   "cell_type": "markdown",
   "metadata": {},
   "source": [
    "---\n",
    "\n",
    "## 📌 3. Paramètres et Arguments\n",
    "On peut rendre les fonctions dynamiques en leur donnant des paramètres : Les paramètres sont des variables définies dans la signature de la fonction. Lorsqu'on appelle une fonction, les valeurs passées sont appelées arguments."
   ]
  },
  {
   "cell_type": "code",
   "execution_count": null,
   "metadata": {},
   "outputs": [
    {
     "name": "stdout",
     "output_type": "stream",
     "text": [
      "Bienvenue à bord, dada\n"
     ]
    }
   ],
   "source": [
    "def saluer_utilisateur(nom):\n",
    "    print(\"Bienvenue à bord,\", nom)\n",
    "\n",
    "saluer_utilisateur(\"...\")"
   ]
  },
  {
   "cell_type": "markdown",
   "metadata": {},
   "source": [
    "On peut aussi mettre plusieurs arguments pour une fonction plus précise :\n",
    "\n",
    "Ici on souhaite saluer le personnel en annonçant d'abord leur grade puis leur nom afin d'avoir un vaisseau plus réglementaire."
   ]
  },
  {
   "cell_type": "code",
   "execution_count": null,
   "metadata": {},
   "outputs": [
    {
     "name": "stdout",
     "output_type": "stream",
     "text": [
      "Bienvenue à bord, Commandant Javier\n"
     ]
    }
   ],
   "source": [
    "def saluer_utilisateur_bis(nom, grade):\n",
    "    print(\"Bienvenue à bord,\", ..., ...)\n",
    "\n",
    "saluer_utilisateur_bis(\"Javier\", \"Commandant\")    "
   ]
  },
  {
   "cell_type": "markdown",
   "metadata": {},
   "source": [
    "La quantité de carburant de l'UGA-25 commence sérieusement à diminuer, envoyons un message aux stations les plus proches pour les informer de notre arrivée prochaine. Les stations de ravitaillement n'acceptent que les messages définis sous le format suivant :\n",
    "\n",
    "    [ immatriculation ] [ carburant ] [ quantité ]\n",
    "\n",
    "Notre vaisseau fera un plein de 700 tonnes de Deuterium. On veut donc envoyer le message suivant :\n",
    "\n",
    "    [ UGA-25 ] [ Deuterium ] [ 700 ]"
   ]
  },
  {
   "cell_type": "code",
   "execution_count": 26,
   "metadata": {},
   "outputs": [
    {
     "name": "stdout",
     "output_type": "stream",
     "text": [
      "[ UGA-25 ] [ Deuterium ] [ 700 ]\n",
      "None\n"
     ]
    }
   ],
   "source": [
    "def formater_message(..., carburant, ...):\n",
    "    print(\"[\" , ... , \"] [\" , carburant , \"] [\" , ... , \"]\")\n",
    "\n",
    "# Lancer une fois la fonction complétée\n",
    "message = formater_message(input(\"Immatriculation ? \"), input(\"Carburant ? \"), input(\"Quantité ? \"))\n",
    "print(message)\n"
   ]
  },
  {
   "cell_type": "markdown",
   "metadata": {},
   "source": [
    "---\n",
    "\n",
    "## 📌 4. Retourner une valeur\n",
    "\n",
    "Une fonction peut aussi retourner une information grâce à return.\n"
   ]
  },
  {
   "cell_type": "code",
   "execution_count": 10,
   "metadata": {},
   "outputs": [
    {
     "data": {
      "text/plain": [
       "25"
      ]
     },
     "execution_count": 10,
     "metadata": {},
     "output_type": "execute_result"
    }
   ],
   "source": [
    "def carre(x):\n",
    "    return x * x\n",
    "\n",
    "carre(5)"
   ]
  },
  {
   "cell_type": "markdown",
   "metadata": {},
   "source": [
    "Le système a un problème et n'arrive plus à calculer la puissance nécessaire à fournir aux moteurs du vaisseau, répare la fonction lui permettant de calculer la force de poussée (F = m * a)"
   ]
  },
  {
   "cell_type": "code",
   "execution_count": null,
   "metadata": {},
   "outputs": [
    {
     "name": "stdout",
     "output_type": "stream",
     "text": [
      "Poussée générée : 3840.0 N\n"
     ]
    }
   ],
   "source": [
    "def calcul_poussee(masse, acceleration):\n",
    "    ... ... * ...\n",
    "\n",
    "poussee = calcul_poussee(1200, 3.2)\n",
    "print(\"Poussée générée :\", poussee, \"N\")\n"
   ]
  },
  {
   "cell_type": "markdown",
   "metadata": {},
   "source": [
    "Le système effectue régulièrement des vérifications de modules sur le vaisseau, créons une fonction permettant d'analyser ses retours. Il faut savoir que si le systeme renvoie le code M:000 le module ne présente pas de problème, on dit qu'il est \"OK\", en revanche si le système renvoie n'importe quel autre code cela veut dire qu'il y a une \"ERREUR\"."
   ]
  },
  {
   "cell_type": "code",
   "execution_count": null,
   "metadata": {},
   "outputs": [
    {
     "name": "stdout",
     "output_type": "stream",
     "text": [
      "Statut module : ERREUR\n",
      "Statut module : OK\n"
     ]
    }
   ],
   "source": [
    "# analyse du \n",
    "def analyse_module(etat):\n",
    "    if ... ... \"M:000\":\n",
    "        return \"Statut module : ...\"\n",
    "    ...:\n",
    "        return \"Statut module : ...\"\n",
    "\n",
    "print(\"Module 04 :\", analyse_module(\"M:085\"))\n",
    "print(\"Module 16 :\", analyse_module(\"M:000\"))"
   ]
  },
  {
   "cell_type": "markdown",
   "metadata": {},
   "source": [
    "---\n",
    "\n",
    "## 📌 5. Valeurs par défaut\n",
    "\n",
    "Tu peux attribuer une valeur par défaut à un paramètre :"
   ]
  },
  {
   "cell_type": "code",
   "execution_count": 13,
   "metadata": {},
   "outputs": [
    {
     "name": "stdout",
     "output_type": "stream",
     "text": [
      "Décollage imminent, explorateur\n"
     ]
    }
   ],
   "source": [
    "def decompte_depart(nom=\"explorateur\"):\n",
    "    print(\"Décollage imminent,\", nom)\n",
    "\n",
    "decompte_depart()"
   ]
  },
  {
   "cell_type": "markdown",
   "metadata": {},
   "source": [
    "---\n",
    "\n",
    "## 📌 6. Appels imbriqués\n",
    "\n",
    "Les fonctions peuvent être appelées à l’intérieur d’autres fonctions :"
   ]
  },
  {
   "cell_type": "code",
   "execution_count": 15,
   "metadata": {},
   "outputs": [
    {
     "data": {
      "text/plain": [
       "25"
      ]
     },
     "execution_count": 15,
     "metadata": {},
     "output_type": "execute_result"
    }
   ],
   "source": [
    "def carre(x):\n",
    "    return x * x\n",
    "\n",
    "def somme_carres(a, b):\n",
    "    return carre(a) + carre(b)\n",
    "\n",
    "somme_carres(3, 4)"
   ]
  },
  {
   "cell_type": "markdown",
   "metadata": {},
   "source": [
    "---\n",
    "\n",
    "## 📌 7. Portée des variables\n",
    "Les variables définies à l'intérieur d'une fonction sont locales et ne peuvent être utilisées en dehors de celle-ci.\n"
   ]
  },
  {
   "cell_type": "code",
   "execution_count": 26,
   "metadata": {},
   "outputs": [
    {
     "name": "stdout",
     "output_type": "stream",
     "text": [
      "10\n"
     ]
    },
    {
     "ename": "NameError",
     "evalue": "name 'local_var' is not defined",
     "output_type": "error",
     "traceback": [
      "\u001b[0;31m---------------------------------------------------------------------------\u001b[0m",
      "\u001b[0;31mNameError\u001b[0m                                 Traceback (most recent call last)",
      "Cell \u001b[0;32mIn[26], line 6\u001b[0m\n\u001b[1;32m      3\u001b[0m     \u001b[38;5;28mprint\u001b[39m(local_var)\n\u001b[1;32m      5\u001b[0m exemple()\n\u001b[0;32m----> 6\u001b[0m \u001b[38;5;28mprint\u001b[39m(\u001b[43mlocal_var\u001b[49m)\n",
      "\u001b[0;31mNameError\u001b[0m: name 'local_var' is not defined"
     ]
    }
   ],
   "source": [
    "def exemple():\n",
    "    local_var = 10\n",
    "    print(local_var)\n",
    "\n",
    "exemple()\n",
    "print(local_var)\n"
   ]
  },
  {
   "cell_type": "markdown",
   "metadata": {},
   "source": [
    "[Cours précédent](https://thibauddevx.github.io/cours_python_projet/notebooks/5_chaines_caracteres.ipynb) | [Cours suivant](https://thibauddevx.github.io/cours_python_projet/autoscripts/script_6_7.html)"
   ]
  }
 ],
 "metadata": {
  "kernelspec": {
   "display_name": "Python 3",
   "language": "python",
   "name": "python3"
  },
  "language_info": {
   "codemirror_mode": {
    "name": "ipython",
    "version": 3
   },
   "file_extension": ".py",
   "mimetype": "text/x-python",
   "name": "python",
   "nbconvert_exporter": "python",
   "pygments_lexer": "ipython3",
   "version": "3.10.7"
  }
 },
 "nbformat": 4,
 "nbformat_minor": 2
}
