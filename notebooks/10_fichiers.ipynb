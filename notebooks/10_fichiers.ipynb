{
 "cells": [
  {
   "cell_type": "markdown",
   "metadata": {},
   "source": [
    "# 5️⃣ Lecture et Écriture de Fichiers\n",
    "\n",
    "## Ouvrir un fichier\n",
    "L'ouverture d'un fichier se fait avec la fonction `open()`.\n",
    "\n",
    "## Écriture dans un fichier\n",
    "```python\n",
    "with open(\"exemple.txt\", \"w\") as fichier:\n",
    "    fichier.write(\"Bonjour, ceci est un fichier texte.\")\n",
    "```\n",
    "\n",
    "## Lecture d'un fichier\n",
    "```python\n",
    "with open(\"exemple.txt\", \"r\") as fichier:\n",
    "    contenu = fichier.read()\n",
    "    print(contenu)\n",
    "```\n",
    "\n",
    "## Exercice\n",
    "Créez un programme qui demande à l'utilisateur d'entrer une phrase et l'enregistre dans un fichier texte. Ensuite, lisez et affichez son contenu.\n"
   ]
  }
 ],
 "metadata": {
  "language_info": {
   "name": "python"
  }
 },
 "nbformat": 4,
 "nbformat_minor": 2
}
