{
 "cells": [
  {
   "cell_type": "markdown",
   "metadata": {},
   "source": [
    "# 5️⃣ Lecture et Écriture de Fichiers\n",
    "\n",
    "## Ouvrir un fichier\n",
    "L'ouverture d'un fichier se fait avec la fonction `open()`.\n",
    "\n",
    "## Écriture dans un fichier\n",
    "```python\n",
    "with open(\"exemple.txt\", \"w\") as fichier:\n",
    "    fichier.write(\"Bonjour, ceci est un fichier texte.\")\n",
    "```\n",
    "\n",
    "## Lecture d'un fichier\n",
    "```python\n",
    "with open(\"exemple.txt\", \"r\") as fichier:\n",
    "    contenu = fichier.read()\n",
    "    print(contenu)\n",
    "```\n",
    "\n",
    "## Exercice\n",
    "Créez un programme qui demande à l'utilisateur d'entrer une phrase et l'enregistre dans un fichier texte. Ensuite, lisez et affichez son contenu.\n"
   ]
  },
  {
   "cell_type": "code",
   "execution_count": 1,
   "metadata": {},
   "outputs": [
    {
     "name": "stdout",
     "output_type": "stream",
     "text": [
      "📦 Colis livrés avec succès !\n"
     ]
    }
   ],
   "source": [
    "# On prépare les données à envoyer\n",
    "colis = [\"Module scientifique\", \"Rations de survie\", \"Équipement de forage\", \"Rover d'exploration\"]\n",
    "\n",
    "# On écrit les lignes dans un fichier\n",
    "with open(\"colis_livres.txt\", \"w\") as f:\n",
    "    for ligne in colis:\n",
    "        f.write(ligne + \"\\n\")\n",
    "\n",
    "print(\"📦 Colis livrés avec succès !\")"
   ]
  }
 ],
 "metadata": {
  "kernelspec": {
   "display_name": "base",
   "language": "python",
   "name": "python3"
  },
  "language_info": {
   "codemirror_mode": {
    "name": "ipython",
    "version": 3
   },
   "file_extension": ".py",
   "mimetype": "text/x-python",
   "name": "python",
   "nbconvert_exporter": "python",
   "pygments_lexer": "ipython3",
   "version": "3.12.7"
  }
 },
 "nbformat": 4,
 "nbformat_minor": 2
}
