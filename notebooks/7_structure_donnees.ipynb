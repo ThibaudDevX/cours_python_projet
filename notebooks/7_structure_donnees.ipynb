{
 "cells": [
  {
   "cell_type": "markdown",
   "metadata": {},
   "source": [
    "# 2️⃣ Les Listes et Structures de Données\n",
    "\n",
    "## Définition\n",
    "Une liste est une structure de données qui permet de stocker plusieurs éléments dans un ordre défini.\n",
    "\n",
    "```python\n",
    "fruits = [\"pomme\", \"banane\", \"cerise\"]\n",
    "print(fruits[0])  # pomme\n",
    "print(fruits[-1]) # cerise\n",
    "```\n",
    "\n",
    "## Opérations sur les listes\n",
    "Python propose plusieurs méthodes pour manipuler les listes :\n",
    "\n",
    "```python\n",
    "fruits.append(\"orange\")  # Ajoute un élément\n",
    "fruits.remove(\"banane\")  # Supprime un élément\n",
    "fruits.sort()  # Trie la liste\n",
    "print(fruits)\n",
    "```\n",
    "\n",
    "## Itération sur une liste\n",
    "\n",
    "```python\n",
    "for fruit in fruits:\n",
    "    print(fruit)\n",
    "```\n",
    "\n",
    "## Exercice\n",
    "Créez une liste contenant trois nombres. Ajoutez un quatrième nombre, supprimez le deuxième élément, puis affichez la liste triée."
   ]
  }
 ],
 "metadata": {
  "language_info": {
   "name": "python"
  }
 },
 "nbformat": 4,
 "nbformat_minor": 2
}
