{
 "cells": [
  {
   "cell_type": "markdown",
   "metadata": {},
   "source": [
    "# 🐍 Cours 4 : Structures de contrôle et listes \n",
    "\n",
    "---\n",
    "\n",
    "Dans une recette de cuisine , on peut trouver des instructions comme \"tant qu'il y a des grumeaux, continuez de mélanger\"; il faut donc **effectuer une action tant que la condition n'est pas respectée** .  \n",
    "\"Versez 3 cuillères à soupe de lait\" est une action qu'il faut **repéter plusieurs fois** .  \n",
    " En Python , ces instructions sont des **structures de contrôle** permettant de faire varier l'execution d'un programme .  \n",
    "\n",
    "--- \n",
    "\n",
    "## 📌1. Les structures conditionnelles \n",
    "\n",
    "On retrouve la structure **if else** en Python , son fonctionnement est le même qu'en Java; on exécute un bloc si la condition est vraie, sinon on effectue l'autre avec **else** ! \n",
    " \n",
    "**Attention !** Il n'y a pas de parenthèse pour les conditions ! \n",
    " \n"
   ]
  },
  {
   "cell_type": "markdown",
   "metadata": {},
   "source": [
    "Javier repère un endroit pour poser sa navette. Avant, il doit s'assurer que la température n’est pas trop extrême pour un atterrissage sécurisé."
   ]
  },
  {
   "cell_type": "code",
   "execution_count": null,
   "metadata": {},
   "outputs": [],
   "source": [
    "# Exemple de condition \n",
    "\n",
    "température_planète  = int(input(\"entrez estimation de temp planète : \"))\n",
    "\n",
    "if température_planète < -60:\n",
    "    print(\"Alerte : Température trop basse pour un atterrissage sécurisé.\")\n",
    "else:\n",
    "    print(\"Température acceptable. Procédure d’atterrissage engagée.\")\n"
   ]
  },
  {
   "cell_type": "markdown",
   "metadata": {},
   "source": [
    "On utilise **elif** (= else if en Java) si on a besoin de plusieurs conditions. "
   ]
  },
  {
   "cell_type": "code",
   "execution_count": null,
   "metadata": {},
   "outputs": [],
   "source": [
    "# Exemple de elif \n",
    "\n",
    "temperature = float(input(\"Entrez la température de l'eau en °C : \"))\n",
    "\n",
    "if temperature <= 0 :\n",
    "    print (\"L'eau est solide\")\n",
    "elif 0 < temperature < 100:\n",
    "    print (\"L'eau est liquide\")\n",
    "else : \n",
    "    print(\"L'eau est gazeuse\")\n"
   ]
  },
  {
   "cell_type": "markdown",
   "metadata": {},
   "source": [
    "Le robot scanne le sol à la recherche de ressources exploitables. Selon la ressource détectée, il doit adapter sa stratégie d’extraction."
   ]
  },
  {
   "cell_type": "code",
   "execution_count": null,
   "metadata": {},
   "outputs": [],
   "source": [
    "import random\n",
    "\n",
    "ressource = random.choice([\"cristaux bleus\", \"métal rare\", \"crypton\"])\n",
    "print(ressource)\n",
    "\n",
    "if ressource == \"cristaux bleus\":\n",
    "    print(\"Extraction de cristaux bleus priorisée.\")\n",
    "elif ressource == \"métal rare\":\n",
    "    print(\"Extraction de métal rare priorisée.\")\n",
    "else:\n",
    "    print(\"Ressource inconnue. Analyse requise.\")\n"
   ]
  },
  {
   "cell_type": "markdown",
   "metadata": {},
   "source": [
    "\n",
    "--- \n",
    "\n",
    "## 📌2. Les structures itératives (boucles)\n",
    "\n",
    "Avec les boucles ont répète une instruction tant que la condition est **vraie**.   \n",
    "Celle-ci peut être vérifiée au début de la boucle ou après ! \n",
    "\n",
    "On a la boucle **while** , **for** et **for avec enumerate**. "
   ]
  },
  {
   "cell_type": "code",
   "execution_count": null,
   "metadata": {},
   "outputs": [],
   "source": [
    "# Exemple de boucle while\n",
    "\n",
    "nbPairsTo10 = 0 \n",
    "\n",
    "while nbPairsTo10 <= 10 :\n",
    "    print (nbPairsTo10)\n",
    "    nbPairsTo10 += 2\n"
   ]
  },
  {
   "cell_type": "markdown",
   "metadata": {},
   "source": [
    "La boucle **for** permet de parcourir une séquence comme une liste ou une chaîne de caratères par exemple. "
   ]
  },
  {
   "cell_type": "code",
   "execution_count": null,
   "metadata": {},
   "outputs": [],
   "source": [
    "# Exemple de boucle for \n",
    "\n",
    "for nbPairsTo10 in range(0, 11, 2): \n",
    "    print(nbPairsTo10)"
   ]
  },
  {
   "cell_type": "markdown",
   "metadata": {},
   "source": [
    "Ajoute **enumerate** pour parcourir une liste et  obtenir **l'index**. "
   ]
  },
  {
   "cell_type": "code",
   "execution_count": 1,
   "metadata": {},
   "outputs": [
    {
     "name": "stdout",
     "output_type": "stream",
     "text": [
      "Index 0 : galaxie\n",
      "Index 1 : etoile\n",
      "Index 2 : terre\n"
     ]
    }
   ],
   "source": [
    "espace = [\"galaxie\", \"etoile\", \"terre\"]\n",
    "for espace, univers in enumerate(espace):\n",
    "    print(f\"Index {espace} : {univers}\")"
   ]
  },
  {
   "cell_type": "markdown",
   "metadata": {},
   "source": [
    "## 💪 Exercice\n",
    "\n",
    "J-4V1-3R doit réparer le bouclier du vaisseau en injectant 125 unités d'énergie. Chaque réservoir contient 17 unités.\n",
    "Combien de réservoirs doit-il utiliser ?   \n",
    "\n",
    "Complète le programme ci-dessous ! "
   ]
  },
  {
   "cell_type": "code",
   "execution_count": null,
   "metadata": {},
   "outputs": [],
   "source": [
    "# Quantité d'énergie nécessaire pour la réparation  \n",
    "energie_necessaire = ...  \n",
    "\n",
    "# Quantité d'énergie par réservoir  \n",
    "energie_par_reservoir = ... \n",
    "\n",
    "# Initialisation du nombre de réservoirs et de l'énergie totale  \n",
    "nombre_reservoirs = 0  \n",
    "energie_totale = 0  \n",
    "\n",
    "# Boucle pour ajouter des réservoirs jusqu'à atteindre ou dépasser l'énergie nécessaire  \n",
    "while ... < ... :  \n",
    "    ... += 1  \n",
    "    ... += ...\n",
    "\n",
    "# Affichage du résultat  \n",
    "print(f\"Nombre de réservoirs nécessaires : {nombre_reservoirs}\")  \n",
    "print(f\"Énergie totale injectée : {energie_totale} unités\")  \n",
    "print(f\"Il y a {...} unités d'énergie en plus\")  "
   ]
  },
  {
   "cell_type": "code",
   "execution_count": null,
   "metadata": {},
   "outputs": [],
   "source": [
    "# Solution\n",
    "\n",
    "# Quantité d'énergie nécessaire pour la réparation  \n",
    "energie_necessaire = 125  \n",
    "\n",
    "# Quantité d'énergie par réservoir  \n",
    "energie_par_reservoir = 17  \n",
    "\n",
    "# Initialisation du nombre de réservoirs et de l'énergie totale  \n",
    "nombre_reservoirs = 0  \n",
    "energie_totale = 0  \n",
    "\n",
    "# Boucle pour ajouter des réservoirs jusqu'à atteindre ou dépasser l'énergie nécessaire  \n",
    "while energie_totale < energie_necessaire:  \n",
    "    nombre_reservoirs += 1  \n",
    "    energie_totale += energie_par_reservoir  \n",
    "\n",
    "# Affichage du résultat  \n",
    "print(f\"Nombre de réservoirs nécessaires : {nombre_reservoirs}\")  \n",
    "print(f\"Énergie totale injectée : {energie_totale} unités\")  \n",
    "print(f\"Il y a {energie_totale - energie_necessaire} unités d'énergie en plus\")  "
   ]
  },
  {
   "cell_type": "markdown",
   "metadata": {},
   "source": [
    "\n",
    "--- \n",
    "\n",
    "## 📌3. Instructions break et continue\n",
    "\n",
    "Si on souhaite sortir d'une boucle, on utilise **break**"
   ]
  },
  {
   "cell_type": "code",
   "execution_count": null,
   "metadata": {},
   "outputs": [],
   "source": [
    "# Exemple de break\n",
    "\n",
    "for nbPairsTo10 in range(0, 11 , 2):\n",
    "    if nbPairsTo10 == 6:\n",
    "        break\n",
    "    print(nbPairsTo10)  "
   ]
  },
  {
   "cell_type": "markdown",
   "metadata": {},
   "source": [
    "Avec **continue** , on passe la condition externe pour continuer sur la suite de la boucle  "
   ]
  },
  {
   "cell_type": "code",
   "execution_count": null,
   "metadata": {},
   "outputs": [],
   "source": [
    "# Exemple de continue\n",
    "\n",
    "for nbPairsTo10 in range(0, 11 , 2):\n",
    "    if nbPairsTo10 == 6:\n",
    "        continue\n",
    "    print(nbPairsTo10) "
   ]
  },
  {
   "cell_type": "markdown",
   "metadata": {},
   "source": [
    "\n",
    "--- \n",
    "\n",
    "## 📌4. Les listes \n",
    "\n",
    "En Python, il n'y a pas de **tableaux** au sens strict comme en Java. À la place, on utilise des **listes** ! \n",
    "\n"
   ]
  },
  {
   "cell_type": "code",
   "execution_count": null,
   "metadata": {},
   "outputs": [],
   "source": [
    "# Exemple de liste \n",
    "\n",
    "espace = [\"galaxie\", \"etoile\", \"terre\"]\n",
    "\n",
    "print(espace)"
   ]
  },
  {
   "cell_type": "markdown",
   "metadata": {},
   "source": [
    "\n",
    "On accède aux éléments d'une liste par leur **index**; le premier élément est à l'index 0 .\n",
    "\n",
    "Que va afficher un index négatif ? "
   ]
  },
  {
   "cell_type": "code",
   "execution_count": null,
   "metadata": {},
   "outputs": [],
   "source": [
    "# Exemple d'index \n",
    "\n",
    "espace = [\"galaxie\", \"etoile\", \"terre\"]\n",
    "\n",
    "print(espace[-2])"
   ]
  },
  {
   "cell_type": "markdown",
   "metadata": {},
   "source": [
    "Les listes ne sont pas **définitives**, on peut toujours modifier leurs éléments . "
   ]
  },
  {
   "cell_type": "code",
   "execution_count": null,
   "metadata": {},
   "outputs": [],
   "source": [
    "# Exemple de modification \n",
    "\n",
    "espace = [\"galaxie\", \"etoile\", \"terre\"]\n",
    "\n",
    "espace[1] = \"nebuleuse\"\n",
    "\n",
    "print(espace)  "
   ]
  },
  {
   "cell_type": "markdown",
   "metadata": {},
   "source": [
    "Pour ajouter un ou plusieurs éléments à ta liste , plusieurs méthodes sont possibles ! \n",
    "\n",
    "* **append()** pour ajouter un élément à la fin de la liste\n",
    "* **extend()** pour ajouter plusieurs éléments à la fin de la liste \n",
    "* **insert()** pour ajouter un élément à l'index choisis\n"
   ]
  },
  {
   "cell_type": "code",
   "execution_count": null,
   "metadata": {},
   "outputs": [
    {
     "name": "stdout",
     "output_type": "stream",
     "text": [
      "['pomme', 'cerise', 'banane', 'orange', 'fraise', 'ananas', 'mangue']\n"
     ]
    }
   ],
   "source": [
    "# Exemple d'ajout \n",
    "\n",
    "espace = [\"galaxie\", \"etoile\", \"terre\"]\n",
    "\n",
    "espace.append(\"nebuleuse\")\n",
    "\n",
    "espace.extend([\"lune\", \"soleil\"])\n",
    "\n",
    "espace.insert(1, \"asteroide\")\n",
    "\n",
    "print(espace)  "
   ]
  },
  {
   "cell_type": "markdown",
   "metadata": {},
   "source": [
    "Pour la suppression d'éléments, plusieurs façons sont aussi disponibles !\n",
    "\n",
    "* **remove()** supprime la première occurence de l'élément \n",
    "* **pop()** supprime et retourne l'élément à l'index choisis (ou le dernier par défaut)\n",
    "* **del** supprime un élément en indiquant son index\n"
   ]
  },
  {
   "cell_type": "code",
   "execution_count": 2,
   "metadata": {},
   "outputs": [
    {
     "data": {
      "text/plain": [
       "'terre'"
      ]
     },
     "execution_count": 2,
     "metadata": {},
     "output_type": "execute_result"
    }
   ],
   "source": [
    "# Exemple de suppresion\n",
    "\n",
    "espace = [\"galaxie\", \"etoile\", \"terre\",\"nebuleuse\"]\n",
    "\n",
    "espace.remove(\"etoile\")\n",
    "\n",
    "espace.pop(1)  \n",
    "\n",
    " \n"
   ]
  },
  {
   "cell_type": "code",
   "execution_count": 3,
   "metadata": {},
   "outputs": [
    {
     "name": "stdout",
     "output_type": "stream",
     "text": [
      "['nebuleuse']\n"
     ]
    }
   ],
   "source": [
    "del espace[0] \n",
    "\n",
    "print(espace)"
   ]
  },
  {
   "cell_type": "markdown",
   "metadata": {},
   "source": [
    "\n",
    "--- \n",
    "\n",
    "## 📌5. Les listes multidimentionnelles \n",
    "\n",
    "Nous allons voir maintenant les **listes** de **listes** ! Très utiles pour représenter les matrices \n"
   ]
  },
  {
   "cell_type": "code",
   "execution_count": null,
   "metadata": {},
   "outputs": [
    {
     "name": "stdout",
     "output_type": "stream",
     "text": [
      "[['a', 'b', 'c'], [1, 2, 3]]\n"
     ]
    }
   ],
   "source": [
    "# Exemple de matrice \n",
    "\n",
    "matrice = [ [ 'a','b','c'], [1,2,3]]\n",
    "\n",
    "print(matrice)"
   ]
  },
  {
   "cell_type": "markdown",
   "metadata": {},
   "source": [
    "Pour accéder à un élément, on donne l'indice sous forme **[ligne] [colonne]**  \n",
    "ATTENTION ! on démarre à 0 et non pas à 1 ! "
   ]
  },
  {
   "cell_type": "code",
   "execution_count": null,
   "metadata": {},
   "outputs": [
    {
     "name": "stdout",
     "output_type": "stream",
     "text": [
      "3\n"
     ]
    }
   ],
   "source": [
    "# Exemple d'accès\n",
    "\n",
    "matrice = [ [ 'a','b','c'], [1,2,3]]\n",
    "\n",
    "print(matrice[1][2]) "
   ]
  },
  {
   "cell_type": "markdown",
   "metadata": {},
   "source": [
    "\n",
    "--- \n",
    "\n",
    "## 📌6. Les fonctions à savoir \n",
    "\n",
    "Petite listes des fonctions importantes pour manipuler les listes. \n",
    "\n",
    "* **len()** permet de connaitre la longueur d'une liste; c'est-à-dire le nombre d'éléments "
   ]
  },
  {
   "cell_type": "code",
   "execution_count": null,
   "metadata": {},
   "outputs": [
    {
     "name": "stdout",
     "output_type": "stream",
     "text": [
      "4\n"
     ]
    }
   ],
   "source": [
    "# Exemple \n",
    "\n",
    "espace = [\"galaxie\", \"etoile\", \"terre\",\"nebuleuse\"]\n",
    "\n",
    "print(len(espace))"
   ]
  },
  {
   "cell_type": "markdown",
   "metadata": {},
   "source": [
    "\n",
    "* **sort()** trie la liste  \n",
    "* **sorted()** retourne une nouvelle liste triée "
   ]
  },
  {
   "cell_type": "code",
   "execution_count": null,
   "metadata": {},
   "outputs": [
    {
     "name": "stdout",
     "output_type": "stream",
     "text": [
      "['banane', 'kiwi', 'orange', 'pomme']\n",
      "['pomme', 'orange', 'kiwi', 'banane']\n"
     ]
    }
   ],
   "source": [
    "#Exemple de tri ordre alphabétique puis décroissant\n",
    "\n",
    "espace = [\"galaxie\", \"etoile\", \"terre\",\"nebuleuse\"]\n",
    "\n",
    "espace.sort()\n",
    "\n",
    "print(espace) \n",
    "\n",
    "\n",
    "espace.sort(reverse=True)\n",
    "\n",
    "print(espace)  "
   ]
  },
  {
   "cell_type": "markdown",
   "metadata": {},
   "source": [
    "\n",
    "* **copy()** pour copier une liste. La modification de la liste origninale modifie aussi la liste créée. \n",
    "* **list()** pour créer une liste à partir d'un objet itérable (liste, tuple, string...). "
   ]
  },
  {
   "cell_type": "code",
   "execution_count": 4,
   "metadata": {},
   "outputs": [
    {
     "name": "stdout",
     "output_type": "stream",
     "text": [
      "['galaxie', 'etoile', 'terre', 'nebuleuse']\n",
      "['galaxie', 'nebuleuse']\n"
     ]
    }
   ],
   "source": [
    "# Exemple de copy()\n",
    "\n",
    "espace = [\"galaxie\", \"etoile\", \"terre\",\"nebuleuse\"]\n",
    "\n",
    "univers = espace.copy()\n",
    "\n",
    "univers.remove(\"etoile\")\n",
    "univers.remove(\"terre\")\n",
    "\n",
    "print(espace)\n",
    "print(univers)"
   ]
  },
  {
   "cell_type": "code",
   "execution_count": 5,
   "metadata": {},
   "outputs": [
    {
     "name": "stdout",
     "output_type": "stream",
     "text": [
      "['e', 's', 'p', 'a', 'c', 'e']\n"
     ]
    }
   ],
   "source": [
    "# Exemple de list()\n",
    "\n",
    "chaine = \"espace\"\n",
    "liste_lettres = list(chaine)\n",
    "\n",
    "print(liste_lettres)  \n",
    "\n"
   ]
  },
  {
   "cell_type": "markdown",
   "metadata": {},
   "source": [
    "\n",
    "* **index()** retourne l'index de la première occurence d'un élément"
   ]
  },
  {
   "cell_type": "code",
   "execution_count": 7,
   "metadata": {},
   "outputs": [
    {
     "name": "stdout",
     "output_type": "stream",
     "text": [
      "2\n"
     ]
    }
   ],
   "source": [
    "# Exemple index()\n",
    "\n",
    "espace = [\"galaxie\", \"etoile\", \"terre\",\"nebuleuse\",\"terre\"]\n",
    "\n",
    "index = espace.index(\"terre\")\n",
    "\n",
    "print(index)"
   ]
  },
  {
   "cell_type": "markdown",
   "metadata": {},
   "source": [
    "\n",
    "--- \n",
    "\n",
    "## 7. Exercice\n",
    "\n",
    "J-4V1-3R doit vérifier le stock d'énergie du vaisseau et déclencher des alertes si nécessaire\n",
    "\n",
    "Complète le programme pour l'aider : "
   ]
  },
  {
   "cell_type": "code",
   "execution_count": null,
   "metadata": {},
   "outputs": [],
   "source": [
    "# 1. Liste des niveaux d'énergie des réservoirs (en %)  \n",
    "reservoirs = [15, 45, 30, 70, 10]  \n",
    "\n",
    "# 2. Afficher le nombre de réservoirs  \n",
    "print(f\"Nombre de réservoirs : {...}\")  \n",
    "\n",
    "# 3. Ajouter un nouveau réservoir à 50%  \n",
    "...  \n",
    "\n",
    "# 4. Parcourir la liste et afficher les réservoirs critiques (<20%)  \n",
    "for i, niveau in enumerate(reservoirs):  \n",
    "    if ...:  \n",
    "        print(f\"Réservoir {i} critique : {niveau}%\")  \n",
    "\n",
    "# 5. Trier la liste par niveau décroissant  \n",
    "...  \n",
    "\n",
    "# 6. Afficher la liste triée  \n",
    "print(\"Réservoirs triés :\", reservoirs)  "
   ]
  },
  {
   "cell_type": "code",
   "execution_count": null,
   "metadata": {},
   "outputs": [],
   "source": [
    "# Solution \n",
    "\n",
    "# 1. Liste des niveaux d'énergie des réservoirs (en %)  \n",
    "reservoirs = [15, 45, 30, 70, 10]  \n",
    "\n",
    "# 2. Afficher le nombre de réservoirs  \n",
    "print(f\"Nombre de réservoirs : {len(reservoirs)}\")  # Utilisation de len()  \n",
    "\n",
    "# 3. Ajouter un nouveau réservoir à 50%  \n",
    "reservoirs.append(50)  # Utilisation de append()  \n",
    "\n",
    "# 4. Parcourir la liste et afficher les réservoirs critiques (<20%)  \n",
    "for i, niveau in enumerate(reservoirs):  \n",
    "    if niveau < 20:  # Condition pour les réservoirs critiques  \n",
    "        print(f\"Réservoir {i} critique : {niveau}%\")  \n",
    "\n",
    "# 5. Trier la liste par niveau décroissant  \n",
    "reservoirs.sort(reverse=True)  # Tri décroissant  \n",
    "\n",
    "# 6. Afficher la liste triée  \n",
    "print(\"Réservoirs triés :\", reservoirs)  "
   ]
  }
 ],
 "metadata": {
  "kernelspec": {
   "display_name": "Python 3",
   "language": "python",
   "name": "python3"
  },
  "language_info": {
   "codemirror_mode": {
    "name": "ipython",
    "version": 3
   },
   "file_extension": ".py",
   "mimetype": "text/x-python",
   "name": "python",
   "nbconvert_exporter": "python",
   "pygments_lexer": "ipython3",
   "version": "3.10.2"
  }
 },
 "nbformat": 4,
 "nbformat_minor": 2
}
