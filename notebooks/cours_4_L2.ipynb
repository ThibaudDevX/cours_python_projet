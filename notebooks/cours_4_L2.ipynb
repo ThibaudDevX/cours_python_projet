{
 "cells": [
  {
   "cell_type": "markdown",
   "metadata": {},
   "source": [
    "# 🐍 Cours 2 : Structures de contrôle et tableaux \n",
    "\n",
    "---\n",
    "\n",
    "Dans une recette de cuisine , on peut trouver des instructions comme \"tant qu'il y a des grumeaux, continuez de mélanger\"; il faut donc **effectuer une action tant que la condition n'est pas respectée** .  \n",
    "\"Versez 3 cuillères à soupe de lait\" est une action qu'il faut **repéter plusieurs fois** .  \n",
    " En Python , ces instructions sont des **structures de contrôle** permettant de faire varier l'execution d'un programme .  \n",
    "\n",
    "--- \n",
    "\n",
    "## 1. Les structures conditionnelles \n",
    "\n",
    "On retrouve la structure **if else** en Python , son fonctionnement est le même qu'en Java; on exécute un bloc si la condition est vraie, sinon on effectue l'autre avec **else** ! \n",
    " \n",
    "**Attention !** Il n'y a pas de parenthèse pour les conditions ! \n",
    " \n"
   ]
  },
  {
   "cell_type": "code",
   "execution_count": 10,
   "metadata": {},
   "outputs": [
    {
     "name": "stdout",
     "output_type": "stream",
     "text": [
      "Tu es mineur\n"
     ]
    }
   ],
   "source": [
    "# Exemple de condition \n",
    "\n",
    "age = int(input(\"Quel âge as-tu? : \"))\n",
    "\n",
    "if age >= 18 :\n",
    "    print(\"Tu es majeur\")\n",
    "else:\n",
    "    print(\"Tu es mineur\")\n"
   ]
  },
  {
   "cell_type": "code",
   "execution_count": null,
   "metadata": {},
   "outputs": [
    {
     "name": "stdout",
     "output_type": "stream",
     "text": [
      "Mineur\n"
     ]
    }
   ],
   "source": [
    "# Exemple sur une ligne \n",
    "\n",
    "age = int(input(\"Quel âge as-tu? : \"))\n",
    "\n",
    "age = \"Tu es majeur\" if age >= 18 else \"Tu es mineur\"\n",
    "print(age)"
   ]
  },
  {
   "cell_type": "markdown",
   "metadata": {},
   "source": [
    "On utilise **elif** (= else if en Java) si on a besoin de plusieurs conditions. "
   ]
  },
  {
   "cell_type": "code",
   "execution_count": 9,
   "metadata": {},
   "outputs": [
    {
     "name": "stdout",
     "output_type": "stream",
     "text": [
      "L'eau est liquide\n"
     ]
    }
   ],
   "source": [
    "# Exemple de elif \n",
    "temperature = float(input(\"Entrez la température de l'eau en °C : \"))\n",
    "\n",
    "if temperature <= 0 :\n",
    "    print (\"L'eau est solide\")\n",
    "elif 0 < temperature < 100:\n",
    "    print (\"L'eau est liquide\")\n",
    "else : \n",
    "    print(\"L'eau est gazeuse\")\n"
   ]
  },
  {
   "cell_type": "markdown",
   "metadata": {},
   "source": [
    "\n",
    "--- \n",
    "\n",
    "## 2. Les structures itératives (boucles)\n",
    "\n",
    "Avec les boucles ont répète une instruction tant que la condition est **vraie**.   \n",
    "Celle-ci peut être vérifiée au début de la boucle ou après ! \n",
    "\n",
    "On a la boucle **while** , **for** et **for avec enumerate**. "
   ]
  },
  {
   "cell_type": "code",
   "execution_count": null,
   "metadata": {},
   "outputs": [
    {
     "name": "stdout",
     "output_type": "stream",
     "text": [
      "0\n",
      "2\n",
      "4\n",
      "6\n",
      "8\n",
      "10\n"
     ]
    }
   ],
   "source": [
    "# Exemple de boucle while\n",
    "\n",
    "nbPairsTo10 = 0 \n",
    "\n",
    "while nbPairsTo10 <= 10 :\n",
    "    print (nbPairsTo10)\n",
    "    nbPairsTo10 += 2\n"
   ]
  },
  {
   "cell_type": "markdown",
   "metadata": {},
   "source": [
    "La boucle **for** permet de parcourir une séquence comme une liste ou une chaîne de caratères par exemple. "
   ]
  },
  {
   "cell_type": "code",
   "execution_count": null,
   "metadata": {},
   "outputs": [
    {
     "name": "stdout",
     "output_type": "stream",
     "text": [
      "0\n",
      "2\n",
      "4\n",
      "6\n",
      "8\n",
      "10\n"
     ]
    }
   ],
   "source": [
    "# Exemple de boucle for \n",
    "\n",
    "for nbPairsTo10 in range(0, 11, 2): \n",
    "    print(nbPairsTo10)"
   ]
  },
  {
   "cell_type": "markdown",
   "metadata": {},
   "source": [
    "Ajoute **enumerate** pour parcourir une liste et  obtenir **l'index**. "
   ]
  },
  {
   "cell_type": "code",
   "execution_count": 17,
   "metadata": {},
   "outputs": [
    {
     "name": "stdout",
     "output_type": "stream",
     "text": [
      "Index 0 : pomme\n",
      "Index 1 : banane\n",
      "Index 2 : orange\n"
     ]
    }
   ],
   "source": [
    "listeFruits = [\"pomme\", \"banane\", \"orange\"]\n",
    "for listeDeCourse, fruit in enumerate(listeFruits):\n",
    "    print(f\"Index {listeDeCourse} : {fruit}\")"
   ]
  },
  {
   "cell_type": "markdown",
   "metadata": {},
   "source": [
    "## 💪 Exercice\n",
    "\n",
    "Pour ma recette , j'ai besoin de verser 125g de yaourt dans mon thermomix , et chaque pot contient 17g de yaourt ; combien de pots ai-je besoin pour mon gateau ?   \n",
    "\n",
    "Complète le programme ci-dessous ! "
   ]
  },
  {
   "cell_type": "code",
   "execution_count": null,
   "metadata": {},
   "outputs": [
    {
     "name": "stdout",
     "output_type": "stream",
     "text": [
      "Nombre de pots nécessaires : 8\n",
      "Quantité totale de yaourt : 136g\n",
      "Il y a 11g de yaourt en plus\n"
     ]
    }
   ],
   "source": [
    "# Quantité de yaourt nécessaire pour la recette\n",
    "yaourt_necessaire_en_gramme = ...\n",
    "\n",
    "# Quantité de yaourt par pot\n",
    "yaourt_par_pot_en_gramme = ...\n",
    "\n",
    "# Initialisation du nombre de pots et de la quantité totale de yaourt\n",
    "nombre_pots = 0\n",
    "quantite_totale = 0\n",
    "\n",
    "# Boucle pour ajouter des pots jusqu'à atteindre ou dépasser la quantité nécessaire\n",
    "while ... < ...:\n",
    "    ... += 1\n",
    "    ... += ...\n",
    "\n",
    "# Affichage du résultat\n",
    "print(f\"Nombre de pots nécessaires : {nombre_pots}\")\n",
    "print(f\"Quantité totale de yaourt : {quantite_totale}g\")\n",
    "\n",
    "print(f\"Il y a {...}g de yaourt en plus\")"
   ]
  },
  {
   "cell_type": "markdown",
   "metadata": {},
   "source": [
    "\n",
    "--- \n",
    "\n",
    "## 3. Instructions break et continue\n",
    "\n",
    "Si on souhaite sortir d'une boucle, on utilise **break**"
   ]
  },
  {
   "cell_type": "code",
   "execution_count": 22,
   "metadata": {},
   "outputs": [
    {
     "name": "stdout",
     "output_type": "stream",
     "text": [
      "0\n",
      "2\n",
      "4\n"
     ]
    }
   ],
   "source": [
    "# Exemple de break\n",
    "\n",
    "for nbPairsTo10 in range(0, 11 , 2):\n",
    "    if nbPairsTo10 == 6:\n",
    "        break\n",
    "    print(nbPairsTo10)  "
   ]
  },
  {
   "cell_type": "markdown",
   "metadata": {},
   "source": [
    "Avec **continue** , on passe la condition externe pour continuer sur la suite de la boucle  "
   ]
  },
  {
   "cell_type": "code",
   "execution_count": 23,
   "metadata": {},
   "outputs": [
    {
     "name": "stdout",
     "output_type": "stream",
     "text": [
      "0\n",
      "2\n",
      "4\n",
      "8\n",
      "10\n"
     ]
    }
   ],
   "source": [
    "# Exemple de continue\n",
    "\n",
    "for nbPairsTo10 in range(0, 11 , 2):\n",
    "    if nbPairsTo10 == 6:\n",
    "        continue\n",
    "    print(nbPairsTo10) "
   ]
  },
  {
   "cell_type": "markdown",
   "metadata": {},
   "source": [
    "\n",
    "--- \n",
    "\n",
    "## 4. Les listes \n",
    "\n",
    "En Python, il n'y a pas de **tableaux** au sens strict comme en Java. À la place, on utilise des **listes** ! \n",
    "\n"
   ]
  },
  {
   "cell_type": "code",
   "execution_count": null,
   "metadata": {},
   "outputs": [],
   "source": [
    "# Exemple de liste \n",
    "\n",
    "fruits = [\"pomme\", \"banane\", \"orange\"]\n",
    "\n",
    "print(fruits)"
   ]
  },
  {
   "cell_type": "markdown",
   "metadata": {},
   "source": [
    "\n",
    "On accède aux éléments d'une liste par leur **index**; le premier élément est à l'index 0 .\n",
    "\n",
    "Que va afficher un index négatif ? "
   ]
  },
  {
   "cell_type": "code",
   "execution_count": null,
   "metadata": {},
   "outputs": [
    {
     "name": "stdout",
     "output_type": "stream",
     "text": [
      "banane\n"
     ]
    }
   ],
   "source": [
    "# Exemple d'index \n",
    "\n",
    "fruits = [\"pomme\", \"banane\", \"orange\"]\n",
    "\n",
    "print(fruits[-2])"
   ]
  },
  {
   "cell_type": "markdown",
   "metadata": {},
   "source": [
    "Les listes ne sont pas **définitives**, on peut toujours modifier leurs éléments . "
   ]
  },
  {
   "cell_type": "code",
   "execution_count": null,
   "metadata": {},
   "outputs": [
    {
     "name": "stdout",
     "output_type": "stream",
     "text": [
      "['pomme', 2, 'orange']\n"
     ]
    }
   ],
   "source": [
    "# Exemple de modification \n",
    "\n",
    "fruits = [\"pomme\", \"banane\", \"orange\"]\n",
    "\n",
    "fruits[1] = \"kiwi\"\n",
    "\n",
    "print(fruits)  # Affiche [\"pomme\", \"kiwi\", \"orange\"]"
   ]
  }
 ],
 "metadata": {
  "kernelspec": {
   "display_name": "Python 3",
   "language": "python",
   "name": "python3"
  },
  "language_info": {
   "codemirror_mode": {
    "name": "ipython",
    "version": 3
   },
   "file_extension": ".py",
   "mimetype": "text/x-python",
   "name": "python",
   "nbconvert_exporter": "python",
   "pygments_lexer": "ipython3",
   "version": "3.12.3"
  }
 },
 "nbformat": 4,
 "nbformat_minor": 2
}
