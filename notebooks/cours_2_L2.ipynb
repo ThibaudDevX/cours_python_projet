{
 "cells": [
  {
   "cell_type": "markdown",
   "metadata": {},
   "source": [
    "# 🐍 Cours 2 : Les objets en Python\n",
    "\n",
    "---\n",
    "## 📌 1. Introduction aux objets\n",
    "\n",
    "En Python, tout est objet. Un **objet** est une **instance d'une classe**, et il est manipulé via des **références**. \n",
    "Contrairement à d'autres langages comme Java, Python ne nécessite pas l'utilisation de **new** pour instancier un objet !\n",
    "\n",
    "\n"
   ]
  },
  {
   "cell_type": "code",
   "execution_count": 1,
   "metadata": {},
   "outputs": [
    {
     "name": "stdout",
     "output_type": "stream",
     "text": [
      "J-4V1-3R\n"
     ]
    }
   ],
   "source": [
    "# Exemple de création d'un objet en Python\n",
    "robot = \"J-4V1-3R\"  \n",
    "print(robot)"
   ]
  },
  {
   "cell_type": "markdown",
   "metadata": {},
   "source": [
    "👉 Ici, s est une référence qui pointe vers un objet de type str (chaîne de caractères).\n",
    "\n",
    "---\n",
    "## 📌 2. Les références en Python\n",
    "\n",
    "Les objets sont manipulés via des références. Une **référence** est comme un pointeur vers un **objet en mémoire**."
   ]
  },
  {
   "cell_type": "code",
   "execution_count": null,
   "metadata": {},
   "outputs": [
    {
     "name": "stdout",
     "output_type": "stream",
     "text": [
      "Licence MIASHS\n"
     ]
    }
   ],
   "source": [
    "# Exemple de référence\n",
    "\n",
    "robot1 = \"J-4V1-3R\"  # 'robot1' référence un objet de type str\n",
    "robot2= robot1  # 'robot2' référence le même objet que 'robot2'\n",
    "print(robot2)"
   ]
  },
  {
   "cell_type": "markdown",
   "metadata": {},
   "source": [
    "\n",
    "👉 Ici, t et s pointent vers le même objet en mémoire.\n",
    "\n",
    "---\n",
    "## 📌 3. La création d'objets\n",
    "\n",
    "En Python, les objets sont créés dynamiquement. On peut utiliser des **constructeurs** ou des **littéraux** pour créer des objets."
   ]
  },
  {
   "cell_type": "code",
   "execution_count": null,
   "metadata": {},
   "outputs": [],
   "source": [
    "# Création d'objets avec des littéraux\n",
    "\n",
    "i = 3  # 'i' est un objet de type int\n",
    "f = 3.14  # 'f' est un objet de type float\n",
    "b = True  # 'b' est un objet de type bool\n",
    "\n",
    "print(i, f, b)"
   ]
  },
  {
   "cell_type": "markdown",
   "metadata": {},
   "source": [
    "👉 Les types de base comme int, float, et bool sont déjà des objets en Python.\n",
    "\n",
    "---\n",
    "## 📌 4. Conversion de types\n",
    "\n",
    "Python permet des conversions de types, à la fois **explicites** (restrictive) et **implicites** (élargissante)"
   ]
  },
  {
   "cell_type": "code",
   "execution_count": null,
   "metadata": {},
   "outputs": [],
   "source": [
    "# Conversion explicite (cast)\n",
    "\n",
    "d = 1.7\n",
    "i = int(d)  # Conversion de float en int (troncature)\n",
    "print(i)"
   ]
  },
  {
   "cell_type": "code",
   "execution_count": null,
   "metadata": {},
   "outputs": [],
   "source": [
    "# Conversion implicite\n",
    "\n",
    "x = 10  # int\n",
    "y = 3.14  # float\n",
    "z = x + y  # Conversion implicite de int vers float\n",
    "print(z)"
   ]
  },
  {
   "cell_type": "markdown",
   "metadata": {},
   "source": [
    "👉 Python effectue **automatiquement** certaines conversions, comme lors de l'addition d'un int et d'un float.\n",
    "\n",
    "---\n",
    "## 📌 5. Portée des variables\n",
    "\n",
    "La **portée** d'une variable détermine sa visibilité et sa durée de vie. En Python, la portée est définie par les blocs de code."
   ]
  },
  {
   "cell_type": "code",
   "execution_count": null,
   "metadata": {},
   "outputs": [],
   "source": [
    "# Exemple de portée locale\n",
    "\n",
    "def ma_fonction():\n",
    "    i = 3  # 'i' est visible uniquement dans ma_fonction\n",
    "    if i > 0:\n",
    "        j = 4  # 'j' est visible uniquement dans ce bloc if\n",
    "    # 'j' n'est plus visible ici\n",
    "# 'i' n'est plus visible ici\n",
    "\n",
    "ma_fonction()"
   ]
  },
  {
   "cell_type": "markdown",
   "metadata": {},
   "source": [
    "👉 Les variables locales ne sont accessibles que dans le bloc où elles sont définies.\n",
    "\n",
    "---\n",
    "## 📌 6. Portée globale vs locale\n",
    "\n",
    "Une variable **globale** est accessible partout dans le programme, tandis qu'une variable **locale** est limitée à un bloc spécifique."
   ]
  },
  {
   "cell_type": "code",
   "execution_count": 3,
   "metadata": {},
   "outputs": [
    {
     "name": "stdout",
     "output_type": "stream",
     "text": [
      "Intérieur de test 2\n",
      "Après test 2\n"
     ]
    }
   ],
   "source": [
    "# Exemple de portée globale\n",
    "\n",
    "a = 2  # Variable globale\n",
    "\n",
    "def test():\n",
    "    print(\"Intérieur de test\", a)\n",
    "\n",
    "test()\n",
    "print(\"Après test\", a)"
   ]
  },
  {
   "cell_type": "code",
   "execution_count": null,
   "metadata": {},
   "outputs": [],
   "source": [
    "# Exemple de portée locale\n",
    "\n",
    "a = 2  # Variable globale\n",
    "\n",
    "def test():\n",
    "    a = 3  # Variable locale\n",
    "    print(\"Intérieur de test\", a)\n",
    "\n",
    "test()\n",
    "print(\"Après test\", a)"
   ]
  },
  {
   "cell_type": "markdown",
   "metadata": {},
   "source": [
    "👉 Une variable locale dans une fonction ne modifie pas la variable globale du même nom.\n",
    "\n",
    "Le mot-clé **global** permet de modifier une variable globale à l'intérieur d'une fonction.\n",
    "\n",
    "Que va afficher le programme suivant ? "
   ]
  },
  {
   "cell_type": "code",
   "execution_count": null,
   "metadata": {},
   "outputs": [
    {
     "name": "stdout",
     "output_type": "stream",
     "text": [
      "Intérieur de test 3\n",
      "3\n"
     ]
    }
   ],
   "source": [
    "# Exemple d'utilisation de global\n",
    "\n",
    "a = 2  # Variable globale\n",
    "\n",
    "def test():\n",
    "    global a  # On utilise la variable globale 'a'\n",
    "    a = 3  # Modification de la variable globale\n",
    "    print(\"Intérieur de test\", a)\n",
    "\n",
    "test()\n",
    "print(\"Après test\",a)"
   ]
  },
  {
   "cell_type": "markdown",
   "metadata": {},
   "source": [
    "👉 Avec **global**, la modification de a à l'intérieur de la fonction affecte également la variable globale.\n"
   ]
  },
  {
   "cell_type": "markdown",
   "metadata": {},
   "source": [
    "\n",
    "---\n",
    "## 📌 9. Les méthodes d'un objet\n",
    "Les objets en Python peuvent également avoir des **méthodes**, qui sont des fonctions associées à l'objet."
   ]
  },
  {
   "cell_type": "code",
   "execution_count": 5,
   "metadata": {},
   "outputs": [
    {
     "name": "stdout",
     "output_type": "stream",
     "text": [
      "J-4V1-3R\n",
      "12345\n"
     ]
    }
   ],
   "source": [
    "# Exemple de méthode\n",
    "\n",
    "class MyClass:\n",
    "    \"\"\"Une classe simple\"\"\"\n",
    "    i = 12345  # Attribut de classe\n",
    "\n",
    "    def f(self):\n",
    "        return 'J-4V1-3R'  # Méthode de classe\n",
    "\n",
    "obj = MyClass()  # Création d'un objet de type MyClass\n",
    "print(obj.f())  # Appel de la méthode 'f'\n",
    "print(obj.i)  # Appel de l'entier 'i'"
   ]
  },
  {
   "cell_type": "markdown",
   "metadata": {},
   "source": [
    "\n",
    "---\n",
    "## 📌 9. Le ramasse-miettes (Garbage Collector)\n",
    "En Python, la gestion de la mémoire est **automatique** grâce au **ramasse-miettes** (garbage collector). Vous n'avez pas besoin de détruire manuellement les objets."
   ]
  },
  {
   "cell_type": "code",
   "execution_count": null,
   "metadata": {},
   "outputs": [],
   "source": [
    "# Exemple de gestion automatique de la mémoire, testez pour vous memes!\n",
    "\n",
    "robot = \"J-4V1-3R\"\n",
    "del robot  # L'objet référencé par 's' est supprimé de la mémoire\n",
    "print(robot) # Erreur !"
   ]
  },
  {
   "cell_type": "markdown",
   "metadata": {},
   "source": [
    "\n",
    "---\n",
    "##  10. Exercice \n",
    "\n",
    "Créez une fonction calculer_vitesse(distance, temps) qui permet à J-4V1-3R de calculer la vitesse du vaisseau  :\n",
    "\n",
    "Convertit distance (en km) et temps (en heures) en float.\n",
    "\n",
    "Renvoie la vitesse en km/h."
   ]
  },
  {
   "cell_type": "code",
   "execution_count": null,
   "metadata": {},
   "outputs": [],
   "source": [
    "def ...(..., ...): \n",
    "    return ...\n",
    "\n",
    "# Test  \n",
    "print(...(\"150\", \"2.5\"))  "
   ]
  },
  {
   "cell_type": "code",
   "execution_count": 14,
   "metadata": {},
   "outputs": [
    {
     "name": "stdout",
     "output_type": "stream",
     "text": [
      "60.0\n"
     ]
    }
   ],
   "source": [
    "# Solution\n",
    "\n",
    "def calculer_vitesse(distance, temps):  \n",
    "    return float(distance) / float(temps)  \n",
    "\n",
    "# Test  \n",
    "print(calculer_vitesse(\"150\", \"2.5\"))  # Affiche 60.0  "
   ]
  },
  {
   "cell_type": "markdown",
   "metadata": {},
   "source": [
    "\n",
    "[Cours précédent](https://thibauddevx.github.io/cours_python_projet/notebooks/cours_1_L2.ipynb) | [Cours suivant](https://thibauddevx.github.io/cours_python_projet/autoscripts/script_L2_2_3.html) "
   ]
  }
 ],
 "metadata": {
  "kernelspec": {
   "display_name": "Python 3",
   "language": "python",
   "name": "python3"
  },
  "language_info": {
   "codemirror_mode": {
    "name": "ipython",
    "version": 3
   },
   "file_extension": ".py",
   "mimetype": "text/x-python",
   "name": "python",
   "nbconvert_exporter": "python",
   "pygments_lexer": "ipython3",
   "version": "3.10.2"
  }
 },
 "nbformat": 4,
 "nbformat_minor": 2
}
