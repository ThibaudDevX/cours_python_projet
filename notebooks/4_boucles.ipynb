{
 "cells": [
  {
   "cell_type": "markdown",
   "metadata": {},
   "source": [
    "# 🐍 Boucles\n",
    "\n",
    "---\n",
    "\n",
    "## 📌 1. Introduction aux boucles\n",
    "\n",
    "Les boucles permettent d'exécuter plusieurs fois un bloc de code sans avoir à le réécrire.\n",
    "Elles sont particulièrement utiles pour automatiser des tâches répétitives.\n",
    "\n",
    "Il existe deux types principaux de boucles en Python :\n",
    "- La boucle for (itérative)\n",
    "- La boucle while (conditionnelle)\n",
    "\n",
    "---"
   ]
  },
  {
   "cell_type": "markdown",
   "metadata": {},
   "source": [
    "\n",
    "## 📌 2. La boucle \"for\"\n",
    "\n",
    "La boucle `for` permet d'itérer sur une séquence (liste, chaîne de caractères, plage de nombres...).\n",
    "\n",
    "### Exemple : afficher les nombres de 1 à 5"
   ]
  },
  {
   "cell_type": "code",
   "execution_count": 4,
   "metadata": {},
   "outputs": [
    {
     "name": "stdout",
     "output_type": "stream",
     "text": [
      "1\n",
      "2\n",
      "3\n",
      "4\n",
      "5\n"
     ]
    }
   ],
   "source": [
    "for i in range(1, 6, 1):\n",
    "    print(i)"
   ]
  },
  {
   "cell_type": "markdown",
   "metadata": {},
   "source": [
    "Explication :\n",
    "- `range(1, 6, 1)` génère les nombres de 1 à 6 (exclu) avec un pas de 1 (on avance de 1 un 1 donc).\n",
    "- À chaque itération, la variable `i` prend une nouvelle valeur avec le pas (soit +1 ici).\n",
    "- On affiche `i` à chaque tour de boucle.\n",
    "\n",
    "On va décoller, lançons le compte à rebour de 5 à 1 seconde pour annonce notre départ à l'aide d'une boucle for !"
   ]
  },
  {
   "cell_type": "code",
   "execution_count": 8,
   "metadata": {},
   "outputs": [
    {
     "name": "stdout",
     "output_type": "stream",
     "text": [
      "Départ dans...\n"
     ]
    },
    {
     "ename": "TypeError",
     "evalue": "'ellipsis' object cannot be interpreted as an integer",
     "output_type": "error",
     "traceback": [
      "\u001b[1;31m---------------------------------------------------------------------------\u001b[0m",
      "\u001b[1;31mTypeError\u001b[0m                                 Traceback (most recent call last)",
      "Cell \u001b[1;32mIn[8], line 5\u001b[0m\n\u001b[0;32m      1\u001b[0m \u001b[38;5;28;01mfrom\u001b[39;00m\u001b[38;5;250m \u001b[39m\u001b[38;5;21;01mtime\u001b[39;00m\u001b[38;5;250m \u001b[39m\u001b[38;5;28;01mimport\u001b[39;00m sleep \u001b[38;5;66;03m# On importe la fonction sleep qui nous permet de faire une \"pause\" pendant l'execution du programme afin de mieux comprendre les boucles\u001b[39;00m\n\u001b[0;32m      3\u001b[0m \u001b[38;5;28mprint\u001b[39m(\u001b[38;5;124m\"\u001b[39m\u001b[38;5;124mDépart dans...\u001b[39m\u001b[38;5;124m\"\u001b[39m)\n\u001b[1;32m----> 5\u001b[0m \u001b[38;5;28;01mfor\u001b[39;00m i \u001b[38;5;129;01min\u001b[39;00m \u001b[38;5;28;43mrange\u001b[39;49m\u001b[43m(\u001b[49m\u001b[38;5;241;43m.\u001b[39;49m\u001b[38;5;241;43m.\u001b[39;49m\u001b[38;5;241;43m.\u001b[39;49m\u001b[43m,\u001b[49m\u001b[43m \u001b[49m\u001b[38;5;241;43m.\u001b[39;49m\u001b[38;5;241;43m.\u001b[39;49m\u001b[38;5;241;43m.\u001b[39;49m\u001b[43m,\u001b[49m\u001b[43m \u001b[49m\u001b[38;5;241;43m.\u001b[39;49m\u001b[38;5;241;43m.\u001b[39;49m\u001b[38;5;241;43m.\u001b[39;49m\u001b[43m)\u001b[49m:\n\u001b[0;32m      6\u001b[0m     \u001b[38;5;28mprint\u001b[39m(\u001b[38;5;124m\"\u001b[39m\u001b[38;5;124m🕒\u001b[39m\u001b[38;5;124m\"\u001b[39m, \u001b[38;5;241m.\u001b[39m\u001b[38;5;241m.\u001b[39m\u001b[38;5;241m.\u001b[39m, \u001b[38;5;124m\"\u001b[39m\u001b[38;5;124msecondes\u001b[39m\u001b[38;5;124m\"\u001b[39m)\n\u001b[0;32m      7\u001b[0m     sleep(\u001b[38;5;241m1\u001b[39m) \u001b[38;5;66;03m# 1 seconde de pause\u001b[39;00m\n",
      "\u001b[1;31mTypeError\u001b[0m: 'ellipsis' object cannot be interpreted as an integer"
     ]
    }
   ],
   "source": [
    "from time import sleep # On importe la fonction sleep qui nous permet de faire une \"pause\" pendant l'execution du programme afin de mieux comprendre les boucles\n",
    "\n",
    "print(\"Départ dans...\")\n",
    "\n",
    "for i in range(..., ..., ...):\n",
    "    print(\"🕒\", ..., \"secondes\")\n",
    "    sleep(1) # 1 seconde de pause\n",
    "print(\"🚀 Décollage !\")\n"
   ]
  },
  {
   "cell_type": "markdown",
   "metadata": {},
   "source": [
    "---\n",
    "\n",
    "## 📌 3. La boucle \"while\"\n",
    "\n",
    "La boucle `while` exécute un bloc tant qu'une condition reste vraie.\n",
    "\n",
    "### Exemple : compter jusqu'à 5"
   ]
  },
  {
   "cell_type": "code",
   "execution_count": 1,
   "metadata": {},
   "outputs": [
    {
     "name": "stdout",
     "output_type": "stream",
     "text": [
      "1\n",
      "2\n",
      "3\n",
      "4\n",
      "5\n"
     ]
    }
   ],
   "source": [
    "n = 1\n",
    "while n <= 5:\n",
    "    print(n)\n",
    "    n += 1"
   ]
  },
  {
   "cell_type": "markdown",
   "metadata": {},
   "source": [
    "Explication :\n",
    "- Tant que `n` est inférieur ou égal à 5, la boucle continue.\n",
    "- `n += 1` permet d'incrémenter `n` à chaque tour.\n",
    "- Lorsque `n` atteint 6, la condition `n <= 5` devient fausse et la boucle s'arrête.\n",
    "\n",
    "### Attention aux boucles infinies !\n",
    "Si la condition reste toujours vraie, la boucle ne s'arrête jamais !\n",
    "Exemple dangereux :\n"
   ]
  },
  {
   "cell_type": "code",
   "execution_count": null,
   "metadata": {},
   "outputs": [
    {
     "name": "stdout",
     "output_type": "stream",
     "text": [
      "Je tourne en boucle !\n",
      "Je tourne en boucle !\n",
      "Je tourne en boucle !\n",
      "Je tourne en boucle !\n",
      "Je tourne en boucle !\n",
      "Je tourne en boucle !\n",
      "Je tourne en boucle !\n",
      "Je tourne en boucle !\n"
     ]
    },
    {
     "ename": "KeyboardInterrupt",
     "evalue": "",
     "output_type": "error",
     "traceback": [
      "\u001b[1;31m---------------------------------------------------------------------------\u001b[0m",
      "\u001b[1;31mKeyboardInterrupt\u001b[0m                         Traceback (most recent call last)",
      "Cell \u001b[1;32mIn[12], line 4\u001b[0m\n\u001b[0;32m      2\u001b[0m \u001b[38;5;28;01mwhile\u001b[39;00m \u001b[38;5;28;01mTrue\u001b[39;00m:\n\u001b[0;32m      3\u001b[0m     \u001b[38;5;28mprint\u001b[39m(\u001b[38;5;124m\"\u001b[39m\u001b[38;5;124mJe tourne en boucle !\u001b[39m\u001b[38;5;124m\"\u001b[39m)  \u001b[38;5;66;03m# Cette boucle ne s'arrêtera jamais sans interruption !\u001b[39;00m\n\u001b[1;32m----> 4\u001b[0m     \u001b[43msleep\u001b[49m\u001b[43m(\u001b[49m\u001b[38;5;241;43m0.5\u001b[39;49m\u001b[43m)\u001b[49m \u001b[38;5;66;03m# 1 seconde de pause\u001b[39;00m\n",
      "\u001b[1;31mKeyboardInterrupt\u001b[0m: "
     ]
    }
   ],
   "source": [
    "from time import sleep\n",
    "while True:\n",
    "    print(\"Je tourne en boucle !\")  # Cette boucle ne s'arrêtera jamais sans interruption !\n",
    "    sleep(0.5) # 0.5 seconde de pause"
   ]
  },
  {
   "cell_type": "markdown",
   "metadata": {},
   "source": [
    "Afin d'économiser l'énergie de l'UGA-25 baissons la température de la calle jusqu'à 0 degrés en descendant de 4 degrés par seconde. Si la température est atteinte prévenir l'équipage."
   ]
  },
  {
   "cell_type": "code",
   "execution_count": 26,
   "metadata": {},
   "outputs": [
    {
     "ename": "SyntaxError",
     "evalue": "invalid syntax (1766821431.py, line 4)",
     "output_type": "error",
     "traceback": [
      "\u001b[1;36m  Cell \u001b[1;32mIn[26], line 4\u001b[1;36m\u001b[0m\n\u001b[1;33m    while temperature ...:\u001b[0m\n\u001b[1;37m                      ^\u001b[0m\n\u001b[1;31mSyntaxError\u001b[0m\u001b[1;31m:\u001b[0m invalid syntax\n"
     ]
    }
   ],
   "source": [
    "from time import sleep\n",
    "temperature = 20\n",
    "\n",
    "while temperature ...:\n",
    "    print(\"🌡️ Température actuelle :\", ...)\n",
    "    sleep(...)\n",
    "    if temperature ... 0:\n",
    "        print(\"✅ Température cible atteinte.\")\n",
    "    temperature ... 4\n"
   ]
  },
  {
   "cell_type": "markdown",
   "metadata": {},
   "source": [
    "---\n",
    "\n",
    "\n",
    "## 📌 4. L'instruction \"break\" et \"continue\"\n",
    "\n",
    "### `break` : arrêter une boucle\n",
    "On peut utiliser `break` pour sortir d'une boucle prématurément.\n",
    "\n",
    "```python\n",
    "for i in range(1, 11):\n",
    "    if i == 5:\n",
    "        break  # Arrête la boucle quand i vaut 5\n",
    "    print(i)\n",
    "```\n",
    "Résultat : `1, 2, 3, 4`\n",
    "\n",
    "### `continue` : passer une itération\n",
    "L'instruction `continue` permet d'ignorer une itération et de passer à la suivante."
   ]
  },
  {
   "cell_type": "code",
   "execution_count": 28,
   "metadata": {},
   "outputs": [
    {
     "name": "stdout",
     "output_type": "stream",
     "text": [
      "1\n",
      "2\n",
      "4\n",
      "5\n",
      "6\n",
      "7\n",
      "8\n",
      "9\n",
      "10\n"
     ]
    }
   ],
   "source": [
    "for i in range(1, 11):\n",
    "    if i == 3:\n",
    "        continue  # Ignore l'affichage de 3\n",
    "    print(i)"
   ]
  },
  {
   "cell_type": "markdown",
   "metadata": {},
   "source": [
    "Le système réclame une inspection des modules 1 à 7 mais il a déjà assuré l'état des module 3 et 6. Afin d'économiser de l'énergie lancer l'inspection uniquement sur les modules non vérifiés. Indiquer le numéro du module inspecté à chaque passage."
   ]
  },
  {
   "cell_type": "code",
   "execution_count": null,
   "metadata": {},
   "outputs": [
    {
     "name": "stdout",
     "output_type": "stream",
     "text": [
      "🛠️ Traitement du module 1\n",
      "🛠️ Traitement du module 2\n",
      "🛠️ Traitement du module 4\n",
      "🛠️ Traitement du module 5\n",
      "🛠️ Traitement du module 7\n"
     ]
    }
   ],
   "source": [
    "from time import sleep\n",
    "\n",
    "for module in range(..., ...):\n",
    "    if module == ... ... module == ...: # Pensez aux opérations logiques\n",
    "        continue\n",
    "    print(\"🛠️ Inspection du module\", ...)\n",
    "    sleep(1)"
   ]
  },
  {
   "cell_type": "markdown",
   "metadata": {},
   "source": [
    "[Cours précédent](https://thibauddevx.github.io/cours_python_projet/notebooks/3_conditions.ipynb) | [Cours suivant](https://thibauddevx.github.io/cours_python_projet/autoscripts/script_4_5.html)"
   ]
  }
 ],
 "metadata": {
  "kernelspec": {
   "display_name": "Python 3",
   "language": "python",
   "name": "python3"
  },
  "language_info": {
   "codemirror_mode": {
    "name": "ipython",
    "version": 3
   },
   "file_extension": ".py",
   "mimetype": "text/x-python",
   "name": "python",
   "nbconvert_exporter": "python",
   "pygments_lexer": "ipython3",
   "version": "3.10.7"
  }
 },
 "nbformat": 4,
 "nbformat_minor": 2
}
