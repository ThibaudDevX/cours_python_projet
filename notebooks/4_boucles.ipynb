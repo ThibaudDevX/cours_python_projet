{
 "cells": [
  {
   "cell_type": "markdown",
   "metadata": {},
   "source": [
    "# 🐍 Boucles en Python\n",
    "\n",
    "---\n",
    "\n",
    "## 📌 1. Introduction aux boucles\n",
    "\n",
    "Les boucles permettent d'exécuter plusieurs fois un bloc de code sans avoir à le réécrire.\n",
    "Elles sont particulièrement utiles pour automatiser des tâches répétitives.\n",
    "\n",
    "Il existe deux types principaux de boucles en Python :\n",
    "- La boucle for (itérative)\n",
    "- La boucle while (conditionnelle)\n",
    "\n",
    "---\n",
    "\n",
    "## 📌 2. La boucle \"for\"\n",
    "\n",
    "La boucle `for` permet d'itérer sur une séquence (liste, chaîne de caractères, plage de nombres...).\n",
    "\n",
    "### Exemple : afficher les nombres de 1 à 5\n",
    "```python\n",
    "for i in range(1, 6):\n",
    "    print(i)\n",
    "```\n",
    "\n",
    "Explication :\n",
    "- `range(1, 6)` génère les nombres de 1 à 5 (le dernier nombre n'est pas inclus).\n",
    "- À chaque itération, la variable `i` prend une nouvelle valeur.\n",
    "- On affiche `i` à chaque tour de boucle.\n",
    "\n",
    "### Exemple : parcourir une liste\n",
    "```python\n",
    "fruits = [\"pomme\", \"banane\", \"cerise\"]\n",
    "for fruit in fruits:\n",
    "    print(fruit)\n",
    "```\n",
    "Chaque élément de la liste `fruits` est affiché un par un.\n",
    "\n",
    "---\n",
    "\n",
    "## 📌 3. La boucle \"while\"\n",
    "\n",
    "La boucle `while` exécute un bloc tant qu'une condition reste vraie.\n",
    "\n",
    "### Exemple : compter jusqu'à 5\n",
    "```python\n",
    "n = 1\n",
    "while n <= 5:\n",
    "    print(n)\n",
    "    n += 1\n",
    "```\n",
    "Explication :\n",
    "- Tant que `n` est inférieur ou égal à 5, la boucle continue.\n",
    "- `n += 1` permet d'incrémenter `n` à chaque tour.\n",
    "- Lorsque `n` atteint 6, la condition `n <= 5` devient fausse et la boucle s'arrête.\n",
    "\n",
    "### Attention aux boucles infinies !\n",
    "Si la condition reste toujours vraie, la boucle ne s'arrête jamais !\n",
    "Exemple dangereux :\n",
    "```python\n",
    "while True:\n",
    "    print(\"Je tourne en boucle !\")  # Cette boucle ne s'arrêtera jamais sans interruption !\n",
    "```\n",
    "\n",
    "---\n",
    "\n",
    "## 📌 4. L'instruction \"break\" et \"continue\"\n",
    "\n",
    "### `break` : arrêter une boucle\n",
    "On peut utiliser `break` pour sortir d'une boucle prématurément.\n",
    "\n",
    "```python\n",
    "for i in range(1, 11):\n",
    "    if i == 5:\n",
    "        break  # Arrête la boucle quand i vaut 5\n",
    "    print(i)\n",
    "```\n",
    "Résultat : `1, 2, 3, 4`\n",
    "\n",
    "### `continue` : passer une itération\n",
    "L'instruction `continue` permet d'ignorer une itération et de passer à la suivante.\n",
    "\n",
    "```python\n",
    "for i in range(1, 6):\n",
    "    if i == 3:\n",
    "        continue  # Ignore l'affichage de 3\n",
    "    print(i)\n",
    "```\n",
    "Résultat : `1, 2, 4, 5`\n",
    "\n",
    "---\n",
    "\n",
    "## 📌 5. Exercice amusant : Le jeu du devin amélioré !\n",
    "\n",
    "On va maintenant améliorer le jeu du devin vu précédemment en utilisant une boucle !\n",
    "L'utilisateur pourra réessayer jusqu'à ce qu'il trouve la bonne réponse.\n",
    "\n",
    "On veut que que le programme nous renvoie :\n",
    "```\n",
    "Trop petit !\n",
    "Trop grand !\n",
    "Victoire ! Le nombre mystère était 6\n",
    "```\n",
    "\n",
    "On avait comme précédent programme :\n",
    "\n",
    "```python\n",
    "# On importe une bibliothèque nous permettant d'accéder à une fonction prédéfinie (ici random)\n",
    "import random\n",
    "# Générer un nombre mystère aléatoire entre 1 et 10 (10 n'est pas inclu !)\n",
    "nombre_mystere = random.randint(1, 10)\n",
    "\n",
    "# Demander à l'utilisateur de deviner\n",
    "tentative = int(input(\"Devinez un nombre entre 1 et 10 : \"))\n",
    "\n",
    "if tentative == nombre_mystere:\n",
    "    print(\"Victoire !\")\n",
    "elif tentative < nombre_mystere:\n",
    "    print(\"Trop petit !\")\n",
    "else:\n",
    "    print(\"Trop grand !\")\n",
    "```\n",
    "\n",
    "A toi de jouer ! 🎯"
   ]
  },
  {
   "cell_type": "code",
   "execution_count": 4,
   "metadata": {},
   "outputs": [
    {
     "name": "stdout",
     "output_type": "stream",
     "text": [
      "Trop petit !\n",
      "Trop grand !\n",
      "Victoire ! Le nombre mystère était 6\n"
     ]
    }
   ],
   "source": [
    "import random # On importe notre bibliothèque\n",
    "\n",
    "nombre_mystere = random.randint(1, 10) # On défini notre nombre aléatoire\n",
    "\n",
    "tentative = None # On initialise la valeur de tentative pour éviter les problèmes (ici None car on n'a pas encore essayé de deviner)\n",
    "\n",
    "while ... != ...: # On veut jouer jusqu'à ce que l'on gagne\n",
    "    \n",
    "\n",
    "print(\"... Le nombre mystère était\", ...)"
   ]
  },
  {
   "cell_type": "code",
   "execution_count": 11,
   "metadata": {},
   "outputs": [
    {
     "name": "stdout",
     "output_type": "stream",
     "text": [
      "🕒 Ouverture dans... 5 secondes\n",
      "🕒 Ouverture dans... 4 secondes\n",
      "🕒 Ouverture dans... 3 secondes\n",
      "🕒 Ouverture dans... 2 secondes\n",
      "🕒 Ouverture dans... 1 secondes\n",
      "🔓 Trappe ouverte !\n"
     ]
    }
   ],
   "source": [
    "from time import sleep\n",
    "for i in range(5, 0, -1):\n",
    "    print(\"🕒 Ouverture dans...\", i, \"secondes\")\n",
    "    sleep(1)\n",
    "print(\"🔓 Trappe ouverte !\")\n"
   ]
  },
  {
   "cell_type": "code",
   "execution_count": 15,
   "metadata": {},
   "outputs": [
    {
     "name": "stdout",
     "output_type": "stream",
     "text": [
      "🌡️ Température actuelle : 20\n",
      "🌡️ Température actuelle : 40\n",
      "🌡️ Température actuelle : 60\n",
      "🌡️ Température actuelle : 80\n",
      "✅ Température cible atteinte.\n"
     ]
    }
   ],
   "source": [
    "from time import sleep\n",
    "temperature = 20\n",
    "\n",
    "while temperature < 100:\n",
    "    print(\"🌡️ Température actuelle :\", temperature)\n",
    "    temperature += 20\n",
    "    sleep(1)\n",
    "\n",
    "print(\"✅ Température cible atteinte.\")\n"
   ]
  },
  {
   "cell_type": "code",
   "execution_count": 18,
   "metadata": {},
   "outputs": [
    {
     "name": "stdout",
     "output_type": "stream",
     "text": [
      "🔎 Vérification à 1 secondes\n",
      "🔎 Vérification à 2 secondes\n",
      "🔎 Vérification à 3 secondes\n",
      "❌ Anomalie détectée ! Interruption du protocole.\n"
     ]
    }
   ],
   "source": [
    "from time import sleep\n",
    "temps = 0\n",
    "\n",
    "while temps < 10:\n",
    "    temps += 1\n",
    "    print(\"🔎 Vérification à\", temps, \"secondes\")\n",
    "    sleep(1)\n",
    "    if temps == 3:\n",
    "        print(\"❌ Anomalie détectée ! Interruption du protocole.\")\n",
    "        break\n",
    "    \n"
   ]
  },
  {
   "cell_type": "code",
   "execution_count": 20,
   "metadata": {},
   "outputs": [
    {
     "name": "stdout",
     "output_type": "stream",
     "text": [
      "🛠️ Traitement du module 1\n",
      "🛠️ Traitement du module 2\n",
      "🛠️ Traitement du module 4\n",
      "🛠️ Traitement du module 5\n",
      "🛠️ Traitement du module 7\n"
     ]
    }
   ],
   "source": [
    "from time import sleep\n",
    "for module in range(1, 8):\n",
    "    if module == 3 or module == 6:\n",
    "        continue\n",
    "    print(\"🛠️ Traitement du module\", module)\n",
    "    sleep(1)\n",
    "\n"
   ]
  },
  {
   "cell_type": "code",
   "execution_count": 21,
   "metadata": {},
   "outputs": [
    {
     "name": "stdout",
     "output_type": "stream",
     "text": [
      "📶 Test du signal niveau 1\n",
      "📶 Test du signal niveau 2\n",
      "📶 Test du signal niveau 3\n",
      "📶 Test du signal niveau 4\n",
      "📶 Test du signal niveau 5\n",
      "📡 Signal stabilisé.\n"
     ]
    }
   ],
   "source": [
    "from time import sleep\n",
    "signal = 1\n",
    "\n",
    "while signal <= 5:\n",
    "    print(\"📶 Test du signal niveau\", signal)\n",
    "    signal += 1\n",
    "    sleep(1)\n",
    "\n",
    "print(\"📡 Signal stabilisé.\")\n"
   ]
  }
 ],
 "metadata": {
  "kernelspec": {
   "display_name": "Python 3",
   "language": "python",
   "name": "python3"
  },
  "language_info": {
   "codemirror_mode": {
    "name": "ipython",
    "version": 3
   },
   "file_extension": ".py",
   "mimetype": "text/x-python",
   "name": "python",
   "nbconvert_exporter": "python",
   "pygments_lexer": "ipython3",
   "version": "3.10.7"
  }
 },
 "nbformat": 4,
 "nbformat_minor": 2
}
