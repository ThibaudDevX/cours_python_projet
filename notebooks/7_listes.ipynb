{
 "cells": [
  {
   "cell_type": "markdown",
   "metadata": {},
   "source": [
    "# 🐍 Les listes"
   ]
  },
  {
   "cell_type": "markdown",
   "metadata": {},
   "source": [
    "---\n",
    "\n",
    "## 📌 1. Qu’est-ce qu’une liste ?\n",
    "\n",
    "Une liste est une structure qui permet de stocker plusieurs valeurs dans une seule variable.\n",
    "\n",
    "Elle est très utilisée pour regrouper des éléments liés comme des noms, des chiffres, etc."
   ]
  },
  {
   "cell_type": "code",
   "execution_count": null,
   "metadata": {},
   "outputs": [],
   "source": [
    "modules = [\"Navigation\", \"Propulsion\", \"Communication\"]"
   ]
  },
  {
   "cell_type": "markdown",
   "metadata": {},
   "source": [
    "---\n",
    "\n",
    "## 📌 2. Accéder aux éléments\n",
    "\n",
    "Les éléments sont accessibles via leurs index, en commençant à 0 (un peu comme on a vu dans les chaines) :"
   ]
  },
  {
   "cell_type": "code",
   "execution_count": null,
   "metadata": {},
   "outputs": [
    {
     "name": "stdout",
     "output_type": "stream",
     "text": [
      "Navigation\n"
     ]
    }
   ],
   "source": [
    "modules = [\"Navigation\", \"Propulsion\", \"Communication\"]\n",
    "print(modules[0])"
   ]
  },
  {
   "cell_type": "markdown",
   "metadata": {},
   "source": [
    "L'UGA-25 est un petit vaisseau mais imagine toi dans un croiseur national, ces vaisseaux peuvent contenir un grand nombre de module, par example le CN493 possède 50 modules.\n",
    "\n",
    "Le système t'informe d'une ERREUR sur le module 24 et le module 38, comment ferais tu pour rappidement déterminer lesquels ils représentent ? "
   ]
  },
  {
   "cell_type": "code",
   "execution_count": null,
   "metadata": {},
   "outputs": [
    {
     "name": "stdout",
     "output_type": "stream",
     "text": [
      "Salle de quarantaine\n",
      "Module d’analyse chimique\n"
     ]
    }
   ],
   "source": [
    "modules_CN493 = [\"Contrôle de trajectoire\", \"Calculateur orbital\", \"Stabilisateur gyroscopique\", \"Récepteur GPS galactique\", \"Système d’évitement d’astéroïdes\", \"Module d’atterrissage\", \"Radar de proximité\", \"Système d'amarrage\", \"Tableau de bord virtuel\", \"Auto-pilotage interplanétaire\", \"Réacteur à fusion\", \"Stockage d’énergie\", \"Panneaux solaires pliables\", \"Convertisseur de puissance\", \"Système de recharge d'urgence\", \"Système de gravité artificielle\", \"Module de couchage\", \"Cuisine automatisée\", \"Zone de loisirs\", \"Salle de sport spatiale\", \"Système d’oxygénation\", \"Contrôle de température\", \"Unité médicale autonome\", \"Scanner biométrique\", \"Salle de quarantaine\", \"Antenne longue portée\", \"Transmetteur laser\", \"Système de brouillage\", \"Terminal de communication interne\", \"Console de messages cryptés\", \"Assistant IA centralisé\", \"Drone de maintenance\", \"Bras robotique\", \"Système de navigation autonome\", \"Robot nettoyeur\", \"Laboratoire mobile\", \"Microscope orbital\", \"Scanner de surface planétaire\", \"Module d’analyse chimique\", \"Station d’observation\", \"Système anti-intrusion\", \"Blindage électromagnétique\", \"Détecteur de radiation\", \"Système de surveillance thermique\", \"Codeur d’accès biométrique\", \"Kit d’outillage\", \"Station de diagnostic\", \"Imprimante 3D pour pièces détachées\", \"Stockage des pièces de rechange\", \"Bras de réparation externe\"]\n",
    "\n",
    "print(modules_CN493...)\n",
    "print(modules_CN493...)"
   ]
  },
  {
   "cell_type": "markdown",
   "metadata": {},
   "source": [
    "---\n",
    "\n",
    "## 📌 3. Modifier un élément\n",
    "\n",
    "Contrairement aux chaines, dans une liste il est bien plus facile de modifier un élément à un certain index, en effet on a juste besoin de lui assigner une nouvelle valeur :"
   ]
  },
  {
   "cell_type": "code",
   "execution_count": 5,
   "metadata": {},
   "outputs": [
    {
     "name": "stdout",
     "output_type": "stream",
     "text": [
      "['Navigation', 'Propulsion', 'Communication']\n",
      "['Navigation', 'Carburant', 'Communication']\n"
     ]
    }
   ],
   "source": [
    "modules = [\"Navigation\", \"Propulsion\", \"Communication\"]\n",
    "print(modules)\n",
    "\n",
    "modules[1] = \"Carburant\"\n",
    "print(modules)"
   ]
  },
  {
   "cell_type": "markdown",
   "metadata": {},
   "source": [
    "---\n",
    "\n",
    "## 📌 4. Ajouter et retirer des éléments\n",
    "\n",
    "A l'aide de fonctions prédéfinies comme append et remove on peut ajouter et supprimer des éléments de notre liste :"
   ]
  },
  {
   "cell_type": "code",
   "execution_count": 6,
   "metadata": {},
   "outputs": [
    {
     "name": "stdout",
     "output_type": "stream",
     "text": [
      "['Navigation', 'Propulsion', 'Communication', 'Sécurité']\n",
      "['Navigation', 'Propulsion', 'Sécurité']\n"
     ]
    }
   ],
   "source": [
    "modules = [\"Navigation\", \"Propulsion\", \"Communication\"]\n",
    "\n",
    "modules.append(\"Sécurité\")   # Ajoute à la fin\n",
    "print(modules)\n",
    "\n",
    "modules.remove(\"Communication\")  # Supprime un élément\n",
    "print(modules)"
   ]
  },
  {
   "cell_type": "markdown",
   "metadata": {},
   "source": [
    "Après avoir récupéré notre cargaison au vaisseau marchand nous avons oublié d'ajouter ceux-ci à la liste de stockage. Voilà les éléments que nous avons récupéré :\n",
    "\n",
    "    COLIS-X9G65, COLIS-51LM4, COLIS-RTF86.\n",
    "\n",
    "Nous avons aussi livré :\n",
    "\n",
    "    COLIS-ZQRP6\n",
    "\n",
    "durant la transaction.\n",
    "\n",
    "Mettre à jour la liste de stockage à l'aide de append et remove."
   ]
  },
  {
   "cell_type": "code",
   "execution_count": null,
   "metadata": {},
   "outputs": [],
   "source": [
    "liste_stockage = [\"COLIS-FRS85\", \"COLIS-528PO\", \"COLIS-ZQRP6\", \"COLIS-453BN\", \"COLIS-J75HG\", \"COLIS-S9WX6\"]\n",
    "\n",
    "...\n",
    "...\n",
    "\n",
    "print(liste_stockage)"
   ]
  },
  {
   "cell_type": "markdown",
   "metadata": {},
   "source": [
    "---\n",
    "\n",
    "## 📌 5. Parcourir une liste\n",
    "\n",
    "Une façon de parcourir une liste est avec une boucle for :"
   ]
  },
  {
   "cell_type": "code",
   "execution_count": 24,
   "metadata": {},
   "outputs": [
    {
     "name": "stdout",
     "output_type": "stream",
     "text": [
      "🧩 Compartiment détecté : Navigation\n",
      "🧩 Compartiment détecté : Propulsion\n",
      "🧩 Compartiment détecté : Stockage\n",
      "🧩 Compartiment détecté : Sécurité\n"
     ]
    }
   ],
   "source": [
    "from time import sleep\n",
    "\n",
    "compartiments = [\"Navigation\", \"Propulsion\", \"Stockage\", \"Sécurité\"]\n",
    "\n",
    "for c in compartiments: # chaque valeur de compartiments sera contenue dans c\n",
    "    print(\"🧩 Compartiment détecté :\", c)\n",
    "    sleep(1)\n"
   ]
  },
  {
   "cell_type": "markdown",
   "metadata": {},
   "source": [
    "On peut aussi parcourir une liste avec ses indices en utilisant la fonction len() qui renvoit la longueur d'une liste (soit son nombre d'éléments) :"
   ]
  },
  {
   "cell_type": "code",
   "execution_count": 28,
   "metadata": {},
   "outputs": [
    {
     "name": "stdout",
     "output_type": "stream",
     "text": [
      "🧩 Compartiment détecté : Navigation\n",
      "🧩 Compartiment détecté : Propulsion\n",
      "🧩 Compartiment détecté : Stockage\n",
      "🧩 Compartiment détecté : Sécurité\n"
     ]
    }
   ],
   "source": [
    "from time import sleep\n",
    "\n",
    "compartiments = [\"Navigation\", \"Propulsion\", \"Stockage\", \"Sécurité\"]\n",
    "\n",
    "for indice in range(0, len(compartiments)): # on explore chaque indice de 0 à la longueur de la liste (soit la fin)\n",
    "    print(\"🧩 Compartiment détecté :\", compartiments[indice])\n",
    "    sleep(1)"
   ]
  },
  {
   "cell_type": "markdown",
   "metadata": {},
   "source": [
    "Pour chercher un élément dans une liste on peut utiliser in qui va rechercher un élément dans une liste.\n",
    "\n",
    "Il est temps de faire le plein, le système nous informe qu'il y a 4 stations à proximité et nous à fourni une liste des carburants qu'ils possèdent. Trouve un moyen d'afficher les stations contenant du Deuterium pour l'UGA-25 !"
   ]
  },
  {
   "cell_type": "code",
   "execution_count": null,
   "metadata": {},
   "outputs": [
    {
     "name": "stdout",
     "output_type": "stream",
     "text": [
      "✅ Station 1 contient du Deuterium\n",
      "✅ Station 3 contient du Deuterium\n"
     ]
    }
   ],
   "source": [
    "carburant_s1 = [\"Malastrine\", \"Nergunite\", \"Nitrate\", \"Deuterium\", \"Ipsium\", \"Baradium\"]\n",
    "carburant_s2 = [\"Rhydonium\", \"Rippinium\", \"Nitrate\", \"Ipsium\", \"Nergunite\", \"Kessoline\", \"Tibannite\"]\n",
    "carburant_s3 = [\"Megonite\", \"Ipsium\", \"Nitrate\", \"Deuterium\", \"Tibannite\", \"Rippinium\", \"Zylium\"]\n",
    "carburant_s4 = [\"Ipsium\", \"Kessoline\", \"Malastrine\", \"Nergunite\", \"Rippinium\", \"Zylium\", \"Tibannite\"]\n",
    "\n",
    "# Recherchons du Deuterium\n",
    "if \"...\" ... ...:\n",
    "    print(\"✅ Station 1 contient du Deuterium\")\n",
    "\n",
    "if \"...\" ... ...:\n",
    "    print(\"✅ Station 2 contient du Deuterium\")\n",
    "\n",
    "if \"...\" ... ...:\n",
    "    print(\"✅ Station 3 contient du Deuterium\")\n",
    "\n",
    "if \"...\" ... ...:\n",
    "    print(\"✅ Station 4 contient du Deuterium\")\n"
   ]
  },
  {
   "cell_type": "markdown",
   "metadata": {},
   "source": [
    "[Cours précédent](https://thibauddevx.github.io/cours_python_projet/notebooks/6_fonctions.ipynb) | [Cours suivant](https://thibauddevx.github.io/cours_python_projet/autoscripts/script_7_8.html)"
   ]
  }
 ],
 "metadata": {
  "kernelspec": {
   "display_name": "Python 3",
   "language": "python",
   "name": "python3"
  },
  "language_info": {
   "codemirror_mode": {
    "name": "ipython",
    "version": 3
   },
   "file_extension": ".py",
   "mimetype": "text/x-python",
   "name": "python",
   "nbconvert_exporter": "python",
   "pygments_lexer": "ipython3",
   "version": "3.10.7"
  }
 },
 "nbformat": 4,
 "nbformat_minor": 2
}
