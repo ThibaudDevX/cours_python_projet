{
 "cells": [
  {
   "cell_type": "markdown",
   "metadata": {},
   "source": [
    "# 🐍 Cours 2 : Les opérateurs\n",
    "\n",
    "---\n",
    "\n",
    "Les opérateurs en Python sont des symboles ou des mots-clés permettant d'effectuer des opérations. Dans ce chapitre, nous verrons les différents types d'opérateurs agissant sur des variables et des valeurs. \n",
    "\n",
    "---\n",
    "\n",
    "## 📌 1. L'opérateur d'affichage\n",
    "\n",
    "La fonction **print()** permet d'afficher du texte ou des variables à l'écran. C'est l'équivalent de **System.out.println()** en Java. "
   ]
  },
  {
   "cell_type": "code",
   "execution_count": 63,
   "metadata": {},
   "outputs": [
    {
     "name": "stdout",
     "output_type": "stream",
     "text": [
      "Licence MIASHS\n"
     ]
    }
   ],
   "source": [
    "# Exemple d'affichage \n",
    "print(\"Licence MIASHS\")  "
   ]
  },
  {
   "cell_type": "code",
   "execution_count": 64,
   "metadata": {},
   "outputs": [
    {
     "name": "stdout",
     "output_type": "stream",
     "text": [
      "('pomme', 'banane', 'fraise')\n"
     ]
    }
   ],
   "source": [
    "# Exemple d'affichage\n",
    "x = (\"pomme\", \"banane\", \"fraise\")\n",
    "print(x)"
   ]
  },
  {
   "cell_type": "markdown",
   "metadata": {},
   "source": [
    "La fonction **f-strings** permet d'insérer des variables dans une chaîne de caractères.\n",
    "La chaînes débute par **f** et les variables sont entre **{}** . "
   ]
  },
  {
   "cell_type": "code",
   "execution_count": 65,
   "metadata": {},
   "outputs": [
    {
     "name": "stdout",
     "output_type": "stream",
     "text": [
      "Licence : MIASHS, Année : 2025\n"
     ]
    }
   ],
   "source": [
    "# Exemple de f-strings\n",
    "licence = \"MIASHS\"\n",
    "annee = 2025\n",
    "print(f\"Licence : {licence}, Année : {annee}\")  "
   ]
  },
  {
   "cell_type": "markdown",
   "metadata": {},
   "source": [
    "\n",
    "---\n",
    "\n",
    "## 📌 2. L'affectation\n",
    "\n",
    "L'affectation est réalisé via l'opérateur **=** (comme en Java).\n",
    "Il permet d'assigner une **valeur** (à droite) à  une **variable** (à gauche) . "
   ]
  },
  {
   "cell_type": "code",
   "execution_count": 66,
   "metadata": {},
   "outputs": [
    {
     "name": "stdout",
     "output_type": "stream",
     "text": [
      "22\n"
     ]
    }
   ],
   "source": [
    "x = 22\n",
    "print(x)"
   ]
  },
  {
   "cell_type": "markdown",
   "metadata": {},
   "source": [
    "\n",
    "---\n",
    "\n",
    "## 📌 3. Les opérateurs arithmétiques \n",
    "\n",
    "Ils prennent un ou plusieurs arguments et retournent une nouvelle valeur \n",
    "\n",
    "#### Les opérateurs arithmétiques classiques: \n",
    "\n",
    "    + --> addition \n",
    "    - --> soustraction \n",
    "    * --> multiplication  \n",
    "    / --> division  \n",
    "    % --> modulo  \n",
    "    // --> division entière \n",
    "\n",
    "#### Tout comme Java , les raccourcis sont proposés en Python : \n",
    "\n",
    "    +=\n",
    "    -=\n",
    "    *=\n",
    "    /=\n",
    "    %=\n",
    "    //= \n",
    "\n",
    " ⚠️ Attention ! Contrairement à Java , il n'y a pas les opérateurs d'incrémentation **++** et de décrémentation **--** en Python !\n",
    "\n",
    "\n",
    "---\n",
    "\n",
    "## 📌 4. Les opérateurs de comparaison\n",
    "\n",
    "Ils permettent de comparer 2 valeurs et retournent un **booléen** (true ou false). \n",
    "\n",
    "    == --> compare les valeurs  \n",
    "    is --> compare les références \n",
    "    != --> différent \n",
    "    > --> supérieur  \n",
    "    < --> inférieur  \n",
    "    >= --> supérieur ou égal \n",
    "    <= --> inférieur ou égal  "
   ]
  },
  {
   "cell_type": "code",
   "execution_count": 67,
   "metadata": {},
   "outputs": [
    {
     "data": {
      "text/plain": [
       "False"
      ]
     },
     "execution_count": 67,
     "metadata": {},
     "output_type": "execute_result"
    }
   ],
   "source": [
    "# Exemple d'opération \n",
    "0 == 1"
   ]
  },
  {
   "cell_type": "code",
   "execution_count": 68,
   "metadata": {},
   "outputs": [
    {
     "data": {
      "text/plain": [
       "False"
      ]
     },
     "execution_count": 68,
     "metadata": {},
     "output_type": "execute_result"
    }
   ],
   "source": [
    "'a' >= 'b'"
   ]
  },
  {
   "cell_type": "markdown",
   "metadata": {},
   "source": [
    "#### Différence entre **is** et **==** : \n",
    "\n",
    "L'opérateur **==** compare les valeurs , et non pas les références comme en Java !  C'est l'opérateur **is** qui compare si deux variables référencent le même objet en mémoire . "
   ]
  },
  {
   "cell_type": "code",
   "execution_count": 69,
   "metadata": {},
   "outputs": [
    {
     "name": "stdout",
     "output_type": "stream",
     "text": [
      "True\n",
      "False\n"
     ]
    }
   ],
   "source": [
    "# Exemple de comparaison \n",
    "x = [1,2]\n",
    "y = [1,2]\n",
    "print(x == y)\n",
    "print(x is y )"
   ]
  },
  {
   "cell_type": "markdown",
   "metadata": {},
   "source": [
    "⚠️ Attention ! Python optimise la mémoire pour les petits entiers et certaines chaînes de caractères , donc deux variables peuvent partager la même référence.  "
   ]
  },
  {
   "cell_type": "code",
   "execution_count": 70,
   "metadata": {},
   "outputs": [
    {
     "name": "stdout",
     "output_type": "stream",
     "text": [
      "True\n",
      "True\n"
     ]
    }
   ],
   "source": [
    "# Cas particulier de petits entiers\n",
    "x = 20\n",
    "y = 20\n",
    "print(x == y)\n",
    "print(x is y ) "
   ]
  },
  {
   "cell_type": "markdown",
   "metadata": {},
   "source": [
    "\n",
    "---\n",
    "\n",
    "## 📌 5. Les opérateurs logiques\n",
    "\n",
    "Ils retournent une valeur booléenne qualifiant la relation entre les opérandes . \n",
    "\n",
    "    and --> ET\n",
    "    or --> OU\n",
    "    not --> NON \n"
   ]
  },
  {
   "cell_type": "code",
   "execution_count": 71,
   "metadata": {},
   "outputs": [
    {
     "name": "stdout",
     "output_type": "stream",
     "text": [
      "False\n",
      "True\n",
      "True\n"
     ]
    }
   ],
   "source": [
    "# Exemples d'opérateurs logiques \n",
    "print(2+2== 4 and 1==2)\n",
    "print(1<2 or 'a'=='b')\n",
    "print(not False)\n"
   ]
  },
  {
   "cell_type": "markdown",
   "metadata": {},
   "source": [
    "\n",
    "---\n",
    "\n",
    "## 📌 6. Les opérateurs de concaténation\n",
    "\n",
    "En Python, l'opérateur **+** est utilisé pour concaténer des chaînes de caractères."
   ]
  },
  {
   "cell_type": "code",
   "execution_count": 72,
   "metadata": {},
   "outputs": [
    {
     "name": "stdout",
     "output_type": "stream",
     "text": [
      "Licence MIASHS\n"
     ]
    }
   ],
   "source": [
    "# Exemple de concaténation\n",
    "s1 = \"Licence\"\n",
    "s2 = \"MIASHS\"\n",
    "s3 = s1 + \" \" + s2 \n",
    "print(s3)"
   ]
  }
 ],
 "metadata": {
  "kernelspec": {
   "display_name": "Python 3",
   "language": "python",
   "name": "python3"
  },
  "language_info": {
   "codemirror_mode": {
    "name": "ipython",
    "version": 3
   },
   "file_extension": ".py",
   "mimetype": "text/x-python",
   "name": "python",
   "nbconvert_exporter": "python",
   "pygments_lexer": "ipython3",
   "version": "3.12.3"
  }
 },
 "nbformat": 4,
 "nbformat_minor": 2
}
