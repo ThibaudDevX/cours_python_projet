{
 "cells": [
  {
   "cell_type": "markdown",
   "metadata": {},
   "source": [
    "# 🐍 Cours 3 : Les opérateurs : notions avancées\n",
    "\n",
    "---\n",
    "\n",
    "Les opérateurs en Python sont des symboles ou des mots-clés permettant d'effectuer des opérations. Dans ce chapitre, nous verrons les différents types d'opérateurs agissant sur des variables et des valeurs. \n",
    "\n",
    "---\n",
    "\n",
    "## 📌 1. L'opérateur d'affichage\n",
    "\n",
    "La fonction **print()** permet d'afficher du texte ou des variables à l'écran. C'est l'équivalent de **System.out.println()** en Java. "
   ]
  },
  {
   "cell_type": "code",
   "execution_count": null,
   "metadata": {},
   "outputs": [
    {
     "name": "stdout",
     "output_type": "stream",
     "text": [
      "Licence MIASHS\n"
     ]
    }
   ],
   "source": [
    "# Exemple d'affichage \n",
    "\n",
    "print(\"J-4V1-3R\")  "
   ]
  },
  {
   "cell_type": "code",
   "execution_count": 1,
   "metadata": {},
   "outputs": [
    {
     "name": "stdout",
     "output_type": "stream",
     "text": [
      "('galaxie', 'etoile', 'terre')\n"
     ]
    }
   ],
   "source": [
    "# Exemple d'affichage\n",
    "\n",
    "x = (\"galaxie\", \"etoile\", \"terre\")\n",
    "print(x)"
   ]
  },
  {
   "cell_type": "markdown",
   "metadata": {},
   "source": [
    "La fonction **f-strings** permet d'insérer des variables dans une chaîne de caractères.\n",
    "La chaînes débute par **f** et les variables sont entre **{}** . "
   ]
  },
  {
   "cell_type": "code",
   "execution_count": 3,
   "metadata": {},
   "outputs": [
    {
     "name": "stdout",
     "output_type": "stream",
     "text": [
      "Robot : J-4V1-3R, Transport : vaisseau spatial\n"
     ]
    }
   ],
   "source": [
    "# Exemple de f-strings\n",
    "\n",
    "robot = \"J-4V1-3R\"\n",
    "transport = \"vaisseau spatial\"\n",
    "print(f\"Robot : {robot}, Transport : {transport}\")  "
   ]
  },
  {
   "cell_type": "markdown",
   "metadata": {},
   "source": [
    "\n",
    "---\n",
    "\n",
    "## 📌 2. L'affectation\n",
    "\n",
    "L'affectation est réalisé via l'opérateur **=** (comme en Java).\n",
    "Il permet d'assigner une **valeur** (à droite) à  une **variable** (à gauche) . "
   ]
  },
  {
   "cell_type": "code",
   "execution_count": 66,
   "metadata": {},
   "outputs": [
    {
     "name": "stdout",
     "output_type": "stream",
     "text": [
      "22\n"
     ]
    }
   ],
   "source": [
    "x = 22\n",
    "print(x)"
   ]
  },
  {
   "cell_type": "markdown",
   "metadata": {},
   "source": [
    "\n",
    "---\n",
    "\n",
    "## 📌 3. Les opérateurs arithmétiques \n",
    "\n",
    "Ils prennent un ou plusieurs arguments et retournent une nouvelle valeur \n",
    "\n",
    "#### Les opérateurs arithmétiques classiques: \n",
    "\n",
    "* \\+ &#8594; addition \n",
    "* \\- &#8594; soustraction \n",
    "* \\* &#8594; multiplication  \n",
    "* / &#8594; division  \n",
    "* % &#8594; modulo  \n",
    "* // &#8594; division entière \n",
    "\n",
    "#### Tout comme Java , les raccourcis sont proposés en Python : \n",
    "\n",
    "* +=\n",
    "* -=\n",
    "* *=\n",
    "* /=\n",
    "* %=\n",
    "* //= \n",
    "\n",
    " ⚠️ Attention ! Contrairement à Java , il n'y a pas les opérateurs d'incrémentation **++** et de décrémentation **--** en Python !\n",
    "\n",
    "\n",
    "---\n",
    "\n",
    "## 📌 4. Les opérateurs de comparaison\n",
    "\n",
    "Ils permettent de comparer 2 valeurs et retournent un **booléen** (true ou false). \n",
    "\n",
    "* == &#8594; compare les valeurs  \n",
    "* is &#8594; compare les références \n",
    "* != &#8594; différent \n",
    "* \\> &#8594; supérieur  \n",
    "* < &#8594; inférieur  \n",
    "* \\>= &#8594; supérieur ou égal \n",
    "* <= &#8594; inférieur ou égal  "
   ]
  },
  {
   "cell_type": "code",
   "execution_count": 67,
   "metadata": {},
   "outputs": [
    {
     "data": {
      "text/plain": [
       "False"
      ]
     },
     "execution_count": 67,
     "metadata": {},
     "output_type": "execute_result"
    }
   ],
   "source": [
    "# Exemple d'opération \n",
    "0 == 1"
   ]
  },
  {
   "cell_type": "code",
   "execution_count": 68,
   "metadata": {},
   "outputs": [
    {
     "data": {
      "text/plain": [
       "False"
      ]
     },
     "execution_count": 68,
     "metadata": {},
     "output_type": "execute_result"
    }
   ],
   "source": [
    "'a' >= 'b'"
   ]
  },
  {
   "cell_type": "markdown",
   "metadata": {},
   "source": [
    "#### Différence entre **is** et **==** : \n",
    "\n",
    "L'opérateur **==** compare les valeurs , et non pas les références comme en Java !  C'est l'opérateur **is** qui compare si deux variables référencent le même objet en mémoire . "
   ]
  },
  {
   "cell_type": "code",
   "execution_count": null,
   "metadata": {},
   "outputs": [
    {
     "name": "stdout",
     "output_type": "stream",
     "text": [
      "True\n",
      "False\n"
     ]
    }
   ],
   "source": [
    "# Exemple de comparaison \n",
    "\n",
    "x = [1,2]\n",
    "y = [1,2]\n",
    "print(x == y)\n",
    "print(x is y )"
   ]
  },
  {
   "cell_type": "markdown",
   "metadata": {},
   "source": [
    "⚠️ Attention ! Python optimise la mémoire pour les petits entiers et certaines chaînes de caractères , donc deux variables peuvent partager la même référence.  "
   ]
  },
  {
   "cell_type": "code",
   "execution_count": null,
   "metadata": {},
   "outputs": [
    {
     "name": "stdout",
     "output_type": "stream",
     "text": [
      "True\n",
      "True\n"
     ]
    }
   ],
   "source": [
    "# Cas particulier de petits entiers\n",
    "\n",
    "x = 20\n",
    "y = 20\n",
    "print(x == y)\n",
    "print(x is y ) "
   ]
  },
  {
   "cell_type": "markdown",
   "metadata": {},
   "source": [
    "\n",
    "---\n",
    "\n",
    "## 📌 5. Les opérateurs logiques\n",
    "\n",
    "Ils retournent une valeur booléenne qualifiant la relation entre les opérandes . \n",
    "\n",
    "* and &#8594; ET\n",
    "* or &#8594; OU\n",
    "* not &#8594; NON \n"
   ]
  },
  {
   "cell_type": "code",
   "execution_count": null,
   "metadata": {},
   "outputs": [
    {
     "name": "stdout",
     "output_type": "stream",
     "text": [
      "False\n",
      "True\n",
      "True\n"
     ]
    }
   ],
   "source": [
    "# Exemples d'opérateurs logiques \n",
    "\n",
    "print(2+2== 4 and 1==2)\n",
    "print(1<2 or 'a'=='b')\n",
    "print(not False)\n"
   ]
  },
  {
   "cell_type": "markdown",
   "metadata": {},
   "source": [
    "\n",
    "---\n",
    "\n",
    "## 📌 6. Les opérateurs de concaténation\n",
    "\n",
    "En Python, l'opérateur **+** est utilisé pour concaténer des chaînes de caractères."
   ]
  },
  {
   "cell_type": "code",
   "execution_count": 4,
   "metadata": {},
   "outputs": [
    {
     "name": "stdout",
     "output_type": "stream",
     "text": [
      "vaisseau spatial\n"
     ]
    }
   ],
   "source": [
    "# Exemple de concaténation\n",
    "\n",
    "s1 = \"vaisseau\"\n",
    "s2 = \"spatial\"\n",
    "s3 = s1 + \" \" + s2 \n",
    "print(s3)"
   ]
  },
  {
   "cell_type": "markdown",
   "metadata": {},
   "source": [
    "\n",
    "---\n",
    "\n",
    "## 📌 7. L'affectation pour les objets \n",
    "\n",
    "En Python, les objets sont manipulés par **référence**. Lorsque vous affectez un objet à une variable, vous copiez la référence, pas l'objet lui-même."
   ]
  },
  {
   "cell_type": "code",
   "execution_count": 5,
   "metadata": {},
   "outputs": [
    {
     "name": "stdout",
     "output_type": "stream",
     "text": [
      "['galaxie', 'etoile', 'terre', 'nebuleuse']\n",
      "['galaxie', 'etoile', 'terre', 'nebuleuse']\n"
     ]
    }
   ],
   "source": [
    "# Exemple d'affectation \n",
    "\n",
    "espace1 = [\"galaxie\", \"etoile\", \"terre\"]\n",
    "espace2 = espace1\n",
    "\n",
    "espace2.append(\"nebuleuse\")\n",
    "\n",
    "print(espace1)\n",
    "print(espace2)"
   ]
  },
  {
   "cell_type": "markdown",
   "metadata": {},
   "source": [
    "Cette ligne **'espace2 = espace1'** fait en sorte que espace2 référence la même liste que espace1.  \n",
    "Ainsi **toute modification de espace2 affecte espace1** ! "
   ]
  },
  {
   "cell_type": "markdown",
   "metadata": {},
   "source": [
    "\n",
    "---\n",
    "##  8 . Exercice \n",
    "\n",
    "Des ennemis sont en vue ! Vous devez les attaquer, mais avant de lancer l'offensive, assurez-vous que votre vaisseau est prêt. Vérifiez que la jauge d'énergie est suffisante pour alimenter vos armes et que votre bouclier est en bon état pour vous protéger des ripostes ennemies.\n",
    "\n",
    "La jauge d'énergie doit être à au moins 50 % pour que vous puissiez tirer sur les ennemis, et le bouclier doit être opérationnel pour garantir votre défense.\n",
    "\n",
    "Complétez le programme suivant pour déterminer si l'attaque peut être lancée :"
   ]
  },
  {
   "cell_type": "code",
   "execution_count": null,
   "metadata": {},
   "outputs": [],
   "source": [
    "jauge = 52\n",
    "etat_bouclier = \"OK\"\n",
    "\n",
    "peut_attaquer = jauge ... 50 ... etat_bouclier ... ...  \n",
    "print(f\"Attaque autorisé : {...}\")  "
   ]
  },
  {
   "cell_type": "code",
   "execution_count": null,
   "metadata": {},
   "outputs": [
    {
     "name": "stdout",
     "output_type": "stream",
     "text": [
      "Attaque autorisé : True\n"
     ]
    }
   ],
   "source": [
    "# Solution \n",
    "jauge = 52\n",
    "etat_bouclier = \"OK\"\n",
    "\n",
    "peut_attaquer = jauge > 50 and etat_bouclier == \"OK\"  \n",
    "print(f\"Attaque autorisé : {peut_attaquer}\") \n",
    " "
   ]
  }
 ],
 "metadata": {
  "kernelspec": {
   "display_name": "Python 3",
   "language": "python",
   "name": "python3"
  },
  "language_info": {
   "codemirror_mode": {
    "name": "ipython",
    "version": 3
   },
   "file_extension": ".py",
   "mimetype": "text/x-python",
   "name": "python",
   "nbconvert_exporter": "python",
   "pygments_lexer": "ipython3",
   "version": "3.10.2"
  }
 },
 "nbformat": 4,
 "nbformat_minor": 2
}
