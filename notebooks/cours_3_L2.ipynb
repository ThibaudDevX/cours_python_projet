{
 "cells": [
  {
   "cell_type": "markdown",
   "metadata": {},
   "source": [
    "# 🐍 Cours 3 : Les opérateurs\n",
    "\n",
    "---\n",
    "\n",
    "Les opérateurs en Python sont des symboles ou des mots-clés permettant d'effectuer des opérations. Dans ce chapitre, nous verrons les différents types d'opérateurs agissant sur des variables et des valeurs. \n",
    "\n",
    "---\n",
    "\n",
    "## 📌 1. L'opérateur d'affichage\n",
    "\n",
    "La fonction **print()** permet d'afficher du texte ou des variables à l'écran. C'est l'équivalent de **System.out.println()** en Java. "
   ]
  },
  {
   "cell_type": "code",
   "execution_count": 63,
   "metadata": {},
   "outputs": [
    {
     "name": "stdout",
     "output_type": "stream",
     "text": [
      "Licence MIASHS\n"
     ]
    }
   ],
   "source": [
    "# Exemple d'affichage \n",
    "print(\"Licence MIASHS\")  "
   ]
  },
  {
   "cell_type": "code",
   "execution_count": 64,
   "metadata": {},
   "outputs": [
    {
     "name": "stdout",
     "output_type": "stream",
     "text": [
      "('pomme', 'banane', 'fraise')\n"
     ]
    }
   ],
   "source": [
    "# Exemple d'affichage\n",
    "x = (\"pomme\", \"banane\", \"fraise\")\n",
    "print(x)"
   ]
  },
  {
   "cell_type": "markdown",
   "metadata": {},
   "source": [
    "La fonction **f-strings** permet d'insérer des variables dans une chaîne de caractères.\n",
    "La chaînes débute par **f** et les variables sont entre **{}** . "
   ]
  },
  {
   "cell_type": "code",
   "execution_count": 65,
   "metadata": {},
   "outputs": [
    {
     "name": "stdout",
     "output_type": "stream",
     "text": [
      "Licence : MIASHS, Année : 2025\n"
     ]
    }
   ],
   "source": [
    "# Exemple de f-strings\n",
    "licence = \"MIASHS\"\n",
    "annee = 2025\n",
    "print(f\"Licence : {licence}, Année : {annee}\")  "
   ]
  },
  {
   "cell_type": "markdown",
   "metadata": {},
   "source": [
    "\n",
    "---\n",
    "\n",
    "## 📌 2. L'affectation\n",
    "\n",
    "L'affectation est réalisé via l'opérateur **=** (comme en Java).\n",
    "Il permet d'assigner une **valeur** (à droite) à  une **variable** (à gauche) . "
   ]
  },
  {
   "cell_type": "code",
   "execution_count": 66,
   "metadata": {},
   "outputs": [
    {
     "name": "stdout",
     "output_type": "stream",
     "text": [
      "22\n"
     ]
    }
   ],
   "source": [
    "x = 22\n",
    "print(x)"
   ]
  },
  {
   "cell_type": "markdown",
   "metadata": {},
   "source": [
    "\n",
    "---\n",
    "\n",
    "## 📌 3. Les opérateurs arithmétiques \n",
    "\n",
    "Ils prennent un ou plusieurs arguments et retournent une nouvelle valeur \n",
    "\n",
    "#### Les opérateurs arithmétiques classiques: \n",
    "\n",
    "    + --> addition \n",
    "    - --> soustraction \n",
    "    * --> multiplication  \n",
    "    / --> division  \n",
    "    % --> modulo  \n",
    "    // --> division entière \n",
    "\n",
    "#### Tout comme Java , les raccourcis sont proposés en Python : \n",
    "\n",
    "    +=\n",
    "    -=\n",
    "    *=\n",
    "    /=\n",
    "    %=\n",
    "    //= \n",
    "\n",
    " ⚠️ Attention ! Contrairement à Java , il n'y a pas les opérateurs d'incrémentation **++** et de décrémentation **--** en Python !\n",
    "\n",
    "\n",
    "---\n",
    "\n",
    "## 📌 4. Les opérateurs de comparaison\n",
    "\n",
    "Ils permettent de comparer 2 valeurs et retournent un **booléen** (true ou false). \n",
    "\n",
    "    == --> compare les valeurs  \n",
    "    is --> compare les références \n",
    "    != --> différent \n",
    "    > --> supérieur  \n",
    "    < --> inférieur  \n",
    "    >= --> supérieur ou égal \n",
    "    <= --> inférieur ou égal  "
   ]
  },
  {
   "cell_type": "code",
   "execution_count": 67,
   "metadata": {},
   "outputs": [
    {
     "data": {
      "text/plain": [
       "False"
      ]
     },
     "execution_count": 67,
     "metadata": {},
     "output_type": "execute_result"
    }
   ],
   "source": [
    "# Exemple d'opération \n",
    "0 == 1"
   ]
  },
  {
   "cell_type": "code",
   "execution_count": 68,
   "metadata": {},
   "outputs": [
    {
     "data": {
      "text/plain": [
       "False"
      ]
     },
     "execution_count": 68,
     "metadata": {},
     "output_type": "execute_result"
    }
   ],
   "source": [
    "'a' >= 'b'"
   ]
  },
  {
   "cell_type": "markdown",
   "metadata": {},
   "source": [
    "#### Différence entre **is** et **==** : \n",
    "\n",
    "L'opérateur **==** compare les valeurs , et non pas les références comme en Java !  C'est l'opérateur **is** qui compare si deux variables référencent le même objet en mémoire . "
   ]
  },
  {
   "cell_type": "code",
   "execution_count": 69,
   "metadata": {},
   "outputs": [
    {
     "name": "stdout",
     "output_type": "stream",
     "text": [
      "True\n",
      "False\n"
     ]
    }
   ],
   "source": [
    "# Exemple de comparaison \n",
    "x = [1,2]\n",
    "y = [1,2]\n",
    "print(x == y)\n",
    "print(x is y )"
   ]
  },
  {
   "cell_type": "markdown",
   "metadata": {},
   "source": [
    "⚠️ Attention ! Python optimise la mémoire pour les petits entiers et certaines chaînes de caractères , donc deux variables peuvent partager la même référence.  "
   ]
  },
  {
   "cell_type": "code",
   "execution_count": 70,
   "metadata": {},
   "outputs": [
    {
     "name": "stdout",
     "output_type": "stream",
     "text": [
      "True\n",
      "True\n"
     ]
    }
   ],
   "source": [
    "# Cas particulier de petits entiers\n",
    "x = 20\n",
    "y = 20\n",
    "print(x == y)\n",
    "print(x is y ) "
   ]
  },
  {
   "cell_type": "markdown",
   "metadata": {},
   "source": [
    "\n",
    "---\n",
    "\n",
    "## 📌 5. Les opérateurs logiques\n",
    "\n",
    "Ils retournent une valeur booléenne qualifiant la relation entre les opérandes . \n",
    "\n",
    "    and --> ET\n",
    "    or --> OU\n",
    "    not --> NON \n"
   ]
  },
  {
   "cell_type": "code",
   "execution_count": 71,
   "metadata": {},
   "outputs": [
    {
     "name": "stdout",
     "output_type": "stream",
     "text": [
      "False\n",
      "True\n",
      "True\n"
     ]
    }
   ],
   "source": [
    "# Exemples d'opérateurs logiques \n",
    "print(2+2== 4 and 1==2)\n",
    "print(1<2 or 'a'=='b')\n",
    "print(not False)\n"
   ]
  },
  {
   "cell_type": "markdown",
   "metadata": {},
   "source": [
    "\n",
    "---\n",
    "\n",
    "## 📌 6. Les opérateurs de concaténation\n",
    "\n",
    "En Python, l'opérateur **+** est utilisé pour concaténer des chaînes de caractères."
   ]
  },
  {
   "cell_type": "code",
   "execution_count": 72,
   "metadata": {},
   "outputs": [
    {
     "name": "stdout",
     "output_type": "stream",
     "text": [
      "Licence MIASHS\n"
     ]
    }
   ],
   "source": [
    "# Exemple de concaténation\n",
    "s1 = \"Licence\"\n",
    "s2 = \"MIASHS\"\n",
    "s3 = s1 + \" \" + s2 \n",
    "print(s3)"
   ]
  },
  {
   "cell_type": "markdown",
   "metadata": {},
   "source": [
    "\n",
    "---\n",
    "\n",
    "## 📌 7. L'affectation pour les objets \n",
    "\n",
    "En Python, les objets sont manipulés par **référence**. Lorsque vous affectez un objet à une variable, vous copiez la référence, pas l'objet lui-même."
   ]
  },
  {
   "cell_type": "code",
   "execution_count": 75,
   "metadata": {},
   "outputs": [
    {
     "name": "stdout",
     "output_type": "stream",
     "text": [
      "['pomme', 'fraise', 'banane', 'orange']\n",
      "['pomme', 'fraise', 'banane', 'orange']\n"
     ]
    }
   ],
   "source": [
    "# Exemple d'affectation \n",
    "\n",
    "listeDeCourse1 = [\"pomme\" , \"fraise\" , \"banane\"]\n",
    "listeDeCourse2 = listeDeCourse1\n",
    "\n",
    "listeDeCourse2.append(\"orange\")\n",
    "\n",
    "print(listeDeCourse1)\n",
    "print(listeDeCourse2)"
   ]
  },
  {
   "cell_type": "markdown",
   "metadata": {},
   "source": [
    "Cette ligne **'listeDeCourse2 = listeDeCourse1'** fait en sorte que listeDeCourse2 référence la même liste que listeDeCourse1.  \n",
    "Ainsi **toute modification de listeDeCourse2 affecte listeDeCourse1** ! "
   ]
  },
  {
   "cell_type": "markdown",
   "metadata": {},
   "source": [
    "# Mission: Proteger La Navette\n",
    "\n",
    "Alors que Javier vérifie les systèmes de la navette, il recoit un message d'alerte : un mystérieux vaisseau extraterrestre approche ! Pour protéger l'Étoile Filante, Javier décide de bricoler un canon laser avec les ressources disponibles. Mais ce nouveau système consomme beaucoup d'énergie, et il dois maintenant gérer la consommation totale pour éviter une panne générale.\n",
    "\n",
    "## Objectifs de la Mission :\n",
    "### Ajout du Canon Laser :\n",
    "\n",
    "Intégrer le nouveau système de défense, le canon laser, à la navette.\n",
    "Assurer que le canon laser est opérationnel et prêt à repousser toute menace extraterrestre.\n",
    "### Calcul de la Consommation Totale :\n",
    "\n",
    "Calculer la consommation d'énergie totale de tous les systèmes de la navette.\n",
    "Utiliser des opérateurs arithmétiques pour obtenir une valeur précise.\n",
    "### Surveillance des Seuils d'Énergie :\n",
    "\n",
    "Définir un seuil critique d'énergie.\n",
    "Utiliser des opérateurs de comparaison pour vérifier si la consommation totale dépasse ce seuil.\n",
    "Générer une alerte en cas de dépassement.\n",
    "### Optimisation de la Consommation :\n",
    "\n",
    "Désactiver les systèmes non essentiels si la consommation totale dépasse le seuil critique.\n",
    "Mettre à jour la consommation totale en utilisant des opérateurs d'affectation.\n",
    "### Comparaison des Consommations :\n",
    "\n",
    "Comparer la consommation d'énergie avant et après l'ajout du canon laser.\n",
    "Utiliser des opérateurs de comparaison pour évaluer l'impact du nouveau système.\n",
    "### Vérification Logique :\n",
    "\n",
    "Utiliser des opérateurs logiques pour s'assurer que la consommation totale est dans une plage acceptable.\n",
    "Afficher un message de confirmation si les conditions sont remplies.\n",
    "### Génération de Rapports :\n",
    "\n",
    "Créer des messages d'alerte ou d'information basés sur l'état de la consommation d'énergie.\n",
    "Utiliser l'opérateur de concaténation pour formater les messages.\n",
    "\n",
    "## Maintenant c'est a toi de jouer:"
   ]
  },
  {
   "cell_type": "code",
   "execution_count": null,
   "metadata": {},
   "outputs": [],
   "source": [
    "# 1. Création des systèmes existants\n",
    "systemes = {\n",
    "    \"réacteur1\": 50,\n",
    "    \"réacteur2\": 50,\n",
    "    \"système-oxygène\": 20,\n",
    "    \"ventilation\": 15,\n",
    "    \"navigation\": 30,\n",
    "    \"autopilote\": 25\n",
    "}\n",
    "\n",
    "# 2. Ajout du nouveau système\n",
    "nouveau_systeme = \"canon laser\"\n",
    "consommation_nouveau_systeme = 40  # en kWh\n",
    "\n",
    "# Ajout du nouveau système à la liste\n",
    "systemes[nouveau_systeme] = consommation_nouveau_systeme\n",
    "\n",
    "# 3. Calcul de la consommation totale\n",
    "consommation_totale = sum(systemes.values())\n",
    "\n",
    "# 4. Affichage des résultats\n",
    "print(\"Consommation d'énergie des systèmes :\")\n",
    "for systeme, consommation in systemes.items():\n",
    "    print(f\"{systeme} : {consommation} kWh\")\n",
    "\n",
    "print(f\"\\nConsommation totale d'énergie : {consommation_totale} kWh\")\n",
    "\n",
    "# 5. Gestion des seuils d'énergie\n",
    "seuil_critique = 200  # en kWh\n",
    "if consommation_totale > seuil_critique:\n",
    "    message_alerte = \"Alerte ! La consommation totale dépasse le seuil critique de \" + str(seuil_critique) + \" kWh.\"\n",
    "    print(\"\\n\" + message_alerte)\n",
    "else:\n",
    "    print(\"\\nLa consommation d'énergie est dans les limites acceptables.\")\n",
    "\n",
    "# 6. Optimisation de la consommation\n",
    "if consommation_totale > seuil_critique:\n",
    "    print(\"\\nDésactivation des systèmes non essentiels pour optimiser la consommation...\")\n",
    "    # Exemple de désactivation de systèmes non essentiels\n",
    "    systemes_non_essentiels = [\"ventilation\", \"autopilote\"]\n",
    "    for systeme in systemes_non_essentiels:\n",
    "        if systeme in systemes:\n",
    "            consommation_totale -= systemes[systeme]\n",
    "            del systemes[systeme]\n",
    "            print(f\"{systeme} désactivé.\")\n",
    "\n",
    "# 7. Comparaison des consommations\n",
    "consommation_avant = sum(systemes.values()) - consommation_nouveau_systeme\n",
    "print(f\"\\nConsommation avant l'ajout du canon laser : {consommation_avant} kWh\")\n",
    "print(f\"Consommation après l'ajout du canon laser : {consommation_totale} kWh\")\n",
    "\n",
    "# 8. Opérations logiques\n",
    "plage_acceptable = (150, 250)  # en kWh\n",
    "if plage_acceptable[0] <= consommation_totale <= plage_acceptable[1]:\n",
    "    print(\"\\nLa consommation totale est dans une plage acceptable.\")\n",
    "else:\n",
    "    print(\"\\nLa consommation totale est en dehors de la plage acceptable.\")\n",
    "\n",
    "# 9. Concaténation de messages\n",
    "message_final = \"État actuel de la consommation : \"\n",
    "if consommation_totale <= seuil_critique:\n",
    "    message_final += \"stable et sécurisé.\"\n",
    "else:\n",
    "    message_final += \"critique, optimisation en cours.\"\n",
    "\n",
    "print(\"\\n\" + message_final)\n"
   ]
  }
 ],
 "metadata": {
  "kernelspec": {
   "display_name": "Python 3",
   "language": "python",
   "name": "python3"
  },
  "language_info": {
   "codemirror_mode": {
    "name": "ipython",
    "version": 3
   },
   "file_extension": ".py",
   "mimetype": "text/x-python",
   "name": "python",
   "nbconvert_exporter": "python",
   "pygments_lexer": "ipython3",
   "version": "3.12.3"
  }
 },
 "nbformat": 4,
 "nbformat_minor": 2
}
