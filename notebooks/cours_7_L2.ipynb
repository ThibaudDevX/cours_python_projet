{
 "cells": [
  {
   "cell_type": "markdown",
   "metadata": {},
   "source": [
    "# 🐍 Cours 7 : Concepts avancées de programmation par objet \n",
    "\n",
    "---\n",
    "## 1. Le mot clé final en Python 🛑\n",
    "\n",
    "En Python, on n'a pas de mot-clé final comme en Java, mais on peut simuler ce comportement de plusieurs manières :\n",
    "\n",
    "* **Constantes**  &nbsp; : Par convention, on utilise des MAJUSCULES  \n",
    "\n",
    "* **Blocage de l'héritage** &nbsp;: Via **\\_\\_init_subclass\\_\\_**\n",
    "* **Méthodes non-redéfinissables** &nbsp;: Avec le décorateur **@final** (Python 3.8+)"
   ]
  },
  {
   "cell_type": "code",
   "execution_count": null,
   "metadata": {},
   "outputs": [],
   "source": [
    "class Vaisseau:\n",
    "    VITESSE_LUMIERE = 299792  # km/s - Convention : majuscules pour les constantes\n",
    "    __slots__ = ['nom']  # Empêche l'ajout dynamique d'attributs\n",
    "\n",
    "    def __init__(self, nom):\n",
    "        self.nom = nom"
   ]
  },
  {
   "cell_type": "code",
   "execution_count": null,
   "metadata": {},
   "outputs": [],
   "source": [
    "class SystemeExpert:\n",
    "    def __init__(self):\n",
    "        pass\n",
    "\n",
    "    def __init_subclass__(cls):\n",
    "        raise TypeError(\"Extension interdite pour SystemeExpert\")\n",
    "\n",
    "# Essai d'héritage\n",
    "try:\n",
    "    class SystemePirate(SystemeExpert):\n",
    "        pass\n",
    "except TypeError as e:\n",
    "    print(f\"Erreur : {e}\")  # Affiche \"Erreur : Extension interdite pour SystemeExpert\""
   ]
  },
  {
   "cell_type": "markdown",
   "metadata": {},
   "source": [
    "Ces mécanismes protègent l'intégrité de nos systèmes critiques (comme les modules de navigation spatiale) contre les modifications accidentelles ! \n",
    "\n",
    "\n",
    "---\n",
    "## 2. Le polymorphisme\n",
    "\n",
    "Le **polymorphisme** permet à des objets différents de répondre à la même interface. Deux types principaux :\n",
    "\n",
    "**Polymorphisme d'héritage** : Redéfinition de méthodes\n",
    "\n",
    "**Polymorphisme duck typing** : Basé sur les méthodes disponibles\n"
   ]
  },
  {
   "cell_type": "code",
   "execution_count": 1,
   "metadata": {},
   "outputs": [
    {
     "name": "stdout",
     "output_type": "stream",
     "text": [
      "Vaisseau standard X-001\n",
      "Chasseur Faucon - Prêt au combat!\n",
      "Cargo Transporteur - Capacité: 1000t\n"
     ]
    }
   ],
   "source": [
    "class Vaisseau:\n",
    "    def __init__(self, nom):\n",
    "        self.nom = nom\n",
    "    \n",
    "    def description(self):\n",
    "        return f\"Vaisseau standard {self.nom}\"\n",
    "\n",
    "class Chasseur(Vaisseau):\n",
    "    def description(self):  # Redéfinition\n",
    "        return f\"Chasseur {self.nom} - Prêt au combat!\"\n",
    "\n",
    "class Cargo(Vaisseau):\n",
    "    def description(self):  # Redéfinition\n",
    "        return f\"Cargo {self.nom} - Capacité: 1000t\"\n",
    "\n",
    "def afficher_flotte(flotte):\n",
    "    \"\"\"Fonction polymorphique\"\"\"\n",
    "    for v in flotte:\n",
    "        print(v.description())  # Appel uniforme\n",
    "\n",
    "# Test\n",
    "flotte = [\n",
    "    Vaisseau(\"X-001\"),\n",
    "    Chasseur(\"Faucon\"),\n",
    "    Cargo(\"Transporteur\")\n",
    "]\n",
    "afficher_flotte(flotte)"
   ]
  },
  {
   "cell_type": "markdown",
   "metadata": {},
   "source": [
    "\n",
    "---\n",
    "## 3. Classes et méthodes abstraites \n",
    "\n",
    "Elles permettent de créer des modèles incomplets qu'on doit implémenter.  \n",
    "Une classe abstraite  :\n",
    "\n",
    "* Ne peut pas être instanciée\n",
    "\n",
    "* Définit une interface commune\n",
    "\n",
    "* Peut contenir des méthodes implémentées"
   ]
  },
  {
   "cell_type": "code",
   "execution_count": 2,
   "metadata": {},
   "outputs": [
    {
     "name": "stdout",
     "output_type": "stream",
     "text": [
      "Entrée dans l'hyperespace!\n",
      "Boucliers activés à 100%\n"
     ]
    }
   ],
   "source": [
    "from abc import ABC, abstractmethod\n",
    "\n",
    "class ModuleVaisseau(ABC):\n",
    "    @abstractmethod\n",
    "    def activer(self):\n",
    "        pass\n",
    "\n",
    "class Hyperdrive(ModuleVaisseau):\n",
    "    def activer(self):\n",
    "        return \"Entrée dans l'hyperespace!\"\n",
    "\n",
    "class Bouclier(ModuleVaisseau):\n",
    "    def activer(self):\n",
    "        return \"Boucliers activés à 100%\"\n",
    "\n",
    "# Test\n",
    "modules = [Hyperdrive(), Bouclier()]\n",
    "for module in modules:\n",
    "    print(module.activer())"
   ]
  },
  {
   "cell_type": "markdown",
   "metadata": {},
   "source": [
    "\n",
    "---\n",
    "## 4. Les interfaces en Python\n",
    "\n",
    "Python n'a pas d'interfaces natives mais propose 3 approches :\n",
    "\n",
    "* Classes abstraites (comme ci-dessus)\n",
    "\n",
    "* Protocols (Python 3.8+)\n",
    "\n",
    "* Duck typing pur\n",
    "\n",
    "\n"
   ]
  },
  {
   "cell_type": "code",
   "execution_count": null,
   "metadata": {},
   "outputs": [],
   "source": [
    "from abc import ABC, abstractmethod  # Import nécessaire pour les classes abstraites\n",
    "\n",
    "# 1. CLASSE ABSTRAITE \n",
    "class ModuleVaisseau(ABC):  # Hérite de ABC pour créer une classe abstraite\n",
    "    \"\"\"Interface abstraite définissant le contrat que doivent respecter tous les modules\"\"\"\n",
    "    \n",
    "    @abstractmethod  # Décorateur qui marque la méthode comme abstraite\n",
    "    def activer(self):\n",
    "        \"\"\"Méthode abstraite qui doit être implémentée par toutes les sous-classes\"\"\"\n",
    "        pass  # Pas d'implémentation ici\n",
    "\n",
    "\n",
    "# 2. UTILISATION IMPLICITE DE DUCK TYPING \n",
    "# le duck typing - \"si ça marche comme un ModuleVaisseau, alors c'est un ModuleVaisseau\"\n",
    "\n",
    "class Hyperdrive(ModuleVaisseau):  # Hérite de la classe abstraite\n",
    "    \"\"\"Implémentation concrète pour le module hyperdrive\"\"\"\n",
    "    \n",
    "    def activer(self):  # Implémentation concrète de la méthode abstraite\n",
    "        return \"Entrée dans l'hyperespace!\"\n",
    "\n",
    "\n",
    "class Bouclier(ModuleVaisseau):  # Hérite de la classe abstraite\n",
    "    \"\"\"Implémentation concrète pour le module bouclier\"\"\"\n",
    "    \n",
    "    def activer(self):  # Implémentation concrète de la méthode abstraite\n",
    "        return \"Boucliers activés à 100%\"\n",
    "\n",
    "# Test démontrant le polymorphisme\n",
    "modules = [Hyperdrive(), Bouclier()]  # Liste de différents modules\n",
    "for module in modules:\n",
    "    # Appel polymorphique - chaque module sait comment s'activer\n",
    "    print(module.activer())  \n",
    "    # Malgré le type différent, l'interface commune permet un traitement uniforme"
   ]
  },
  {
   "cell_type": "markdown",
   "metadata": {},
   "source": [
    "\n",
    "---\n",
    "\n",
    "## 5. Exercice : Système de drones 🛸\n",
    "\n",
    "Après sa transformation en IA, Javier découvre qu’il peut contrôler les drones du vaisseau.\n",
    "Il doit créer une hiérarchie de drones pour :\n",
    "\n",
    "* Définir un comportement commun (décollage)\n",
    "\n",
    "* Spécialiser les drones (combat vs transport)\n",
    "\n",
    "* Gérer leur recharge (interface énergétique)"
   ]
  },
  {
   "cell_type": "code",
   "execution_count": null,
   "metadata": {},
   "outputs": [
    {
     "name": "stdout",
     "output_type": "stream",
     "text": [
      "Décollage en mode furtif\n",
      "Décollage avec chargement\n"
     ]
    }
   ],
   "source": [
    "from abc import ABC, abstractmethod\n",
    "\n",
    "# À compléter...\n",
    "class Drone(ABC): \n",
    "    # ...\n",
    "   # ... \n",
    "        pass\n",
    "\n",
    "class \n",
    "    # ...\n",
    "        return \"Décollage en mode furtif\"\n",
    "\n",
    "class \n",
    "   # ...\n",
    "        return \"Décollage avec chargement\"\n",
    "\n",
    "# Interface Rechargeable\n",
    "class # ... \n",
    "    # ...\n",
    "    # ...\n",
    "        pass\n",
    "\n",
    "# Test\n",
    "drone1 = # ...\n",
    "drone2 = # ...\n",
    "print(#drone1.)\n",
    "print(#drone2.)"
   ]
  },
  {
   "cell_type": "code",
   "execution_count": null,
   "metadata": {},
   "outputs": [],
   "source": [
    "# Solution \n",
    "\n",
    "from abc import ABC, abstractmethod\n",
    "\n",
    "# Classe abstraite Drone\n",
    "class Drone(ABC):\n",
    "    @abstractmethod\n",
    "    def decoller(self):\n",
    "        # Méthode abstraite à implémenter dans les sous-classes\n",
    "        pass\n",
    "\n",
    "# Sous-classe spécialisée DroneCombat\n",
    "class DroneCombat(Drone):\n",
    "    def decoller(self):\n",
    "        # Implémentez la méthode decoller pour DroneCombat\n",
    "        return \"Décollage en mode furtif\"\n",
    "\n",
    "# Sous-classe spécialisée DroneTransport\n",
    "class DroneTransport(Drone):\n",
    "    def decoller(self):\n",
    "        # Implémentez la méthode decoller pour DroneTransport\n",
    "        return \"Décollage avec chargement\"\n",
    "\n",
    "# Interface Rechargeable\n",
    "class Rechargeable(ABC):\n",
    "    @abstractmethod\n",
    "    def recharger(self):\n",
    "        # Méthode abstraite pour la recharge\n",
    "        pass\n",
    "\n",
    "# Test\n",
    "drone1 = DroneCombat()\n",
    "drone2 = DroneTransport()\n",
    "print(drone1.decoller())  # Devrait afficher \"Décollage en mode furtif\"\n",
    "print(drone2.decoller())  # Devrait afficher \"Décollage avec chargement\"\n"
   ]
  }
 ],
 "metadata": {
  "kernelspec": {
   "display_name": "Python 3",
   "language": "python",
   "name": "python3"
  },
  "language_info": {
   "codemirror_mode": {
    "name": "ipython",
    "version": 3
   },
   "file_extension": ".py",
   "mimetype": "text/x-python",
   "name": "python",
   "nbconvert_exporter": "python",
   "pygments_lexer": "ipython3",
   "version": "3.10.2"
  }
 },
 "nbformat": 4,
 "nbformat_minor": 2
}
